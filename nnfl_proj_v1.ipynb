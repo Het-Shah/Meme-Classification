{
  "nbformat": 4,
  "nbformat_minor": 0,
  "metadata": {
    "colab": {
      "name": "nnfl_proj_v1.ipynb",
      "provenance": [],
      "collapsed_sections": [
        "SfxTUm4VZHoZ"
      ],
      "toc_visible": true,
      "machine_shape": "hm",
      "include_colab_link": true
    },
    "kernelspec": {
      "name": "python3",
      "display_name": "Python 3"
    },
    "accelerator": "GPU"
  },
  "cells": [
    {
      "cell_type": "markdown",
      "metadata": {
        "id": "view-in-github",
        "colab_type": "text"
      },
      "source": [
        "<a href=\"https://colab.research.google.com/github/Het-Shah/Meme-Classification/blob/master/nnfl_proj_v1.ipynb\" target=\"_parent\"><img src=\"https://colab.research.google.com/assets/colab-badge.svg\" alt=\"Open In Colab\"/></a>"
      ]
    },
    {
      "cell_type": "code",
      "metadata": {
        "id": "BGYRNSWnmECs",
        "colab_type": "code",
        "outputId": "ad915abe-92a0-417b-92c0-f95ab192f26d",
        "colab": {
          "base_uri": "https://localhost:8080/",
          "height": 583
        }
      },
      "source": [
        "!nvidia-smi\n",
        "import tensorflow as tf\n",
        "\n",
        "device_name = tf.test.gpu_device_name()\n",
        "if device_name != '/device:GPU:0':\n",
        "  raise SystemError('GPU device not found')\n",
        "print('Found GPU at: {}'.format(device_name))\n",
        "\n",
        "device = torch.device(\"cuda\" if torch.cuda.is_available() else \"cpu\")\n",
        "n_gpu = torch.cuda.device_count()\n",
        "torch.cuda.get_device_name(0)"
      ],
      "execution_count": 0,
      "outputs": [
        {
          "output_type": "stream",
          "text": [
            "Mon Nov 25 18:47:40 2019       \n",
            "+-----------------------------------------------------------------------------+\n",
            "| NVIDIA-SMI 440.33.01    Driver Version: 418.67       CUDA Version: 10.1     |\n",
            "|-------------------------------+----------------------+----------------------+\n",
            "| GPU  Name        Persistence-M| Bus-Id        Disp.A | Volatile Uncorr. ECC |\n",
            "| Fan  Temp  Perf  Pwr:Usage/Cap|         Memory-Usage | GPU-Util  Compute M. |\n",
            "|===============================+======================+======================|\n",
            "|   0  Tesla K80           Off  | 00000000:00:04.0 Off |                    0 |\n",
            "| N/A   67C    P8    32W / 149W |      0MiB / 11441MiB |      0%      Default |\n",
            "+-------------------------------+----------------------+----------------------+\n",
            "                                                                               \n",
            "+-----------------------------------------------------------------------------+\n",
            "| Processes:                                                       GPU Memory |\n",
            "|  GPU       PID   Type   Process name                             Usage      |\n",
            "|=============================================================================|\n",
            "|  No running processes found                                                 |\n",
            "+-----------------------------------------------------------------------------+\n"
          ],
          "name": "stdout"
        },
        {
          "output_type": "display_data",
          "data": {
            "text/html": [
              "<p style=\"color: red;\">\n",
              "The default version of TensorFlow in Colab will soon switch to TensorFlow 2.x.<br>\n",
              "We recommend you <a href=\"https://www.tensorflow.org/guide/migrate\" target=\"_blank\">upgrade</a> now \n",
              "or ensure your notebook will continue to use TensorFlow 1.x via the <code>%tensorflow_version 1.x</code> magic:\n",
              "<a href=\"https://colab.research.google.com/notebooks/tensorflow_version.ipynb\" target=\"_blank\">more info</a>.</p>\n"
            ],
            "text/plain": [
              "<IPython.core.display.HTML object>"
            ]
          },
          "metadata": {
            "tags": []
          }
        },
        {
          "output_type": "stream",
          "text": [
            "Found GPU at: /device:GPU:0\n"
          ],
          "name": "stdout"
        },
        {
          "output_type": "error",
          "ename": "NameError",
          "evalue": "ignored",
          "traceback": [
            "\u001b[0;31m---------------------------------------------------------------------------\u001b[0m",
            "\u001b[0;31mNameError\u001b[0m                                 Traceback (most recent call last)",
            "\u001b[0;32m<ipython-input-1-7a3e7a696de1>\u001b[0m in \u001b[0;36m<module>\u001b[0;34m()\u001b[0m\n\u001b[1;32m      7\u001b[0m \u001b[0mprint\u001b[0m\u001b[0;34m(\u001b[0m\u001b[0;34m'Found GPU at: {}'\u001b[0m\u001b[0;34m.\u001b[0m\u001b[0mformat\u001b[0m\u001b[0;34m(\u001b[0m\u001b[0mdevice_name\u001b[0m\u001b[0;34m)\u001b[0m\u001b[0;34m)\u001b[0m\u001b[0;34m\u001b[0m\u001b[0;34m\u001b[0m\u001b[0m\n\u001b[1;32m      8\u001b[0m \u001b[0;34m\u001b[0m\u001b[0m\n\u001b[0;32m----> 9\u001b[0;31m \u001b[0mdevice\u001b[0m \u001b[0;34m=\u001b[0m \u001b[0mtorch\u001b[0m\u001b[0;34m.\u001b[0m\u001b[0mdevice\u001b[0m\u001b[0;34m(\u001b[0m\u001b[0;34m\"cuda\"\u001b[0m \u001b[0;32mif\u001b[0m \u001b[0mtorch\u001b[0m\u001b[0;34m.\u001b[0m\u001b[0mcuda\u001b[0m\u001b[0;34m.\u001b[0m\u001b[0mis_available\u001b[0m\u001b[0;34m(\u001b[0m\u001b[0;34m)\u001b[0m \u001b[0;32melse\u001b[0m \u001b[0;34m\"cpu\"\u001b[0m\u001b[0;34m)\u001b[0m\u001b[0;34m\u001b[0m\u001b[0;34m\u001b[0m\u001b[0m\n\u001b[0m\u001b[1;32m     10\u001b[0m \u001b[0mn_gpu\u001b[0m \u001b[0;34m=\u001b[0m \u001b[0mtorch\u001b[0m\u001b[0;34m.\u001b[0m\u001b[0mcuda\u001b[0m\u001b[0;34m.\u001b[0m\u001b[0mdevice_count\u001b[0m\u001b[0;34m(\u001b[0m\u001b[0;34m)\u001b[0m\u001b[0;34m\u001b[0m\u001b[0;34m\u001b[0m\u001b[0m\n\u001b[1;32m     11\u001b[0m \u001b[0mtorch\u001b[0m\u001b[0;34m.\u001b[0m\u001b[0mcuda\u001b[0m\u001b[0;34m.\u001b[0m\u001b[0mget_device_name\u001b[0m\u001b[0;34m(\u001b[0m\u001b[0;36m0\u001b[0m\u001b[0;34m)\u001b[0m\u001b[0;34m\u001b[0m\u001b[0;34m\u001b[0m\u001b[0m\n",
            "\u001b[0;31mNameError\u001b[0m: name 'torch' is not defined"
          ]
        }
      ]
    },
    {
      "cell_type": "code",
      "metadata": {
        "id": "Mu_jbNaIqK-W",
        "colab_type": "code",
        "colab": {}
      },
      "source": [
        "# !pip install pytorch-transformers\n",
        "pip install langdetect"
      ],
      "execution_count": 0,
      "outputs": []
    },
    {
      "cell_type": "code",
      "metadata": {
        "id": "DcSBTppCXKqT",
        "colab_type": "code",
        "outputId": "fe2133c3-ee3e-495d-de06-9fee3a24672f",
        "colab": {
          "base_uri": "https://localhost:8080/",
          "height": 50
        }
      },
      "source": [
        "!pip install pillow\n",
        "from PIL import ImageFile\n",
        "ImageFile.LOAD_TRUNCATED_IMAGES = True"
      ],
      "execution_count": 0,
      "outputs": [
        {
          "output_type": "stream",
          "text": [
            "Requirement already satisfied: pillow in /usr/local/lib/python3.6/dist-packages (4.3.0)\n",
            "Requirement already satisfied: olefile in /usr/local/lib/python3.6/dist-packages (from pillow) (0.46)\n"
          ],
          "name": "stdout"
        }
      ]
    },
    {
      "cell_type": "code",
      "metadata": {
        "id": "O-jnMScPb3u4",
        "colab_type": "code",
        "outputId": "267258c3-49a2-416c-8c77-1046459b54bc",
        "colab": {
          "base_uri": "https://localhost:8080/",
          "height": 180
        }
      },
      "source": [
        "import os\n",
        "import time\n",
        "import numpy as np\n",
        "import pandas as pd\n",
        "import matplotlib.pyplot as plt\n",
        "from PIL import Image\n",
        "import cv2\n",
        "\n",
        "import re\n",
        "import string\n",
        "import nltk\n",
        "from nltk.stem import WordNetLemmatizer\n",
        "from nltk.tokenize import word_tokenize\n",
        "from nltk.corpus import stopwords\n",
        "from nltk.corpus import stopwords\n",
        "from nltk.stem import PorterStemmer, SnowballStemmer\n",
        "from nltk.tokenize import TweetTokenizer\n",
        "nltk.download('stopwords')\n",
        "nltk.download('punkt')\n",
        "nltk.download('wordnet')\n",
        "\n",
        "import keras\n",
        "from keras.models import Model, Sequential\n",
        "from keras.layers import Dense, GlobalAveragePooling2D, Input, Embedding, Bidirectional, LSTM, Flatten, concatenate, Dropout, Conv2D, MaxPool2D, BatchNormalization, LeakyReLU, GRU\n",
        "from keras import optimizers\n",
        "from keras.callbacks import LearningRateScheduler, ModelCheckpoint\n",
        "from keras.applications.inception_resnet_v2 import InceptionResNetV2\n",
        "from keras.applications.vgg19 import VGG19\n",
        "from keras.applications.vgg16 import VGG16\n",
        "from keras.preprocessing.text import one_hot\n",
        "from keras.preprocessing.sequence import pad_sequences\n",
        "from keras.preprocessing import image\n",
        "from keras.applications.resnet50 import preprocess_input, decode_predictions\n",
        "from sklearn.feature_extraction.text import CountVectorizer\n",
        "from keras.preprocessing.text import Tokenizer\n",
        "from keras.applications.resnet import ResNet50\n",
        "\n",
        "import torch \n",
        "import torchvision\n",
        "from torch.utils.data import Dataset, DataLoader\n",
        "from torch.utils.data import TensorDataset, DataLoader, RandomSampler, SequentialSampler\n",
        "from torchvision import transforms, utils\n",
        "import torch.nn as nn\n",
        "import torch.nn.functional as F\n",
        "import torchvision.models as models\n",
        "# from pytorch_transformers import XLNetModel, XLNetTokenizer, XLNetForSequenceClassification\n",
        "# from pytorch_transformers import AdamW\n",
        "\n",
        "from tqdm import tqdm, trange\n",
        "from sklearn.model_selection import train_test_split\n",
        "from sklearn.metrics import confusion_matrix, f1_score, precision_score, recall_score, accuracy_score\n",
        "\n",
        "import copy\n",
        "import warnings\n",
        "warnings.filterwarnings('ignore')\n",
        "from PIL import Image\n",
        "\n",
        "%matplotlib inline"
      ],
      "execution_count": 0,
      "outputs": [
        {
          "output_type": "stream",
          "text": [
            "[nltk_data] Downloading package stopwords to /root/nltk_data...\n",
            "[nltk_data]   Unzipping corpora/stopwords.zip.\n",
            "[nltk_data] Downloading package punkt to /root/nltk_data...\n",
            "[nltk_data]   Unzipping tokenizers/punkt.zip.\n",
            "[nltk_data] Downloading package wordnet to /root/nltk_data...\n",
            "[nltk_data]   Unzipping corpora/wordnet.zip.\n"
          ],
          "name": "stdout"
        },
        {
          "output_type": "stream",
          "text": [
            "Using TensorFlow backend.\n"
          ],
          "name": "stderr"
        },
        {
          "output_type": "display_data",
          "data": {
            "text/html": [
              "<p style=\"color: red;\">\n",
              "The default version of TensorFlow in Colab will soon switch to TensorFlow 2.x.<br>\n",
              "We recommend you <a href=\"https://www.tensorflow.org/guide/migrate\" target=\"_blank\">upgrade</a> now \n",
              "or ensure your notebook will continue to use TensorFlow 1.x via the <code>%tensorflow_version 1.x</code> magic:\n",
              "<a href=\"https://colab.research.google.com/notebooks/tensorflow_version.ipynb\" target=\"_blank\">more info</a>.</p>\n"
            ],
            "text/plain": [
              "<IPython.core.display.HTML object>"
            ]
          },
          "metadata": {
            "tags": []
          }
        }
      ]
    },
    {
      "cell_type": "code",
      "metadata": {
        "id": "FMrVnU8gcC32",
        "colab_type": "code",
        "outputId": "f050b18f-6c3c-40a2-bd9f-52c5688034d4",
        "colab": {
          "base_uri": "https://localhost:8080/",
          "height": 121
        }
      },
      "source": [
        "from google.colab import drive\n",
        "drive.mount('/content/drive')"
      ],
      "execution_count": 0,
      "outputs": [
        {
          "output_type": "stream",
          "text": [
            "Go to this URL in a browser: https://accounts.google.com/o/oauth2/auth?client_id=947318989803-6bn6qk8qdgf4n4g3pfee6491hc0brc4i.apps.googleusercontent.com&redirect_uri=urn%3aietf%3awg%3aoauth%3a2.0%3aoob&response_type=code&scope=email%20https%3a%2f%2fwww.googleapis.com%2fauth%2fdocs.test%20https%3a%2f%2fwww.googleapis.com%2fauth%2fdrive%20https%3a%2f%2fwww.googleapis.com%2fauth%2fdrive.photos.readonly%20https%3a%2f%2fwww.googleapis.com%2fauth%2fpeopleapi.readonly\n",
            "\n",
            "Enter your authorization code:\n",
            "··········\n",
            "Mounted at /content/drive\n"
          ],
          "name": "stdout"
        }
      ]
    },
    {
      "cell_type": "markdown",
      "metadata": {
        "id": "ZVsaWopabplE",
        "colab_type": "text"
      },
      "source": [
        "# Pickle imports"
      ]
    },
    {
      "cell_type": "code",
      "metadata": {
        "id": "xyBahvfcj6oX",
        "colab_type": "code",
        "colab": {}
      },
      "source": [
        "import pickle \n",
        "with open('/content/drive/My Drive/nnfl_pkls/img.pkl', 'rb') as f:\n",
        "  X_img = pickle.load(f)\n",
        "\n",
        "with open('/content/drive/My Drive/nnfl_pkls/taskA.pkl','rb') as f:\n",
        "  y1 = pickle.load(f)\n",
        "\n",
        "with open('/content/drive/My Drive/nnfl_pkls/taskB.pkl','rb') as f:\n",
        "  y2 = pickle.load(f)\n",
        "\n",
        "with open('/content/drive/My Drive/nnfl_pkls/taskC.pkl','rb') as f:\n",
        "  y3 = pickle.load(f)\n",
        "\n",
        "with open('/content/drive/My Drive/nnfl_pkls/dataframe.pkl','rb') as f:\n",
        "  df = pickle.load(f)"
      ],
      "execution_count": 0,
      "outputs": []
    },
    {
      "cell_type": "code",
      "metadata": {
        "id": "BKjKf5fYkfDl",
        "colab_type": "code",
        "colab": {}
      },
      "source": [
        "with open('/content/drive/My Drive/nnfl_pkls/text.pkl','rb') as f:\n",
        "  X_text = pickle.load(f)"
      ],
      "execution_count": 0,
      "outputs": []
    },
    {
      "cell_type": "markdown",
      "metadata": {
        "id": "TnaEu-a58piO",
        "colab_type": "text"
      },
      "source": [
        "# Pre processing and pytorch"
      ]
    },
    {
      "cell_type": "code",
      "metadata": {
        "id": "N1c1MROlpnT1",
        "colab_type": "code",
        "outputId": "fe59ba19-e73d-49b7-d1a3-4ca3df6eb226",
        "colab": {
          "base_uri": "https://localhost:8080/",
          "height": 34
        }
      },
      "source": [
        "text = \"10 YEAR CHALLENGE WITH NO FILTER 47 Hilarious 10 Year Challenge Memes | What is #10 Year Challenge? \"\n",
        "text = re.sub(r'[%s]' % re.escape(string.punctuation), '', text)\n",
        "text = re.sub(r'^\\w+',\" \", text)\n",
        "text = re.sub(r'\\d+', \" \", text)\n",
        "print(text)"
      ],
      "execution_count": 0,
      "outputs": [
        {
          "output_type": "stream",
          "text": [
            "  YEAR CHALLENGE WITH NO FILTER   Hilarious   Year Challenge Memes  What is   Year Challenge \n"
          ],
          "name": "stdout"
        }
      ]
    },
    {
      "cell_type": "code",
      "metadata": {
        "id": "xATlnaFbcZDM",
        "colab_type": "code",
        "colab": {}
      },
      "source": [
        "df = pd.read_csv(\"/content/drive/My Drive/data_7000_new.csv\",header=None,names=[\"imgname\",\"imgpath\",\"imgtext1\",\"imgtext2\",\"funniness\",\"sarcasm\",\"offense\",\"motivation\",\"sentiment\"])\n",
        "# df.head()\n",
        "df = df.sample(frac=1).reset_index(drop=True)"
      ],
      "execution_count": 0,
      "outputs": []
    },
    {
      "cell_type": "code",
      "metadata": {
        "id": "6Sm3-e3cSpOD",
        "colab_type": "code",
        "colab": {}
      },
      "source": [
        "import string\n",
        "def preprocessing(text):\n",
        "  text = text.lower()\n",
        "  text = re.sub(r'[a-z]+.com',\" \",text)\n",
        "  text = re.sub(r'[a-z]+.net', \" \", text)\n",
        "  text = re.sub(r'www.[a-z]+', \" \", text)\n",
        "  text = re.sub(r'[%s]' % re.escape(string.punctuation), '', text)\n",
        "  text = re.sub(r'^\\w+',\" \", text)\n",
        "  # text = text.translate(None, string.punctuation)\n",
        "  # text = re.sub(r'\\d+', \" \", text)\n",
        "  text = text.strip()\n",
        "  return text"
      ],
      "execution_count": 0,
      "outputs": []
    },
    {
      "cell_type": "code",
      "metadata": {
        "id": "KvS-g4YY25YA",
        "colab_type": "code",
        "colab": {}
      },
      "source": [
        "def clean_tweets(tweet):\n",
        "    tweet = re.sub('@(\\\\w{1,15})\\b', '', str(tweet))\n",
        "    tweet = tweet.replace(\"via \", \"\")\n",
        "    tweet = tweet.replace(\"RT \", \"\")\n",
        "    tweet = tweet.lower()\n",
        "    return tweet\n",
        "    \n",
        "def clean_url(tweet):\n",
        "    tweet = re.sub('http\\\\S+', '', tweet, flags=re.MULTILINE)   \n",
        "    tweet = re.sub(r'[a-z]+.com', '', tweet)\n",
        "    tweet = re.sub(r'[a-z]+.net', '', tweet)\n",
        "    tweet = re.sub(r'www.[a-z]+', '', tweet)\n",
        "    return tweet\n",
        "    \n",
        "def remove_stop_words(tweet):\n",
        "    stops = set(stopwords.words(\"english\"))\n",
        "    stops.update(['.',',','\"',\"'\",'?',':',';','(',')','[',']','{','}'])\n",
        "    toks = [tok for tok in tweet if not tok in stops and len(tok) >= 3]\n",
        "    return toks\n",
        "    \n",
        "def stemming_tweets(tweet):\n",
        "    stemmer = SnowballStemmer('english')\n",
        "    stemmed_words = [stemmer.stem(word) for word in tweet]\n",
        "    return stemmed_words\n",
        "\n",
        "def remove_number(tweet):\n",
        "    newTweet = re.sub('\\\\d+', '', tweet)\n",
        "    return newTweet\n",
        "\n",
        "def remove_hashtags(tweet):\n",
        "    result = ''\n",
        "\n",
        "    for word in tweet.split():\n",
        "        if word.startswith('#') or word.startswith('@'):\n",
        "            result += word[1:]\n",
        "            result += ' '\n",
        "        else:\n",
        "            result += word\n",
        "            result += ' '\n",
        "\n",
        "    return result\n",
        "\n",
        "def preprocessing(tweet, swords = True, url = True, stemming = False, ctweets = True, number = True, hashtag = True):\n",
        "\n",
        "    if ctweets:\n",
        "        tweet = clean_tweets(tweet)\n",
        "\n",
        "    if url:\n",
        "        tweet = clean_url(tweet)\n",
        "\n",
        "    if hashtag:\n",
        "        tweet = remove_hashtags(tweet)\n",
        "    \n",
        "    twtk = TweetTokenizer(strip_handles=True, reduce_len=True)\n",
        "\n",
        "    if number:\n",
        "        tweet = remove_number(tweet)\n",
        "    \n",
        "    tokens = [w.lower() for w in twtk.tokenize(tweet) if w != \"\" and w is not None]\n",
        "\n",
        "    if swords:\n",
        "        tokens = remove_stop_words(tokens)\n",
        "\n",
        "    if stemming:\n",
        "        tokens = stemming_tweets(tokens)\n",
        "\n",
        "    text = \" \".join(tokens)\n",
        "\n",
        "    return text"
      ],
      "execution_count": 0,
      "outputs": []
    },
    {
      "cell_type": "code",
      "metadata": {
        "id": "BWbcckflGazw",
        "colab_type": "code",
        "colab": {}
      },
      "source": [
        "# for i in range(len(df)):\n",
        "#   if df.offense[i] == \"not_motivational\":\n",
        "#     df.sentiment[i] = df.motivation[i]\n",
        "#     df.motivation[i] = \"not_motivational\"\n",
        "#     df.offense[i] = df.sarcasm[i]\n",
        "#   if df.offense[i] == \"motivational\":\n",
        "#     df.sentiment[i] = df.motivation[i]\n",
        "#     df.motivation[i] = \"motivational\"\n",
        "#     df.offense[i] = df.sarcasm[i]\n",
        "#   if df.sarcasm[i] == \"motivational\":\n",
        "#     df.motivation[i] = \"motivational\"\n",
        "#     df.sentiment[i] = df.offense[i]\n",
        "#     df.offense[i] = df.funniness[i]\n",
        "#   if df.sarcasm[i] == \"not_motivational\":\n",
        "#     df.motivation[i] = \"not_motivational\"\n",
        "#     df.sentiment[i] = df.offense[i]\n",
        "#     df.offense[i] = df.funniness[i]\n",
        "#   if df.sentiment[i] == \"positivechandler_Friday-Mood-AF.-meme-Friends-ChandlerBing.jpg\":\n",
        "#     df.sentiment[i] = \"positive\"\n",
        "#   if df.imgtext2[i] == \"not_funny\":\n",
        "#     df.imgtext2[i] = df.imgtext1[i]\n",
        "#   if df.imgtext2[i] == \"funny\":\n",
        "#     df.imgtext2[i] = df.imgtext1[i]\n",
        "#   if df.imgtext2[i] == \"very_funny\":\n",
        "#     df.imgtext2[i] = df.imgtext1[i]\n",
        "#   if df.imgtext2[i] == \"hilarious\":\n",
        "#     df.imgtext2[i] = df.imgtext1[i]\n",
        "#   if df.imgtext2[i] == \"<html><head><meta content=\\\"text/html; charset=UTF-8\\\" http-equiv=\\\"content-type\\\"><style type=\\\"text/css\\\">ol{margin:0;padding:0}table td\" :\n",
        "#     df.imgtext2[i] = \" \"\n",
        "\n",
        "# df = df.drop_duplicates(subset='imgname', keep='last').reset_index(drop=True)\n",
        "# df = df.drop(labels=[\"imgpath\", \"imgtext1\"],axis=1).reset_index(drop=True)\n",
        "df['new_text'] = df.imgtext2.astype('str').apply(preprocessing)\n",
        "\n",
        "# moti = {\"not_motivational\": 0, \"motivational\": 1}\n",
        "# off = {\"not_offensive\": 0 , \"slight\" : 1, \"very_offensive\": 2, \"hateful_offensive\": 3}\n",
        "# sent = {\"very_positive\": 0, \"positive\": 1, \"neutral\": 2, \"negative\": 3, \"very_negative\": 4}\n",
        "\n",
        "# df['taskA'] = [moti[i] for i in df.motivation]\n",
        "# df['taskB'] = [off[i] for i in df.offense]\n",
        "# df['taskC'] = [sent[i] for i in df.sentiment]"
      ],
      "execution_count": 0,
      "outputs": []
    },
    {
      "cell_type": "code",
      "metadata": {
        "id": "wZm4H6_SIhOP",
        "colab_type": "code",
        "colab": {}
      },
      "source": [
        "from langdetect import detect\n",
        "# print(df.new_text[0])\n",
        "# # detect(df.new_text[0])\n",
        "temp = []\n",
        "for i in df.new_text:\n",
        "  try:\n",
        "    temp.append(detect(i))\n",
        "  except:\n",
        "    temp.append('en')\n",
        "# df['language'] = [detect(i) for i in df.new_text]"
      ],
      "execution_count": 0,
      "outputs": []
    },
    {
      "cell_type": "code",
      "metadata": {
        "id": "uG414Q_lIthC",
        "colab_type": "code",
        "outputId": "1c8e4c79-603b-40f6-bdbc-5f6e7557bd2f",
        "colab": {
          "base_uri": "https://localhost:8080/",
          "height": 534
        }
      },
      "source": [
        "# df['language'] = temp\n",
        "# df.language.value_counts()\n",
        "df.head()"
      ],
      "execution_count": 0,
      "outputs": [
        {
          "output_type": "execute_result",
          "data": {
            "text/html": [
              "<div>\n",
              "<style scoped>\n",
              "    .dataframe tbody tr th:only-of-type {\n",
              "        vertical-align: middle;\n",
              "    }\n",
              "\n",
              "    .dataframe tbody tr th {\n",
              "        vertical-align: top;\n",
              "    }\n",
              "\n",
              "    .dataframe thead th {\n",
              "        text-align: right;\n",
              "    }\n",
              "</style>\n",
              "<table border=\"1\" class=\"dataframe\">\n",
              "  <thead>\n",
              "    <tr style=\"text-align: right;\">\n",
              "      <th></th>\n",
              "      <th>imgname</th>\n",
              "      <th>imgtext2</th>\n",
              "      <th>funniness</th>\n",
              "      <th>sarcasm</th>\n",
              "      <th>offense</th>\n",
              "      <th>motivation</th>\n",
              "      <th>sentiment</th>\n",
              "      <th>new_text</th>\n",
              "      <th>taskA</th>\n",
              "      <th>taskB</th>\n",
              "      <th>taskC</th>\n",
              "    </tr>\n",
              "  </thead>\n",
              "  <tbody>\n",
              "    <tr>\n",
              "      <th>0</th>\n",
              "      <td>10_year_2r94rv.jpg</td>\n",
              "      <td>LOOK THERE MY FRIEND LIGHTYEAR NOW ALL SOHALIK...</td>\n",
              "      <td>hilarious</td>\n",
              "      <td>general</td>\n",
              "      <td>not_offensive</td>\n",
              "      <td>not_motivational</td>\n",
              "      <td>very_positive</td>\n",
              "      <td>there my friend lightyear now all sohalikut tr...</td>\n",
              "      <td>0</td>\n",
              "      <td>0</td>\n",
              "      <td>0</td>\n",
              "    </tr>\n",
              "    <tr>\n",
              "      <th>1</th>\n",
              "      <td>10_year_10-year-challenge_1547788782.jpeg</td>\n",
              "      <td>The best of #10 YearChallenge! Completed in le...</td>\n",
              "      <td>not_funny</td>\n",
              "      <td>general</td>\n",
              "      <td>not_offensive</td>\n",
              "      <td>motivational</td>\n",
              "      <td>very_positive</td>\n",
              "      <td>best of   yearchallenge completed in less the ...</td>\n",
              "      <td>1</td>\n",
              "      <td>0</td>\n",
              "      <td>0</td>\n",
              "    </tr>\n",
              "    <tr>\n",
              "      <th>2</th>\n",
              "      <td>10_year_10yearchallenge-5c75f8b946e0fb0001edc7...</td>\n",
              "      <td>Sam Thorne @Strippin ( Follow Follow Saw every...</td>\n",
              "      <td>very_funny</td>\n",
              "      <td>not_sarcastic</td>\n",
              "      <td>not_offensive</td>\n",
              "      <td>not_motivational</td>\n",
              "      <td>positive</td>\n",
              "      <td>thorne strippin  follow follow saw everyone po...</td>\n",
              "      <td>0</td>\n",
              "      <td>0</td>\n",
              "      <td>1</td>\n",
              "    </tr>\n",
              "    <tr>\n",
              "      <th>3</th>\n",
              "      <td>10_year_10-year-challenge-sweet-dee-edition-40...</td>\n",
              "      <td>10 Year Challenge - Sweet Dee Edition</td>\n",
              "      <td>very_funny</td>\n",
              "      <td>twisted_meaning</td>\n",
              "      <td>very_offensive</td>\n",
              "      <td>motivational</td>\n",
              "      <td>positive</td>\n",
              "      <td>year challenge  sweet dee edition</td>\n",
              "      <td>1</td>\n",
              "      <td>2</td>\n",
              "      <td>1</td>\n",
              "    </tr>\n",
              "    <tr>\n",
              "      <th>4</th>\n",
              "      <td>10_year_10-year-challenge-with-no-filter-47-hi...</td>\n",
              "      <td>10 YEAR CHALLENGE WITH NO FILTER 47 Hilarious ...</td>\n",
              "      <td>hilarious</td>\n",
              "      <td>very_twisted</td>\n",
              "      <td>very_offensive</td>\n",
              "      <td>not_motivational</td>\n",
              "      <td>neutral</td>\n",
              "      <td>year challenge with no filter   hilarious   ye...</td>\n",
              "      <td>0</td>\n",
              "      <td>2</td>\n",
              "      <td>2</td>\n",
              "    </tr>\n",
              "  </tbody>\n",
              "</table>\n",
              "</div>"
            ],
            "text/plain": [
              "                                             imgname  ... taskC\n",
              "0                                 10_year_2r94rv.jpg  ...     0\n",
              "1          10_year_10-year-challenge_1547788782.jpeg  ...     0\n",
              "2  10_year_10yearchallenge-5c75f8b946e0fb0001edc7...  ...     1\n",
              "3  10_year_10-year-challenge-sweet-dee-edition-40...  ...     1\n",
              "4  10_year_10-year-challenge-with-no-filter-47-hi...  ...     2\n",
              "\n",
              "[5 rows x 11 columns]"
            ]
          },
          "metadata": {
            "tags": []
          },
          "execution_count": 46
        }
      ]
    },
    {
      "cell_type": "code",
      "metadata": {
        "id": "6j9eTHRJYzeg",
        "colab_type": "code",
        "colab": {}
      },
      "source": [
        "df_temp = df[df.language=='en']"
      ],
      "execution_count": 0,
      "outputs": []
    },
    {
      "cell_type": "markdown",
      "metadata": {
        "id": "SfxTUm4VZHoZ",
        "colab_type": "text"
      },
      "source": [
        "# Pytorch"
      ]
    },
    {
      "cell_type": "code",
      "metadata": {
        "id": "fHJQmiZo1tB6",
        "colab_type": "code",
        "colab": {}
      },
      "source": [
        "class MemeDataset(Dataset):\n",
        "  def __init__(self,root_path,train=False,transform=None):\n",
        "    self.root_path = root_path\n",
        "    self.transform = transform\n",
        "    self.df = df\n",
        "    self.listIndex = list(df.index.values)\n",
        "    self.train = train\n",
        "\n",
        "  def __len__(self):\n",
        "    if self.train:\n",
        "      return int(len(self.listIndex[:5800]))\n",
        "    else:\n",
        "      return int(len(self.listIndex[5800:]))\n",
        "  \n",
        "  def __getitem__(self,idx):\n",
        "    if not self.train:\n",
        "      idx = int(len(self.listIndex[:5800])) + idx\n",
        "    imgname = self.df.imgname[self.listIndex[idx]]\n",
        "    img = Image.open(os.path.join(self.root_path,imgname)).convert('RGB')\n",
        "    if self.transform: \n",
        "      img = self.transform(img)\n",
        "    \n",
        "    text = self.df.new_text[self.listIndex[idx]]\n",
        "    y1 = self.df.taskA[self.listIndex[idx]]\n",
        "    y2 = self.df.taskB[self.listIndex[idx]]\n",
        "    y3 = self.df.taskC[self.listIndex[idx]]\n",
        "\n",
        "    return img,text,y1,y2,y3"
      ],
      "execution_count": 0,
      "outputs": []
    },
    {
      "cell_type": "code",
      "metadata": {
        "id": "FC6hLMsDRZ6u",
        "colab_type": "code",
        "colab": {}
      },
      "source": [
        "# mean and sampler vagera \n",
        "# pop_mean = []\n",
        "# pop_std0 = []\n",
        "# pop_std1 = []\n",
        "# for i, data in enumerate(dataloader[\"train\"], 0):\n",
        "#     # shape (batch_size, 3, height, width)\n",
        "#     img,text,_,_,_ = data\n",
        "#     numpy_image = img.numpy()\n",
        "    \n",
        "#     # shape (3,)\n",
        "#     batch_mean = np.mean(numpy_image, axis=(0,2,3))\n",
        "#     batch_std0 = np.std(numpy_image, axis=(0,2,3))\n",
        "#     batch_std1 = np.std(numpy_image, axis=(0,2,3), ddof=1)\n",
        "    \n",
        "#     pop_mean.append(batch_mean)\n",
        "#     pop_std0.append(batch_std0)\n",
        "#     pop_std1.append(batch_std1)\n",
        "\n",
        "# # shape (num_iterations, 3) -> (mean across 0th axis) -> shape (3,)\n",
        "# pop_mean = np.array(pop_mean).mean(axis=0)\n",
        "# pop_std0 = np.array(pop_std0).mean(axis=0)\n",
        "# pop_std1 = np.array(pop_std1).mean(axis=0)\n",
        "\n",
        "batch_size = 32\n",
        "class_count = [4280, 2320]\n",
        "weights = 1 / torch.Tensor(class_count)\n",
        "sampler = torch.utils.data.sampler.WeightedRandomSampler(weights, batch_size)"
      ],
      "execution_count": 0,
      "outputs": []
    },
    {
      "cell_type": "code",
      "metadata": {
        "id": "AHbgXfk_3Wi3",
        "colab_type": "code",
        "colab": {}
      },
      "source": [
        "transform = transforms.Compose([transforms.Resize((299,299)),\n",
        "                                transforms.ToTensor(),\n",
        "                                transforms.Normalize(mean=[0.5091738,0.47823206,0.46088094],std = [0.3463122,0.34370992,0.34629512])])\n",
        "dataset = {\"train\" : MemeDataset(\"/content/drive/My Drive/data_7000/\",train = True,transform=transform), \"val\" : MemeDataset(\"/content/drive/My Drive/data_7000/\",transform=transform)} \n",
        "dataloader = {\"train\": DataLoader(dataset=dataset[\"train\"],batch_size=32), \"val\" : DataLoader(dataset=dataset[\"val\"],batch_size=10)}"
      ],
      "execution_count": 0,
      "outputs": []
    },
    {
      "cell_type": "code",
      "metadata": {
        "id": "neJmU71sHD2J",
        "colab_type": "code",
        "colab": {}
      },
      "source": [
        "def imshow(img):    # unnormalize\n",
        "    npimg = img.numpy()\n",
        "    plt.imshow(np.transpose(npimg, (1, 2, 0)))\n",
        "    plt.show()"
      ],
      "execution_count": 0,
      "outputs": []
    },
    {
      "cell_type": "code",
      "metadata": {
        "id": "xJ4N9KN_3xMf",
        "colab_type": "code",
        "outputId": "9e0135dc-d98f-4d28-92c8-ae45f02c33c4",
        "colab": {
          "base_uri": "https://localhost:8080/",
          "height": 353
        }
      },
      "source": [
        "img,text,y1,y2,y3 = next(iter(dataloader[\"val\"]))\n",
        "imshow(img[0])\n",
        "print(text[0])\n",
        "print(y1[0])\n",
        "print(y2[0])\n",
        "print(y3[0])"
      ],
      "execution_count": 0,
      "outputs": [
        {
          "output_type": "stream",
          "text": [
            "Clipping input data to the valid range for imshow with RGB data ([0..1] for floats or [0..255] for integers).\n"
          ],
          "name": "stderr"
        },
        {
          "output_type": "display_data",
          "data": {
            "image/png": "[encoded data removed]",
            "text/plain": [
              "<Figure size 432x288 with 1 Axes>"
            ]
          },
          "metadata": {
            "tags": []
          }
        },
        {
          "output_type": "stream",
          "text": [
            "pleas tell knowledg thing sell live\n",
            "tensor(1)\n",
            "tensor(2)\n",
            "tensor(1)\n"
          ],
          "name": "stdout"
        }
      ]
    },
    {
      "cell_type": "code",
      "metadata": {
        "id": "9ll2qNpmJnBC",
        "colab_type": "code",
        "colab": {}
      },
      "source": [
        "def set_parameter_requires_grad(model, feature_extracting):\n",
        "    if feature_extracting:\n",
        "        for param in model.parameters():\n",
        "            param.requires_grad = False"
      ],
      "execution_count": 0,
      "outputs": []
    },
    {
      "cell_type": "code",
      "metadata": {
        "id": "VqIU4K4JmXYP",
        "colab_type": "code",
        "colab": {}
      },
      "source": [
        "class MemeModel(nn.Module):\n",
        "  def __init__(self, vocab_size, embed_dim, num_class):\n",
        "    super().__init__()\n",
        "    self.embedding = nn.EmbeddingBag(vocab_size, embed_dim, sparse=True)\n",
        "    self.fc = nn.Linear(embed_dim, num_class)\n",
        "    self.init_weights()\n",
        "  \n",
        "  def init_weights(self):\n",
        "    initrange = 0.5\n",
        "    self.embedding.weight.data.uniform_(-initrange, initrange)\n",
        "    self.fc.weight.data.uniform_(-initrange, initrange)\n",
        "    self.fc.bias.data.zero_()\n",
        "\n",
        "  def forward(self, text, offsets):\n",
        "    embedded = self.embedding(text, offsets)\n",
        "    return self.fc(embedded)\n"
      ],
      "execution_count": 0,
      "outputs": []
    },
    {
      "cell_type": "code",
      "metadata": {
        "id": "l0uvi8S0H-X0",
        "colab_type": "code",
        "outputId": "04df93d7-28cd-4d43-f503-3bab54a78a12",
        "colab": {
          "base_uri": "https://localhost:8080/",
          "height": 51
        }
      },
      "source": [
        "num_classes = 2\n",
        "model_ft = models.inception_v3(pretrained=True)\n",
        "set_parameter_requires_grad(model_ft, True)\n",
        "# Handle the auxilary net\n",
        "\n",
        "num_ftrs = model_ft.AuxLogits.fc.in_features\n",
        "model_ft.AuxLogits.fc = nn.Linear(num_ftrs, num_classes)\n",
        "# Handle the primary net\n",
        "num_ftrs = model_ft.fc.in_features\n",
        "model_ft.fc = nn.Linear(num_ftrs, num_classes)\n",
        "model_ft = model_ft.cuda()\n",
        "# model_ft"
      ],
      "execution_count": 0,
      "outputs": [
        {
          "output_type": "stream",
          "text": [
            "Downloading: \"https://download.pytorch.org/models/inception_v3_google-1a9a5a14.pth\" to /root/.cache/torch/checkpoints/inception_v3_google-1a9a5a14.pth\n",
            "100%|██████████| 104M/104M [00:01<00:00, 101MB/s]  \n"
          ],
          "name": "stderr"
        }
      ]
    },
    {
      "cell_type": "code",
      "metadata": {
        "id": "zloSObRtMXXx",
        "colab_type": "code",
        "colab": {}
      },
      "source": [
        "import torch.optim as optim\n",
        "\n",
        "criterion = nn.CrossEntropyLoss()\n",
        "optimizer = optim.Adam(model_ft.parameters(), lr=0.01)\n",
        "steps = 10\n",
        "scheduler = optim.lr_scheduler.CosineAnnealingLR(optimizer, steps)"
      ],
      "execution_count": 0,
      "outputs": []
    },
    {
      "cell_type": "code",
      "metadata": {
        "id": "R7R1Bs9gKEPv",
        "colab_type": "code",
        "colab": {}
      },
      "source": [
        "def train_model(model, dataloaders, criterion, optimizer , num_epochs=25, is_inception=True):\n",
        "    since = time.time()\n",
        "\n",
        "    val_acc_history = []\n",
        "\n",
        "    best_model_wts = copy.deepcopy(model.state_dict())\n",
        "    best_acc = 0.0\n",
        "\n",
        "    for epoch in range(num_epochs):\n",
        "        print('Epoch {}/{}'.format(epoch, num_epochs - 1))\n",
        "        print('-' * 10)\n",
        "\n",
        "        # Each epoch has a training and validation phase\n",
        "        for phase in ['train', 'val']:\n",
        "            if phase == 'train':\n",
        "                model.train()  # Set model to training mode\n",
        "            else:\n",
        "                model.eval()   # Set model to evaluate mode\n",
        "\n",
        "            running_loss = 0.0\n",
        "            running_corrects = 0\n",
        "            \n",
        "            # Iterate over data.\n",
        "            for imgs, texts, c1, c2, c3 in dataloaders[phase]:\n",
        "                imgs = imgs.cuda()\n",
        "                # texts = texts.cuda()\n",
        "                c1 = c1.cuda()\n",
        "                c2 = c2.cuda()\n",
        "                c3 = c3.cuda()\n",
        "\n",
        "                optimizer.zero_grad()\n",
        "\n",
        "                with torch.set_grad_enabled(phase == 'train'):\n",
        "                    if is_inception and phase == 'train':\n",
        "                        # From https://discuss.pytorch.org/t/how-to-optimize-inception-model-with-auxiliary-classifiers/7958\n",
        "                        outputs, aux_outputs = model(imgs)\n",
        "                        # print(outputs)\n",
        "                        # print(c1)\n",
        "                        loss1 = criterion(outputs, c1)\n",
        "                        loss2 = criterion(aux_outputs, c1)\n",
        "                        loss = loss1 + 0.4*loss2\n",
        "                    else:\n",
        "                        outputs = model(imgs)\n",
        "                        loss = criterion(outputs, c1)\n",
        "\n",
        "                    _, preds = torch.max(outputs, 1)\n",
        "\n",
        "                    # backward + optimize only if in training phase\n",
        "                    if phase == 'train':\n",
        "                        loss.backward()\n",
        "                        optimizer.step()\n",
        "                        # scheduler.step()\n",
        "                        # print(scheduler.get_lr())\n",
        "\n",
        "                # statistics\n",
        "                running_loss += loss.item() * imgs.size(0)\n",
        "                running_corrects += torch.sum(preds == c1.data)\n",
        "\n",
        "            epoch_loss = running_loss / len(dataloaders[phase].dataset)\n",
        "            epoch_acc = running_corrects.double() / len(dataloaders[phase].dataset)\n",
        "\n",
        "            print('{} Loss: {:.4f} Acc: {:.4f}'.format(phase, epoch_loss, epoch_acc))\n",
        "\n",
        "            # deep copy the model\n",
        "            if phase == 'val' and epoch_acc > best_acc:\n",
        "                best_acc = epoch_acc\n",
        "                best_model_wts = copy.deepcopy(model.state_dict())\n",
        "            if phase == 'val':\n",
        "                val_acc_history.append(epoch_acc)\n",
        "\n",
        "        # print('Reset scheduler')\n",
        "        # scheduler = optim.lr_scheduler.CosineAnnealingLR(optimizer, steps)\n",
        "\n",
        "    time_elapsed = time.time() - since\n",
        "    print('Training complete in {:.0f}m {:.0f}s'.format(time_elapsed // 60, time_elapsed % 60))\n",
        "    print('Best val Acc: {:4f}'.format(best_acc))\n",
        "\n",
        "    # load best model weights\n",
        "    model.load_state_dict(best_model_wts)\n",
        "    return model, val_acc_history"
      ],
      "execution_count": 0,
      "outputs": []
    },
    {
      "cell_type": "code",
      "metadata": {
        "id": "0lab-hs3MNuw",
        "colab_type": "code",
        "outputId": "5eec880d-587f-4c19-e82e-a21b69586062",
        "colab": {
          "base_uri": "https://localhost:8080/",
          "height": 51
        }
      },
      "source": [
        "model, val_acc_history = train_model(model_ft,dataloaders=dataloader,criterion=criterion,optimizer=optimizer,num_epochs=10)"
      ],
      "execution_count": 0,
      "outputs": [
        {
          "output_type": "stream",
          "text": [
            "Epoch 0/9\n",
            "----------\n"
          ],
          "name": "stdout"
        }
      ]
    },
    {
      "cell_type": "code",
      "metadata": {
        "id": "9bRxoYd-CItY",
        "colab_type": "code",
        "outputId": "34a0d3d1-dc82-4857-f93a-8584c2594093",
        "colab": {
          "base_uri": "https://localhost:8080/",
          "height": 605
        }
      },
      "source": [
        "imgs,text,c1,c2,c3 = next(iter(dataloader[\"val\"]))\n",
        "model_ft.eval()\n",
        "out = model_ft(imgs.cuda())\n",
        "_, preds = torch.max(out, 1)\n",
        "preds = np.array(preds.detach().cpu())\n",
        "c1 = np.array(c1.detach().cpu())\n",
        "acc = sum(preds == c1) \n",
        "print(acc/len(imgs))\n",
        "print(out)\n",
        "print(preds)\n",
        "print(c1)"
      ],
      "execution_count": 0,
      "outputs": [
        {
          "output_type": "stream",
          "text": [
            "1.0\n",
            "tensor([[ 1.5124, -1.3927],\n",
            "        [ 1.5124, -1.3927],\n",
            "        [ 2.0694, -1.9274],\n",
            "        [ 2.0694, -1.9274],\n",
            "        [ 2.0694, -1.9274],\n",
            "        [ 2.0694, -1.9274],\n",
            "        [ 1.5124, -1.3927],\n",
            "        [ 1.5124, -1.3927],\n",
            "        [ 2.0694, -1.9274],\n",
            "        [ 2.0694, -1.9274],\n",
            "        [ 2.0694, -1.9274],\n",
            "        [ 1.5124, -1.3927],\n",
            "        [ 2.0694, -1.9274],\n",
            "        [ 2.0694, -1.9274],\n",
            "        [ 1.5124, -1.3927],\n",
            "        [ 2.0694, -1.9274],\n",
            "        [ 2.0694, -1.9274],\n",
            "        [ 2.0694, -1.9274],\n",
            "        [ 2.0694, -1.9274],\n",
            "        [ 2.0694, -1.9274],\n",
            "        [ 2.0694, -1.9274],\n",
            "        [ 1.5124, -1.3927],\n",
            "        [ 2.0694, -1.9274],\n",
            "        [ 2.0694, -1.9274],\n",
            "        [ 1.5124, -1.3927],\n",
            "        [ 2.0694, -1.9274],\n",
            "        [ 2.0694, -1.9274],\n",
            "        [ 2.0694, -1.9274],\n",
            "        [ 2.0694, -1.9274],\n",
            "        [ 2.0694, -1.9274],\n",
            "        [ 1.5124, -1.3927],\n",
            "        [ 2.0694, -1.9274]], device='cuda:0', grad_fn=<AddmmBackward>)\n",
            "[0 0 0 0 0 0 0 0 0 0 0 0 0 0 0 0 0 0 0 0 0 0 0 0 0 0 0 0 0 0 0 0]\n",
            "[0 0 0 0 0 0 0 0 0 0 0 0 0 0 0 0 0 0 0 0 0 0 0 0 0 0 0 0 0 0 0 0]\n"
          ],
          "name": "stdout"
        }
      ]
    },
    {
      "cell_type": "markdown",
      "metadata": {
        "id": "GP9NG-kc8T8z",
        "colab_type": "text"
      },
      "source": [
        "# Keras"
      ]
    },
    {
      "cell_type": "code",
      "metadata": {
        "id": "ofgkctnkmlKe",
        "colab_type": "code",
        "outputId": "a43c5f72-ab1d-48bb-d08e-b0d45837e1b6",
        "colab": {
          "base_uri": "https://localhost:8080/",
          "height": 302
        }
      },
      "source": [
        "num_words =10000\n",
        "tokenizer = Tokenizer(num_words=num_words, filters='!\"#$%&()*+,-./:;<=>?@[\\\\]^_`{|}~\\t\\n',\n",
        "                                   lower=True,split=' ')\n",
        "tokenizer.fit_on_texts(df['new_text'].values)\n",
        "X_text = tokenizer.texts_to_sequences(df['new_text'].values)\n",
        "word_index = tokenizer.word_index\n",
        "print('Found %s unique tokens.' % len(word_index))\n",
        "\n",
        "max_length_of_text = 200\n",
        "X_text = pad_sequences(X_text, maxlen=max_length_of_text)\n",
        "\n",
        "print(X_text[0])\n",
        "print(len(word_index))"
      ],
      "execution_count": 0,
      "outputs": [
        {
          "output_type": "stream",
          "text": [
            "Found 11673 unique tokens.\n",
            "[   0    0    0    0    0    0    0    0    0    0    0    0    0    0\n",
            "    0    0    0    0    0    0    0    0    0    0    0    0    0    0\n",
            "    0    0    0    0    0    0    0    0    0    0    0    0    0    0\n",
            "    0    0    0    0    0    0    0    0    0    0    0    0    0    0\n",
            "    0    0    0    0    0    0    0    0    0    0    0    0    0    0\n",
            "    0    0    0    0    0    0    0    0    0    0    0    0    0    0\n",
            "    0    0    0    0    0    0    0    0    0    0    0    0    0    0\n",
            "    0    0    0    0    0    0    0    0    0    0    0    0    0    0\n",
            "    0    0    0    0    0    0    0    0    0    0    0    0    0    0\n",
            "    0    0    0    0    0    0    0    0    0    0    0    0    0    0\n",
            "    0    0    0    0    0    0    0    0    0    0    0    0    0    0\n",
            "    0    0    0    0    0    0    0    0    0    0    0    0    0    0\n",
            "    0    0    0    0    0    0    0    0    0    0    0    0    0    0\n",
            "    0    0    0    0    0    0    0    0    0   18   29 4847 4848 4849\n",
            "  182   59  236   71]\n",
            "11673\n"
          ],
          "name": "stdout"
        }
      ]
    },
    {
      "cell_type": "code",
      "metadata": {
        "id": "I1wn2qTgkzyP",
        "colab_type": "code",
        "colab": {}
      },
      "source": [
        "with open(\"tokenizer_new.pickle\",\"wb\") as handle:\n",
        "  pickle.dump(tokenizer,handle,protocol=pickle.HIGHEST_PROTOCOL)"
      ],
      "execution_count": 0,
      "outputs": []
    },
    {
      "cell_type": "code",
      "metadata": {
        "id": "zg_99YS2Tre8",
        "colab_type": "code",
        "colab": {}
      },
      "source": [
        "!cp /content/tokenizer_new.pickle /content/drive/My\\ Drive/"
      ],
      "execution_count": 0,
      "outputs": []
    },
    {
      "cell_type": "code",
      "metadata": {
        "id": "9CwLRwbIL0TX",
        "colab_type": "code",
        "outputId": "322dc050-0e18-4d26-8c11-6ab699b1e505",
        "colab": {
          "base_uri": "https://localhost:8080/",
          "height": 102
        }
      },
      "source": [
        "print(len(X_img))\n",
        "print(len(X_text))\n",
        "# y1 = df_temp.taskA\n",
        "print(len(y1))\n",
        "print(len(y2))\n",
        "print(len(y3))"
      ],
      "execution_count": 0,
      "outputs": [
        {
          "output_type": "stream",
          "text": [
            "6595\n",
            "6595\n",
            "6595\n",
            "6595\n",
            "6595\n"
          ],
          "name": "stdout"
        }
      ]
    },
    {
      "cell_type": "code",
      "metadata": {
        "id": "TJY5A9LAKGxq",
        "colab_type": "code",
        "outputId": "026092a7-6b51-4425-c2af-8a1630d809f4",
        "colab": {
          "base_uri": "https://localhost:8080/",
          "height": 286
        }
      },
      "source": [
        "!wget https://github.com/kmr0877/IMDB-Sentiment-Classification-CBOW-Model/raw/master/glove.6B.50d.txt.gz"
      ],
      "execution_count": 0,
      "outputs": [
        {
          "output_type": "stream",
          "text": [
            "--2019-11-27 12:01:38--  https://github.com/kmr0877/IMDB-Sentiment-Classification-CBOW-Model/raw/master/glove.6B.50d.txt.gz\n",
            "Resolving github.com (github.com)... 192.30.253.112\n",
            "Connecting to github.com (github.com)|192.30.253.112|:443... connected.\n",
            "HTTP request sent, awaiting response... 302 Found\n",
            "Location: https://raw.githubusercontent.com/kmr0877/IMDB-Sentiment-Classification-CBOW-Model/master/glove.6B.50d.txt.gz [following]\n",
            "--2019-11-27 12:01:38--  https://raw.githubusercontent.com/kmr0877/IMDB-Sentiment-Classification-CBOW-Model/master/glove.6B.50d.txt.gz\n",
            "Resolving raw.githubusercontent.com (raw.githubusercontent.com)... 151.101.0.133, 151.101.64.133, 151.101.128.133, ...\n",
            "Connecting to raw.githubusercontent.com (raw.githubusercontent.com)|151.101.0.133|:443... connected.\n",
            "HTTP request sent, awaiting response... 200 OK\n",
            "Length: 69182520 (66M) [application/octet-stream]\n",
            "Saving to: ‘glove.6B.50d.txt.gz’\n",
            "\n",
            "\rglove.6B.50d.txt.gz   0%[                    ]       0  --.-KB/s               \rglove.6B.50d.txt.gz  35%[======>             ]  23.65M   118MB/s               \rglove.6B.50d.txt.gz 100%[===================>]  65.98M   171MB/s    in 0.4s    \n",
            "\n",
            "2019-11-27 12:01:39 (171 MB/s) - ‘glove.6B.50d.txt.gz’ saved [69182520/69182520]\n",
            "\n"
          ],
          "name": "stdout"
        }
      ]
    },
    {
      "cell_type": "code",
      "metadata": {
        "id": "M2JSWauYKIHq",
        "colab_type": "code",
        "colab": {}
      },
      "source": [
        "! gunzip glove.6B.50d.txt.gz"
      ],
      "execution_count": 0,
      "outputs": []
    },
    {
      "cell_type": "code",
      "metadata": {
        "id": "Vr_HLYBlKNcF",
        "colab_type": "code",
        "outputId": "78b2622b-ac6f-4497-ba33-9748d90457f9",
        "colab": {
          "base_uri": "https://localhost:8080/",
          "height": 50
        }
      },
      "source": [
        "embeddings_index = {}\n",
        "f = open('glove.6B.50d.txt')\n",
        "for line in f:\n",
        "    values = line.split()\n",
        "    word = values[0]\n",
        "    coefs = np.asarray(values[1:], dtype='float32')\n",
        "    embeddings_index[word] = coefs\n",
        "f.close()\n",
        "\n",
        "print('Found %s word vectors in pretrained word vector model.' % len(embeddings_index))\n",
        "print('Dimensions of the vector space : ', len(embeddings_index['the']))"
      ],
      "execution_count": 0,
      "outputs": [
        {
          "output_type": "stream",
          "text": [
            "Found 400000 word vectors in pretrained word vector model.\n",
            "Dimensions of the vector space :  50\n"
          ],
          "name": "stdout"
        }
      ]
    },
    {
      "cell_type": "code",
      "metadata": {
        "id": "hVSAdhtjKPc2",
        "colab_type": "code",
        "colab": {}
      },
      "source": [
        "EMBEDDING_DIM = 50\n",
        "embedding_matrix = np.zeros((len(word_index) + 1, EMBEDDING_DIM))\n",
        "for word, i in word_index.items():\n",
        "    embedding_vector = embeddings_index.get(word)\n",
        "    if embedding_vector is not None:\n",
        "        # words not found in embedding index will be all-zeros.\n",
        "        embedding_matrix[i] = embedding_vector"
      ],
      "execution_count": 0,
      "outputs": []
    },
    {
      "cell_type": "code",
      "metadata": {
        "id": "PpWJiBlViEzk",
        "colab_type": "code",
        "outputId": "f177e105-2845-4982-c62a-cc1bf45613d3",
        "colab": {
          "base_uri": "https://localhost:8080/",
          "height": 70
        }
      },
      "source": [
        "base_model = VGG19(weights='imagenet', include_top=False)\n",
        "\n",
        "for layer in base_model.layers:\n",
        "    layer.trainable = False\n",
        "\n",
        "model_input = Input(shape = (299,299,3))\n",
        "x = base_model(model_input)\n",
        "x = GlobalAveragePooling2D()(x)\n",
        "\n",
        "length_of_text = 200\n",
        "text_input = Input((length_of_text, ))\n",
        "embedding_layer = Embedding(len(word_index) + 1,\n",
        "                            EMBEDDING_DIM,\n",
        "                            weights=[embedding_matrix],\n",
        "                            input_length=max_length_of_text,\n",
        "                            trainable=True)\n",
        "y = embedding_layer(text_input)\n",
        "# y = LSTM(10,dropout=0.5,recurrent_dropout = 0.5)(y)\n",
        "y = Flatten()(y)\n",
        "# y = Dense(32,kernel_initializer=\"random_uniform\")(y)\n",
        "# y = LeakyReLU(alpha=0.1)(y)\n",
        "# y = Dropout(rate=0.5)(y)\n",
        "# y = Dense(32,kernel_initializer=\"random_uniform\")(y)\n",
        "# y = LeakyReLU(alpha=0.2)(y)\n",
        "# y = Dropout(rate=0.5)(y)\n",
        "\n",
        "\n",
        "middle = concatenate([x,y])\n",
        "middle = Dense(32,kernel_initializer=\"random_uniform\")(middle)\n",
        "middle = LeakyReLU(alpha=0.1)(middle)\n",
        "middle = Dropout(rate=0.5)(middle)\n",
        "\n",
        "# upper = Dense(16)(x)\n",
        "# upper = LeakyReLU(alpha=0.2)(upper)\n",
        "# upper = Dropout(rate=0.5)(upper)\n",
        "\n",
        "# lower = Dense(16)(y)\n",
        "# lower = LeakyReLU(alpha=0.2)(lower)\n",
        "# lower = Dropout(rate=0.5)(lower)\n",
        "\n",
        "# concat = concatenate([ middle])\n",
        "\n",
        "# x1 = Dense(16)(middle)\n",
        "# x1 = LeakyReLU(alpha=0.2)(x1)\n",
        "pred1 = Dense(4,activation=\"softmax\")(middle)\n",
        "\n",
        "# x2 = Dense(1024, activation='relu')(concat)\n",
        "# pred2 = Dense(4, activation='softmax')(x2)\n",
        "\n",
        "# x3 = Dense(64, activation='relu')(concat)\n",
        "# pred3 = Dense(5, activation='softmax')(x3)\n",
        "\n",
        "model = Model(inputs=[model_input,text_input], outputs =[pred1])\n",
        "model.compile(optimizer='adam', loss='categorical_crossentropy',metrics = ['accuracy'])"
      ],
      "execution_count": 0,
      "outputs": [
        {
          "output_type": "stream",
          "text": [
            "WARNING:tensorflow:From /usr/local/lib/python3.6/dist-packages/keras/backend/tensorflow_backend.py:3576: The name tf.log is deprecated. Please use tf.math.log instead.\n",
            "\n"
          ],
          "name": "stdout"
        }
      ]
    },
    {
      "cell_type": "code",
      "metadata": {
        "id": "tsaH7aG1mZ7y",
        "colab_type": "code",
        "colab": {}
      },
      "source": [
        "X_img = np.array(X_img)\n",
        "X_text = np.array(X_text)\n",
        "y1 = np.array(y1)\n",
        "y2 = np.array(y2)\n",
        "y3 = np.array(y3)\n",
        "# X_img = X_img.astype('float') / 255"
      ],
      "execution_count": 0,
      "outputs": []
    },
    {
      "cell_type": "code",
      "metadata": {
        "id": "6iK4HoZnA7g_",
        "colab_type": "code",
        "colab": {}
      },
      "source": [
        "label2 = []\n",
        "for i in y2:\n",
        "  if i == 0:\n",
        "    label2.append(0.0)\n",
        "  elif i == 1:\n",
        "    label2.append(0.25)\n",
        "  elif i == 2:\n",
        "    label2.append(0.5)\n",
        "  else:\n",
        "    label2.append(0.75)\n",
        "\n",
        "label2 = np.array(label2)"
      ],
      "execution_count": 0,
      "outputs": []
    },
    {
      "cell_type": "code",
      "metadata": {
        "id": "zPuN0DHmtnDs",
        "colab_type": "code",
        "colab": {}
      },
      "source": [
        "y3_new = []\n",
        "for i in y3:\n",
        "  if i ==0 or i == 1:\n",
        "    y3_new.append(0)\n",
        "  elif i == 2:\n",
        "    y3_new.append(1)\n",
        "  else:\n",
        "    y3_new.append(2)"
      ],
      "execution_count": 0,
      "outputs": []
    },
    {
      "cell_type": "code",
      "metadata": {
        "id": "R8UrlYniFPUZ",
        "colab_type": "code",
        "colab": {}
      },
      "source": [
        "label3 = []\n",
        "for i in y3:\n",
        "  if i == 0:\n",
        "    label3.append(0.0)\n",
        "  elif i == 1:\n",
        "    label3.append(0.2)\n",
        "  elif i == 2:\n",
        "    label3.append(0.4)\n",
        "  elif i == 3:\n",
        "    label3.append(0.6)\n",
        "  else:\n",
        "    label3.append(0.8)\n",
        "label3 = np.array(label3)"
      ],
      "execution_count": 0,
      "outputs": []
    },
    {
      "cell_type": "code",
      "metadata": {
        "id": "_Y1mCM9N_dwn",
        "colab_type": "code",
        "colab": {}
      },
      "source": [
        "from keras.utils import to_categorical\n",
        "# y1_one_hot = to_categorical(y1)\n",
        "y2_one_hot = to_categorical(y2)\n",
        "y3_one_hot = to_categorical(y3)"
      ],
      "execution_count": 0,
      "outputs": []
    },
    {
      "cell_type": "code",
      "metadata": {
        "id": "-g02k6_sOV0c",
        "colab_type": "code",
        "colab": {}
      },
      "source": [
        "X_img_train, X_img_test, X_text_train, X_text_test, y1_train, y1_test = train_test_split(X_img,X_text,y2_one_hot,test_size=0.1,random_state=121,stratify=y2) "
      ],
      "execution_count": 0,
      "outputs": []
    },
    {
      "cell_type": "code",
      "metadata": {
        "id": "XiVVf-oFmqiH",
        "colab_type": "code",
        "outputId": "52e7fa0b-1c10-413f-cf42-84c97a910b2f",
        "colab": {
          "base_uri": "https://localhost:8080/",
          "height": 544
        }
      },
      "source": [
        "model.summary()"
      ],
      "execution_count": 0,
      "outputs": [
        {
          "output_type": "stream",
          "text": [
            "Model: \"model_2\"\n",
            "__________________________________________________________________________________________________\n",
            "Layer (type)                    Output Shape         Param #     Connected to                     \n",
            "==================================================================================================\n",
            "input_5 (InputLayer)            (None, 299, 299, 3)  0                                            \n",
            "__________________________________________________________________________________________________\n",
            "input_6 (InputLayer)            (None, 200)          0                                            \n",
            "__________________________________________________________________________________________________\n",
            "vgg19 (Model)                   multiple             20024384    input_5[0][0]                    \n",
            "__________________________________________________________________________________________________\n",
            "embedding_2 (Embedding)         (None, 200, 50)      531750      input_6[0][0]                    \n",
            "__________________________________________________________________________________________________\n",
            "global_average_pooling2d_2 (Glo (None, 512)          0           vgg19[1][0]                      \n",
            "__________________________________________________________________________________________________\n",
            "flatten_2 (Flatten)             (None, 10000)        0           embedding_2[0][0]                \n",
            "__________________________________________________________________________________________________\n",
            "concatenate_2 (Concatenate)     (None, 10512)        0           global_average_pooling2d_2[0][0] \n",
            "                                                                 flatten_2[0][0]                  \n",
            "__________________________________________________________________________________________________\n",
            "dense_3 (Dense)                 (None, 32)           336416      concatenate_2[0][0]              \n",
            "__________________________________________________________________________________________________\n",
            "leaky_re_lu_2 (LeakyReLU)       (None, 32)           0           dense_3[0][0]                    \n",
            "__________________________________________________________________________________________________\n",
            "dropout_2 (Dropout)             (None, 32)           0           leaky_re_lu_2[0][0]              \n",
            "__________________________________________________________________________________________________\n",
            "dense_4 (Dense)                 (None, 1)            33          dropout_2[0][0]                  \n",
            "==================================================================================================\n",
            "Total params: 20,892,583\n",
            "Trainable params: 868,199\n",
            "Non-trainable params: 20,024,384\n",
            "__________________________________________________________________________________________________\n"
          ],
          "name": "stdout"
        }
      ]
    },
    {
      "cell_type": "code",
      "metadata": {
        "id": "5fzu-UZ9kg8Y",
        "colab_type": "code",
        "outputId": "693ffa31-4bf7-4ec4-d3a8-130e7bd55066",
        "colab": {
          "base_uri": "https://localhost:8080/",
          "height": 860
        }
      },
      "source": [
        "# checkpoint = ModelCheckpoint(\"model2.h5\", monitor='val_accuracy', verbose=1, save_best_only=True, mode='max')\n",
        "history = model.fit(x=[X_img,X_text],y=y2_one_hot, batch_size= 128,epochs=23,class_weight=None)"
      ],
      "execution_count": 0,
      "outputs": [
        {
          "output_type": "stream",
          "text": [
            "WARNING:tensorflow:From /usr/local/lib/python3.6/dist-packages/tensorflow_core/python/ops/math_grad.py:1424: where (from tensorflow.python.ops.array_ops) is deprecated and will be removed in a future version.\n",
            "Instructions for updating:\n",
            "Use tf.where in 2.0, which has the same broadcast rule as np.where\n",
            "Epoch 1/23\n",
            "6595/6595 [==============================] - 36s 5ms/step - loss: 1.6362 - acc: 0.3336\n",
            "Epoch 2/23\n",
            "6595/6595 [==============================] - 35s 5ms/step - loss: 1.3077 - acc: 0.3789\n",
            "Epoch 3/23\n",
            "6595/6595 [==============================] - 35s 5ms/step - loss: 1.2469 - acc: 0.4009\n",
            "Epoch 4/23\n",
            "6595/6595 [==============================] - 35s 5ms/step - loss: 1.2107 - acc: 0.4091\n",
            "Epoch 5/23\n",
            "6595/6595 [==============================] - 35s 5ms/step - loss: 1.1701 - acc: 0.4414\n",
            "Epoch 6/23\n",
            "6595/6595 [==============================] - 35s 5ms/step - loss: 1.1386 - acc: 0.4552\n",
            "Epoch 7/23\n",
            "6595/6595 [==============================] - 35s 5ms/step - loss: 1.1043 - acc: 0.4760\n",
            "Epoch 8/23\n",
            "6595/6595 [==============================] - 35s 5ms/step - loss: 1.0674 - acc: 0.4972\n",
            "Epoch 9/23\n",
            "6595/6595 [==============================] - 35s 5ms/step - loss: 1.0570 - acc: 0.5133\n",
            "Epoch 10/23\n",
            "6595/6595 [==============================] - 35s 5ms/step - loss: 1.0068 - acc: 0.5337\n",
            "Epoch 11/23\n",
            "6595/6595 [==============================] - 35s 5ms/step - loss: 0.9679 - acc: 0.5607\n",
            "Epoch 12/23\n",
            "6595/6595 [==============================] - 35s 5ms/step - loss: 0.9223 - acc: 0.5964\n",
            "Epoch 13/23\n",
            "6595/6595 [==============================] - 35s 5ms/step - loss: 0.8813 - acc: 0.6129\n",
            "Epoch 14/23\n",
            "6595/6595 [==============================] - 35s 5ms/step - loss: 0.8365 - acc: 0.6376\n",
            "Epoch 15/23\n",
            "6595/6595 [==============================] - 35s 5ms/step - loss: 0.7954 - acc: 0.6585\n",
            "Epoch 16/23\n",
            "6595/6595 [==============================] - 35s 5ms/step - loss: 0.7248 - acc: 0.6928\n",
            "Epoch 17/23\n",
            "6595/6595 [==============================] - 35s 5ms/step - loss: 0.6889 - acc: 0.7171\n",
            "Epoch 18/23\n",
            "6595/6595 [==============================] - 35s 5ms/step - loss: 0.6205 - acc: 0.7451\n",
            "Epoch 19/23\n",
            "6595/6595 [==============================] - 35s 5ms/step - loss: 0.5748 - acc: 0.7771\n",
            "Epoch 20/23\n",
            "6595/6595 [==============================] - 35s 5ms/step - loss: 0.5199 - acc: 0.7912\n",
            "Epoch 21/23\n",
            "6595/6595 [==============================] - 35s 5ms/step - loss: 0.4733 - acc: 0.8171\n",
            "Epoch 22/23\n",
            "6595/6595 [==============================] - 35s 5ms/step - loss: 0.4524 - acc: 0.8256\n",
            "Epoch 23/23\n",
            "6595/6595 [==============================] - 35s 5ms/step - loss: 0.4051 - acc: 0.8435\n"
          ],
          "name": "stdout"
        }
      ]
    },
    {
      "cell_type": "code",
      "metadata": {
        "id": "lKMxbHGKwX9i",
        "colab_type": "code",
        "colab": {}
      },
      "source": [
        "pred = model.predict(x=[X_img_test,X_text_test])\n",
        "y_pred = [np.round(i) if i < 3.0 else 3.0 for i in pred]\n",
        "y_pred = [i if i > 0.0 else 0.0 for i in y_pred]"
      ],
      "execution_count": 0,
      "outputs": []
    },
    {
      "cell_type": "code",
      "metadata": {
        "id": "1wErIT5gFD0Y",
        "colab_type": "code",
        "colab": {}
      },
      "source": [
        "model.save_weights(\"/content/model_offensive_overfit2.h5\")"
      ],
      "execution_count": 0,
      "outputs": []
    },
    {
      "cell_type": "code",
      "metadata": {
        "id": "7-Gmwh-8G6GD",
        "colab_type": "code",
        "colab": {}
      },
      "source": [
        "!cp model_offensive_overfit2.h5 /content/drive/My\\ Drive/"
      ],
      "execution_count": 0,
      "outputs": []
    },
    {
      "cell_type": "code",
      "metadata": {
        "id": "Paa-Ti54cyrP",
        "colab_type": "code",
        "colab": {}
      },
      "source": [
        "pred = model.predict(x=[X_img_test,X_text_test])"
      ],
      "execution_count": 0,
      "outputs": []
    },
    {
      "cell_type": "code",
      "metadata": {
        "id": "u9sltJUJpQN4",
        "colab_type": "code",
        "colab": {}
      },
      "source": [
        "print(pred[:10])\n",
        "print(y1_test[:10])"
      ],
      "execution_count": 0,
      "outputs": []
    },
    {
      "cell_type": "code",
      "metadata": {
        "id": "eM3t7DFV8KCg",
        "colab_type": "code",
        "colab": {}
      },
      "source": [
        "# y_pred = np.argmax(pred,axis=1)\n",
        "y_pred = []\n",
        "for i in pred:\n",
        "  if i < 0.2:\n",
        "    y_pred.append(0)\n",
        "  elif i >= 0.25 and i < 0.5:\n",
        "    y_pred.append(1)\n",
        "  elif i >= 0.5 and i < 0.75:\n",
        "    y_pred.append(2)\n",
        "  # elif i >= 0.6 and i < 0.8:\n",
        "    # y_pred.append(3) \n",
        "  else:\n",
        "    y_pred.append(3)"
      ],
      "execution_count": 0,
      "outputs": []
    },
    {
      "cell_type": "code",
      "metadata": {
        "id": "76zv5TBM-oXr",
        "colab_type": "code",
        "colab": {}
      },
      "source": [
        "# y1_test1 = np.argmax(y1_test,axis=1)\n",
        "y1_test1 = []\n",
        "for i in y1_test:\n",
        "  if i == 0:\n",
        "    y1_test1.append(0)\n",
        "  elif i == 0.25:\n",
        "    y1_test1.append(1)\n",
        "  elif i == 0.5:\n",
        "    y1_test1.append(2)\n",
        "  elif i == 0.75:\n",
        "    y1_test1.append(3) \n",
        "  # else: \n",
        "  #   y1_test1.append(4)"
      ],
      "execution_count": 0,
      "outputs": []
    },
    {
      "cell_type": "code",
      "metadata": {
        "id": "2CtmJOT2wOpc",
        "colab_type": "code",
        "colab": {}
      },
      "source": [
        "# y_pred = []\n",
        "# for i in pred:\n",
        "#   if i >=0.5:\n",
        "#     y_pred.append(1)\n",
        "#   else:\n",
        "#     y_pred.append(0)\n",
        "  \n",
        "y1_test1 = y1_test"
      ],
      "execution_count": 0,
      "outputs": []
    },
    {
      "cell_type": "code",
      "metadata": {
        "id": "VAdTFZKUvlVc",
        "colab_type": "code",
        "outputId": "a49b1f58-2ca0-4fc4-957e-8c5ca0194112",
        "colab": {
          "base_uri": "https://localhost:8080/",
          "height": 84
        }
      },
      "source": [
        "confusion_matrix(y1_test1,y_pred,labels=[0,1,2,3])"
      ],
      "execution_count": 0,
      "outputs": [
        {
          "output_type": "execute_result",
          "data": {
            "text/plain": [
              "array([[ 59, 196,   3,   0],\n",
              "       [ 32, 197,  14,   0],\n",
              "       [  3, 111,  24,   0],\n",
              "       [  0,  11,   9,   1]])"
            ]
          },
          "metadata": {
            "tags": []
          },
          "execution_count": 32
        }
      ]
    },
    {
      "cell_type": "code",
      "metadata": {
        "id": "pjalMiz4yQOi",
        "colab_type": "code",
        "outputId": "9475bcfa-c3c5-4553-81c9-70c5e3564f0a",
        "colab": {
          "base_uri": "https://localhost:8080/",
          "height": 84
        }
      },
      "source": [
        "print(\"F1.........: %f\" %(f1_score(y1_test1, y_pred, average=\"macro\")))\n",
        "print(\"Precision..: %f\" %(precision_score(y1_test1, y_pred, average=\"macro\")))\n",
        "print(\"Recall.....: %f\" %(recall_score(y1_test1, y_pred, average=\"macro\")))\n",
        "print(\"Accuracy...: %f\" %(accuracy_score(y1_test1, y_pred)))"
      ],
      "execution_count": 0,
      "outputs": [
        {
          "output_type": "stream",
          "text": [
            "F1.........: 0.300311\n",
            "Precision..: 0.622546\n",
            "Recall.....: 0.315228\n",
            "Accuracy...: 0.425758\n"
          ],
          "name": "stdout"
        }
      ]
    },
    {
      "cell_type": "code",
      "metadata": {
        "id": "M0RumO3L2v-s",
        "colab_type": "code",
        "outputId": "dc1c7e6b-d471-4e8b-db9a-0a5011f7705a",
        "colab": {
          "base_uri": "https://localhost:8080/",
          "height": 477
        }
      },
      "source": [
        "plt.plot(history.history['loss'])\n",
        "plt.plot(history.history['val_loss'])\n",
        "plt.title('model loss')\n",
        "plt.ylabel('loss')\n",
        "plt.xlabel('epoch')\n",
        "plt.legend(['train'], loc='upper left')\n",
        "plt.show()"
      ],
      "execution_count": 0,
      "outputs": [
        {
          "output_type": "error",
          "ename": "KeyError",
          "evalue": "ignored",
          "traceback": [
            "\u001b[0;31m---------------------------------------------------------------------------\u001b[0m",
            "\u001b[0;31mKeyError\u001b[0m                                  Traceback (most recent call last)",
            "\u001b[0;32m<ipython-input-34-eb55823b0c19>\u001b[0m in \u001b[0;36m<module>\u001b[0;34m()\u001b[0m\n\u001b[1;32m      1\u001b[0m \u001b[0mplt\u001b[0m\u001b[0;34m.\u001b[0m\u001b[0mplot\u001b[0m\u001b[0;34m(\u001b[0m\u001b[0mhistory\u001b[0m\u001b[0;34m.\u001b[0m\u001b[0mhistory\u001b[0m\u001b[0;34m[\u001b[0m\u001b[0;34m'loss'\u001b[0m\u001b[0;34m]\u001b[0m\u001b[0;34m)\u001b[0m\u001b[0;34m\u001b[0m\u001b[0;34m\u001b[0m\u001b[0m\n\u001b[0;32m----> 2\u001b[0;31m \u001b[0mplt\u001b[0m\u001b[0;34m.\u001b[0m\u001b[0mplot\u001b[0m\u001b[0;34m(\u001b[0m\u001b[0mhistory\u001b[0m\u001b[0;34m.\u001b[0m\u001b[0mhistory\u001b[0m\u001b[0;34m[\u001b[0m\u001b[0;34m'val_loss'\u001b[0m\u001b[0;34m]\u001b[0m\u001b[0;34m)\u001b[0m\u001b[0;34m\u001b[0m\u001b[0;34m\u001b[0m\u001b[0m\n\u001b[0m\u001b[1;32m      3\u001b[0m \u001b[0mplt\u001b[0m\u001b[0;34m.\u001b[0m\u001b[0mtitle\u001b[0m\u001b[0;34m(\u001b[0m\u001b[0;34m'model loss'\u001b[0m\u001b[0;34m)\u001b[0m\u001b[0;34m\u001b[0m\u001b[0;34m\u001b[0m\u001b[0m\n\u001b[1;32m      4\u001b[0m \u001b[0mplt\u001b[0m\u001b[0;34m.\u001b[0m\u001b[0mylabel\u001b[0m\u001b[0;34m(\u001b[0m\u001b[0;34m'loss'\u001b[0m\u001b[0;34m)\u001b[0m\u001b[0;34m\u001b[0m\u001b[0;34m\u001b[0m\u001b[0m\n\u001b[1;32m      5\u001b[0m \u001b[0mplt\u001b[0m\u001b[0;34m.\u001b[0m\u001b[0mxlabel\u001b[0m\u001b[0;34m(\u001b[0m\u001b[0;34m'epoch'\u001b[0m\u001b[0;34m)\u001b[0m\u001b[0;34m\u001b[0m\u001b[0;34m\u001b[0m\u001b[0m\n",
            "\u001b[0;31mKeyError\u001b[0m: 'val_loss'"
          ]
        },
        {
          "output_type": "display_data",
          "data": {
            "image/png": "[encoded data removed]",
            "text/plain": [
              "<Figure size 432x288 with 1 Axes>"
            ]
          },
          "metadata": {
            "tags": []
          }
        }
      ]
    },
    {
      "cell_type": "code",
      "metadata": {
        "id": "oK5tE_eBaLEJ",
        "colab_type": "code",
        "outputId": "4394dbcc-9d57-4008-feec-e188cb492959",
        "colab": {
          "base_uri": "https://localhost:8080/",
          "height": 34
        }
      },
      "source": [
        "from sklearn.metrics import mean_absolute_error\n",
        "\n",
        "print(\"Mean Absolute Error is : \",mean_absolute_error(y1_test1,y_pred))"
      ],
      "execution_count": 0,
      "outputs": [
        {
          "output_type": "stream",
          "text": [
            "Mean Absolute Error is :  0.5969696969696969\n"
          ],
          "name": "stdout"
        }
      ]
    },
    {
      "cell_type": "code",
      "metadata": {
        "id": "PQX-WsgQfe93",
        "colab_type": "code",
        "colab": {}
      },
      "source": [
        "p = []\n",
        "y2_old = []\n",
        "for i in pred:\n",
        "  if i<0.25:\n",
        "    p.append(0)\n",
        "    y2_old.append(0)\n",
        "  elif i>=0.25 and i<0.50:\n",
        "    p.append(1)\n",
        "    y2_old.append(1)\n",
        "  elif i>=0.5 and i<0.75:\n",
        "    p.append(2)\n",
        "    y2_old.append(2)\n",
        "  else:\n",
        "    p.append(3)\n",
        "    y2_old.append(3)"
      ],
      "execution_count": 0,
      "outputs": []
    },
    {
      "cell_type": "code",
      "metadata": {
        "id": "vC4v-HX-gZCc",
        "colab_type": "code",
        "outputId": "ca88f253-922e-478f-b2c7-764e08a45ce8",
        "colab": {
          "base_uri": "https://localhost:8080/",
          "height": 202
        }
      },
      "source": [
        "print(pred)\n",
        "print(y2[:10])"
      ],
      "execution_count": 0,
      "outputs": [
        {
          "output_type": "stream",
          "text": [
            "[[0.]\n",
            " [0.]\n",
            " [0.]\n",
            " [0.]\n",
            " [0.]\n",
            " [0.]\n",
            " [0.]\n",
            " [0.]\n",
            " [0.]\n",
            " [0.]]\n",
            "[0.   0.   0.   0.5  0.5  0.25 0.   0.   0.25 0.25]\n"
          ],
          "name": "stdout"
        }
      ]
    },
    {
      "cell_type": "code",
      "metadata": {
        "id": "DKYLvSVkiEY8",
        "colab_type": "code",
        "colab": {}
      },
      "source": [
        "from sklearn.model_selection import train_test_split"
      ],
      "execution_count": 0,
      "outputs": []
    },
    {
      "cell_type": "code",
      "metadata": {
        "id": "zd1nHcwDikbf",
        "colab_type": "code",
        "colab": {}
      },
      "source": [
        "X_train, X_test, y_train, y_test = train_test_split(X_text,y2,test_size=0.2 ,random_state=121)"
      ],
      "execution_count": 0,
      "outputs": []
    },
    {
      "cell_type": "code",
      "metadata": {
        "id": "iMPugYeghR83",
        "colab_type": "code",
        "colab": {}
      },
      "source": [
        "from sklearn.svm import SVC"
      ],
      "execution_count": 0,
      "outputs": []
    },
    {
      "cell_type": "code",
      "metadata": {
        "id": "hWNSxIgThSo0",
        "colab_type": "code",
        "outputId": "e54aff44-86f3-418b-e857-abce8f7c8e36",
        "colab": {
          "base_uri": "https://localhost:8080/",
          "height": 84
        }
      },
      "source": [
        "clf = SVC(gamma='auto')\n",
        "clf.fit(X_train,y_train)"
      ],
      "execution_count": 0,
      "outputs": [
        {
          "output_type": "execute_result",
          "data": {
            "text/plain": [
              "SVC(C=1.0, cache_size=200, class_weight=None, coef0=0.0,\n",
              "    decision_function_shape='ovr', degree=3, gamma='auto', kernel='rbf',\n",
              "    max_iter=-1, probability=False, random_state=None, shrinking=True,\n",
              "    tol=0.001, verbose=False)"
            ]
          },
          "metadata": {
            "tags": []
          },
          "execution_count": 16
        }
      ]
    },
    {
      "cell_type": "code",
      "metadata": {
        "id": "RdYSVJeQhZP7",
        "colab_type": "code",
        "colab": {}
      },
      "source": [
        "score_train = clf.score(X_train,y_train)"
      ],
      "execution_count": 0,
      "outputs": []
    },
    {
      "cell_type": "code",
      "metadata": {
        "id": "vvFCYfLgjyW7",
        "colab_type": "code",
        "colab": {}
      },
      "source": [
        "score_test = clf.score(X_test, y_test)"
      ],
      "execution_count": 0,
      "outputs": []
    },
    {
      "cell_type": "code",
      "metadata": {
        "id": "vD3FkDIXhj4j",
        "colab_type": "code",
        "outputId": "26e0b5cb-5245-4230-d40f-30bcd3c5b13e",
        "colab": {
          "base_uri": "https://localhost:8080/",
          "height": 50
        }
      },
      "source": [
        "print(score_train)\n",
        "print(score_test)"
      ],
      "execution_count": 0,
      "outputs": [
        {
          "output_type": "stream",
          "text": [
            "0.9850265352539803\n",
            "0.3949962092494314\n"
          ],
          "name": "stdout"
        }
      ]
    },
    {
      "cell_type": "code",
      "metadata": {
        "id": "KEXLr0p4hmo1",
        "colab_type": "code",
        "colab": {}
      },
      "source": [
        ""
      ],
      "execution_count": 0,
      "outputs": []
    },
    {
      "cell_type": "code",
      "metadata": {
        "id": "EZeFujDm6eBT",
        "colab_type": "code",
        "colab": {}
      },
      "source": [
        "model.save_weights('model3.h5')"
      ],
      "execution_count": 0,
      "outputs": []
    },
    {
      "cell_type": "code",
      "metadata": {
        "id": "SdvJtGngl4LJ",
        "colab_type": "code",
        "outputId": "d6d0cfa4-f6af-4a4b-a99b-f9960db82427",
        "colab": {
          "base_uri": "https://localhost:8080/",
          "height": 286
        }
      },
      "source": [
        "img = cv2.imread(\"/content/drive/My Drive/data_7000/\"+df.imgname[0],cv2.IMREAD_GRAYSCALE)\n",
        "bilFilter = cv2.bilateralFilter(img,9,75,75)\n",
        "gaus = cv2.GaussianBlur(img,(3, 3), 0)\n",
        "thres = cv2.adaptiveThreshold(gaus,255,cv2.ADAPTIVE_THRESH_MEAN_C,cv2.THRESH_BINARY_INV,5,4)\n",
        "plt.imshow(thres) "
      ],
      "execution_count": 0,
      "outputs": [
        {
          "output_type": "execute_result",
          "data": {
            "text/plain": [
              "<matplotlib.image.AxesImage at 0x7f4d084f4f28>"
            ]
          },
          "metadata": {
            "tags": []
          },
          "execution_count": 67
        },
        {
          "output_type": "display_data",
          "data": {
            "image/png": "[encoded data removed]",
            "text/plain": [
              "<Figure size 432x288 with 1 Axes>"
            ]
          },
          "metadata": {
            "tags": []
          }
        }
      ]
    },
    {
      "cell_type": "markdown",
      "metadata": {
        "id": "pjXSj4888JW5",
        "colab_type": "text"
      },
      "source": [
        "# New Section "
      ]
    },
    {
      "cell_type": "code",
      "metadata": {
        "id": "HCT6t8Jz8Lie",
        "colab_type": "code",
        "colab": {}
      },
      "source": [
        "import re\n",
        "import string\n",
        "import pickle\n",
        "import numpy as np\n",
        "import pandas as pd\n",
        "from nltk.corpus import stopwords\n",
        "from nltk.stem import PorterStemmer, SnowballStemmer\n",
        "from nltk.tokenize import TweetTokenizer\n",
        "from sklearn.ensemble import VotingClassifier\n",
        "from sklearn.svm import LinearSVC\n",
        "from sklearn.naive_bayes import MultinomialNB\n",
        "from sklearn.linear_model import LogisticRegression\n",
        "from sklearn.ensemble import RandomForestClassifier\n",
        "from sklearn.feature_extraction.text import CountVectorizer\n",
        "from sklearn.metrics import f1_score, precision_score, accuracy_score, recall_score\n",
        "from sklearn.metrics import confusion_matrix\n",
        "\n",
        "from nltk.tokenize import TweetTokenizer\n",
        "from sklearn.model_selection import train_test_split\n",
        "from keras.preprocessing.text import Tokenizer\n",
        "from keras.preprocessing import sequence\n",
        "from keras.models import Model\n",
        "from keras.layers import Dense, Dropout, Embedding\n",
        "from keras.layers import LSTM, CuDNNLSTM, Flatten\n",
        "from keras.layers import GRU, Activation, Input, concatenate\n",
        "from keras.layers import Conv2D, MaxPool2D, Reshape\n",
        "from keras.optimizers import Adam, SGD, RMSprop\n",
        "from keras import optimizers\n",
        "from keras import regularizers\n",
        "\n",
        "from xgboost import XGBClassifier"
      ],
      "execution_count": 0,
      "outputs": []
    },
    {
      "cell_type": "code",
      "metadata": {
        "id": "cj1ZJyNX83T_",
        "colab_type": "code",
        "outputId": "a631a0ee-4ba0-4f3b-d7ad-72029c085989",
        "colab": {
          "base_uri": "https://localhost:8080/",
          "height": 67
        }
      },
      "source": [
        "import nltk\n",
        "nltk.download('stopwords')"
      ],
      "execution_count": 0,
      "outputs": [
        {
          "output_type": "stream",
          "text": [
            "[nltk_data] Downloading package stopwords to /root/nltk_data...\n",
            "[nltk_data]   Package stopwords is already up-to-date!\n"
          ],
          "name": "stdout"
        },
        {
          "output_type": "execute_result",
          "data": {
            "text/plain": [
              "True"
            ]
          },
          "metadata": {
            "tags": []
          },
          "execution_count": 58
        }
      ]
    },
    {
      "cell_type": "code",
      "metadata": {
        "id": "Ff7Tdsj4X8Tu",
        "colab_type": "code",
        "colab": {}
      },
      "source": [
        "trial_data = pd.read_csv(\"/content/drive/My Drive/data1.csv\", sep=',')\n",
        "train_data = pd.read_csv(\"/content/drive/My Drive/data_7000_new.csv\", sep=',', names=['image_name', 'Image_URL', 'OCR_extracted_text', 'corrected_text', 'Humour', 'Sarcasm', 'offensive', 'Motivational', 'Overall_Sentiment', 'Basis_of_classification'])"
      ],
      "execution_count": 0,
      "outputs": []
    },
    {
      "cell_type": "code",
      "metadata": {
        "id": "wSM89DRaiDPl",
        "colab_type": "code",
        "outputId": "ba738727-7a76-41fd-8fe8-a4309d1959f3",
        "colab": {
          "base_uri": "https://localhost:8080/",
          "height": 134
        }
      },
      "source": [
        "train_data.Overall_Sentiment.value_counts()"
      ],
      "execution_count": 0,
      "outputs": [
        {
          "output_type": "execute_result",
          "data": {
            "text/plain": [
              "positive                                                          2912\n",
              "neutral                                                           2073\n",
              "very_positive                                                      958\n",
              "negative                                                           439\n",
              "very_negative                                                      138\n",
              "positivechandler_Friday-Mood-AF.-meme-Friends-ChandlerBing.jpg       1\n",
              "Name: Overall_Sentiment, dtype: int64"
            ]
          },
          "metadata": {
            "tags": []
          },
          "execution_count": 99
        }
      ]
    },
    {
      "cell_type": "code",
      "metadata": {
        "id": "PDSY3uVSYFG4",
        "colab_type": "code",
        "colab": {}
      },
      "source": [
        "# train_data = train_data[train_data.Overall_Sentiment != 'neutral']\n",
        "train_data = train_data[train_data.Overall_Sentiment != 'positivechandler_Friday-Mood-AF.-meme-Friends-ChandlerBing.jpg']\n",
        "train_data = train_data[~train_data.Overall_Sentiment.isnull()] \n",
        "# trial_data = trial_data[trial_data.Overall_Sentiment != 'neutral']\n",
        "trial_data = trial_data[~trial_data.Overall_Sentiment.isnull()]"
      ],
      "execution_count": 0,
      "outputs": []
    },
    {
      "cell_type": "code",
      "metadata": {
        "id": "ap50bfnfiRTM",
        "colab_type": "code",
        "outputId": "16eb2c37-b69e-42fd-f884-a3f0fab93627",
        "colab": {
          "base_uri": "https://localhost:8080/",
          "height": 118
        }
      },
      "source": [
        "train_data.Overall_Sentiment.value_counts()"
      ],
      "execution_count": 0,
      "outputs": [
        {
          "output_type": "execute_result",
          "data": {
            "text/plain": [
              "positive         2912\n",
              "neutral          2073\n",
              "very_positive     958\n",
              "negative          439\n",
              "very_negative     138\n",
              "Name: Overall_Sentiment, dtype: int64"
            ]
          },
          "metadata": {
            "tags": []
          },
          "execution_count": 101
        }
      ]
    },
    {
      "cell_type": "code",
      "metadata": {
        "id": "4NsIr_XxYGdg",
        "colab_type": "code",
        "outputId": "21d6ad59-9b65-4b7f-95fa-f6ee04a8a5dd",
        "colab": {
          "base_uri": "https://localhost:8080/",
          "height": 50
        }
      },
      "source": [
        "print(train_data.shape)\n",
        "print(trial_data.shape)"
      ],
      "execution_count": 0,
      "outputs": [
        {
          "output_type": "stream",
          "text": [
            "(6520, 10)\n",
            "(914, 10)\n"
          ],
          "name": "stdout"
        }
      ]
    },
    {
      "cell_type": "code",
      "metadata": {
        "id": "l8dpFhZVYTk_",
        "colab_type": "code",
        "colab": {}
      },
      "source": [
        "def clean_tweets(tweet):\n",
        "    tweet = re.sub('@(\\\\w{1,15})\\b', '', str(tweet))\n",
        "    tweet = tweet.replace(\"via \", \"\")\n",
        "    tweet = tweet.replace(\"RT \", \"\")\n",
        "    tweet = tweet.lower()\n",
        "    return tweet\n",
        "    \n",
        "def clean_url(tweet):\n",
        "    tweet = re.sub('http\\\\S+', '', tweet, flags=re.MULTILINE)   \n",
        "    return tweet\n",
        "    \n",
        "def remove_stop_words(tweet):\n",
        "    stops = set(stopwords.words(\"english\"))\n",
        "    stops.update(['.',',','\"',\"'\",'?',':',';','(',')','[',']','{','}'])\n",
        "    toks = [tok for tok in tweet if not tok in stops and len(tok) >= 3]\n",
        "    return toks\n",
        "    \n",
        "def stemming_tweets(tweet):\n",
        "    stemmer = SnowballStemmer('english')\n",
        "    stemmed_words = [stemmer.stem(word) for word in tweet]\n",
        "    return stemmed_words\n",
        "\n",
        "def remove_number(tweet):\n",
        "    newTweet = re.sub('\\\\d+', '', tweet)\n",
        "    return newTweet\n",
        "\n",
        "def remove_hashtags(tweet):\n",
        "    result = ''\n",
        "\n",
        "    for word in tweet.split():\n",
        "        if word.startswith('#') or word.startswith('@'):\n",
        "            result += word[1:]\n",
        "            result += ' '\n",
        "        else:\n",
        "            result += word\n",
        "            result += ' '\n",
        "\n",
        "    return result\n",
        "\n",
        "def preprocessing(tweet, swords = True, url = True, stemming = True, ctweets = True, number = True, hashtag = True):\n",
        "\n",
        "    if ctweets:\n",
        "        tweet = clean_tweets(tweet)\n",
        "\n",
        "    if url:\n",
        "        tweet = clean_url(tweet)\n",
        "\n",
        "    if hashtag:\n",
        "        tweet = remove_hashtags(tweet)\n",
        "    \n",
        "    twtk = TweetTokenizer(strip_handles=True, reduce_len=True)\n",
        "\n",
        "    if number:\n",
        "        tweet = remove_number(tweet)\n",
        "    \n",
        "    tokens = [w.lower() for w in twtk.tokenize(tweet) if w != \"\" and w is not None]\n",
        "\n",
        "    if swords:\n",
        "        tokens = remove_stop_words(tokens)\n",
        "\n",
        "    if stemming:\n",
        "        tokens = stemming_tweets(tokens)\n",
        "\n",
        "    text = \" \".join(tokens)\n",
        "\n",
        "    return text"
      ],
      "execution_count": 0,
      "outputs": []
    },
    {
      "cell_type": "code",
      "metadata": {
        "id": "VzWL4oqQYgy4",
        "colab_type": "code",
        "colab": {}
      },
      "source": [
        "train_text  = train_data['corrected_text'].map(lambda x: preprocessing(x, swords = True, url = True, stemming = True, ctweets = True, number = True, hashtag = True))\n",
        "s_train     = train_data['Overall_Sentiment']\n",
        "\n",
        "trial_text  = trial_data['corrected_text'].map(lambda x: preprocessing(x, swords = True, url = True, stemming = True, ctweets = True, number = True, hashtag = True))\n",
        "s_trial     = trial_data['Overall_Sentiment']"
      ],
      "execution_count": 0,
      "outputs": []
    },
    {
      "cell_type": "code",
      "metadata": {
        "id": "A4oOUgeDYq0F",
        "colab_type": "code",
        "outputId": "faf58fca-d727-4dd4-f198-2c3c77d2bbd2",
        "colab": {
          "base_uri": "https://localhost:8080/",
          "height": 50
        }
      },
      "source": [
        "print(len(train_text), len(s_train))\n",
        "print(len(trial_text), len(s_trial))"
      ],
      "execution_count": 0,
      "outputs": [
        {
          "output_type": "stream",
          "text": [
            "4448 4448\n",
            "637 637\n"
          ],
          "name": "stdout"
        }
      ]
    },
    {
      "cell_type": "code",
      "metadata": {
        "id": "k0jUwXD7Yz3Z",
        "colab_type": "code",
        "colab": {}
      },
      "source": [
        "def bag_of_words(train, test):\n",
        "    vec = CountVectorizer()\n",
        "    train = vec.fit_transform(train).toarray()\n",
        "    test = vec.transform(test).toarray()\n",
        "    print(vec.vocabulary_)\n",
        "    return train, test"
      ],
      "execution_count": 0,
      "outputs": []
    },
    {
      "cell_type": "code",
      "metadata": {
        "id": "36VC_5qcY18M",
        "colab_type": "code",
        "outputId": "19f26948-6557-4131-d57b-847d292750e7",
        "colab": {
          "base_uri": "https://localhost:8080/",
          "height": 54
        }
      },
      "source": [
        "x_train, x_test = bag_of_words(train_text, trial_text)"
      ],
      "execution_count": 0,
      "outputs": [
        {
          "output_type": "stream",
          "text": [
            "{'look': 4918, 'friend': 3086, 'lightyear': 4825, 'sohalikut': 7698, 'trend': 8578, 'play': 6347, 'year': 9394, 'challeng': 1350, 'facebook': 2743, 'imgflip': 4044, 'com': 1613, 'best': 809, 'yearchalleng': 9395, 'complet': 1653, 'less': 4775, 'kudus': 4621, 'narendramodi': 5639, 'jan': 4343, 'mumbai': 5574, 'india': 4106, 'sam': 7178, 'thorn': 8403, 'strippin': 7996, 'follow': 2982, 'saw': 7231, 'everyon': 2666, 'post': 6437, 'pic': 6293, 'here': 3708, 'mine': 5390, 'retweet': 6958, 'like': 4829, 'sweet': 8129, 'dee': 2053, 'edit': 2479, 'filter': 2896, 'hilari': 3747, 'meme': 5228, 'get': 3284, 'car': 1247, 'stranger': 7978, 'meet': 5204, 'peopl': 6220, 'internet': 4211, 'alon': 230, 'memecenter': 5239, 'uber': 8707, 'order': 5994, 'lit': 4859, 'erg': 2612, 'wow': 9328, 'transform': 8555, 'emot': 2548, 'boredpanda': 980, 'fornit': 3018, 'die': 2189, 'month': 5489, 'minecraft': 5391, 'never': 5714, 'proud': 6588, 'communiti': 1645, 'ploy': 6364, 'simpl': 7533, 'exo': 2699, 'minh': 5394, 'probabl': 6535, 'first': 2915, 'man': 5068, 'chennai': 1412, 'pasanga': 6139, 'state': 7910, 'dine': 2213, 'room': 7076, 'white': 9189, 'hous': 3865, 'kind': 4561, 'went': 9139, 'futur': 3181, 'instead': 4183, 'back': 597, 'instant': 4182, 'regret': 6864, 'ifidownloada': 3985, 'movi': 5541, 'jamaica': 4339, 'ami': 268, 'pirat': 6325, 'caribbean': 1260, 'pick': 6295, 'food': 2989, 'floor': 2962, 'sec': 7307, 'bacteria': 606, 'angri': 319, 'fuck': 3117, 'anti': 349, 'vaxx': 8897, 'kid': 4543, 'see': 7315, 'someon': 7721, 'time': 8444, 'someth': 7722, 'acknowledg': 72, 'wakeup': 9027, 'read': 6787, 'messag': 5320, 'sent': 7357, 'actual': 87, 'famili': 2773, 'member': 5226, 'drunk': 2401, 'latest': 4683, 'realiz': 6798, 'lost': 4932, 'game': 3204, 'decid': 2042, 'want': 9044, 'spoiler': 7817, 'aveng': 554, 'infin': 4125, 'war': 9047, 'thano': 8299, 'demand': 2086, 'silenc': 7523, 'dushrox': 2434, 'rememb': 6898, 'feel': 2836, 'old': 5928, 'yet': 9404, 'hulk': 3895, 'right': 7003, 'charact': 1373, 'all': 212, 'femal': 2851, 'work': 9306, 'forc': 2999, 'sound': 7753, 'great': 3441, 'would': 9323, 'fight': 2884, 'armi': 428, 'gotta': 3401, 'jar': 4349, 'dirt': 2226, 'awesom': 570, 'pictur': 6300, 'themetapicture': 8338, 'languag': 4663, 'realli': 6799, 'blerd': 908, 'vis': 8967, 'becom': 738, 'later': 4682, 'suck': 8041, 'snap': 7652, 'also': 238, 'claim': 1518, 'captain': 1243, 'beard': 725, 'wonder': 9291, 'who': 9192, 'call': 1192, 'hawkey': 3639, 'lord': 4925, 'goku': 3362, 'vegeta': 8903, 'everi': 2663, 'alreadi': 234, 'know': 4594, 'vers': 8916, 'understood': 8757, 'refer': 6848, 'dank': 1963, 'funni': 3144, 'hey': 3726, 'peter': 6255, 'what': 9155, 'new': 5720, 'well': 9133, 'good': 3378, 'underoo': 8755, 'spider': 7802, 'next': 5726, 'soni': 7729, 'memecreator': 5245, 'there': 8359, 'tell': 8242, 'much': 5556, 'go': 3348, 'avoid': 562, 'coulson': 1771, 'thor': 8402, 'loki': 4898, 'vision': 8972, 'cap': 1233, 'furi': 3173, 'civil': 1514, 'rhodey': 6981, 'groh': 3469, 'nevermind': 5715, 'age': 143, 'ultron': 8726, 'quicksilv': 6694, 'ifunny': 3991, 'co': 1571, 'end': 2562, 'still': 7954, 'watch': 9066, 'memegenerator': 5257, 'net': 5706, 'can': 1212, 'wait': 9021, 'marvel': 5131, 'screen': 7283, 'ladi': 4645, 'carol': 1266, 'danver': 1970, 'endgam': 2564, 'said': 7165, 'name': 5629, 'plot': 6363, 'info': 4130, 'action': 79, 'appear': 380, 'big': 845, 'surpris': 8102, 'titl': 8463, 'reveal': 6963, 'one': 5958, 'fan': 2777, 'guess': 3495, 'liter': 4860, 'amount': 275, 'trailer': 8548, 'come': 1620, 'leak': 4718, 'scene': 7257, 'thought': 8405, 'gonna': 3376, 'save': 7226, 'univers': 8791, 'curs': 1905, 'knowledg': 4596, 'seen': 7321, 'vaibhav': 8882, 'lamevaibhav': 4658, 'join': 4414, 'twitter': 8695, 'start': 7897, 'tweet': 8682, 'think': 8390, 'keep': 4518, 'parti': 6130, 'low': 4958, 'key': 4532, 'mornin': 5508, 'seem': 7320, 'differ': 2195, 'pretti': 6505, 'stark': 7895, 'roger': 7059, 'america': 264, 'date': 1991, 'volunt': 9003, 'hypocrici': 3929, 'koi': 4602, 'sima': 7529, 'hoti': 3858, 'hai': 3542, 'bhalobhno': 831, 'okay': 5918, 'explos': 2718, 'invad': 4230, 'asgard': 463, 'true': 8621, 'bullshit': 1133, 'naaawt': 5617, 'serious': 7370, 'took': 8512, 'stop': 7967, 'alien': 206, 'invas': 4232, 'technic': 8224, 'two': 8696, 'four': 3037, 'contain': 1707, 'destruct': 2143, 'citi': 1511, 'block': 916, 'human': 3897, 'live': 4865, 'damag': 1944, 'caus': 1302, 'way': 9080, 'break': 1032, 'offici': 5895, 'hour': 3864, 'import': 4071, 'though': 8404, 'comic': 1629, 'book': 972, 'thing': 8388, 'deadpool': 2016, 'cold': 1592, 'aye': 577, 'blo': 915, 'visu': 8977, 'bottom': 995, 'theblerdvis': 8319, 'we': 9088, 'say': 7233, 'love': 4950, 'black': 895, 'panther': 6101, 'nice': 5737, 'final': 2898, 'superheroin': 8069, 'winter': 9248, 'soldier': 7705, 'inspiringmarv': 4167, 'zenitus': 9455, 'crew': 1832, 'school': 7262, 'hate': 3620, 'earli': 2449, 'creat': 1822, 'put': 6648, 'front': 3105, 'page': 6075, 'quickmeme': 6689, 'iron': 4255, 'wear': 9095, 'mask': 5140, 'hero': 3715, 'battl': 701, 'need': 5676, 'help': 3699, 'walk': 9031, 'bullet': 1129, 'll': 4875, 'sit': 7559, 'hit': 3777, 'hang': 3567, 'bud': 1109, 'alcohol': 197, 'weed': 9111, 'memes': 5267, 'potato': 6444, 'chip': 1444, 'tortilla': 8524, 'nobodi': 5778, 'rat': 6767, 'centuri': 1330, 'inevit': 4121, 'dad': 1926, 'stone': 7965, 'half': 3551, 'gone': 3375, 'theater': 8313, 'coincid': 1590, 'happi': 3579, 'birthday': 881, 'jame': 4341, 'marsden': 5121, 'avengersmem': 556, 'turn': 8665, 'today': 8477, 'enter': 2583, 'ass': 477, 'fallen': 2769, 'david': 1999, 'itsdxvid': 4305, 'real': 6791, 'reason': 6806, 'move': 5539, 'forward': 3026, 'give': 3328, 'person': 6248, 'god': 3351, 'believ': 771, 'ironman': 4257, 'take': 8162, 'dig': 2200, 'spiderman': 7803, 'might': 5358, 'download': 2360, 'wrong': 9344, 'anyth': 360, 'happen': 3576, 'kill': 4552, 'win': 9237, 'earth': 2453, 'mightiest': 5360, 'grape': 3427, 'string': 7993, 'femaleship': 2853, 'don': 2322, 'kthink': 4620, 'gandalf': 3213, 'meant': 5190, 'that': 8300, 'secret': 7309, 'alway': 244, 'hungri': 3913, 'prepar': 6492, 'death': 2023, 'toni': 8506, 'parker': 6124, 'protec': 6582, 'attac': 509, 'ran': 6754, 'snac': 7648, 'care': 1255, 'spidey': 7804, 'via': 8926, 'shield': 7443, 'realis': 6795, 'releas': 6886, 'cavengers_sup': 1305, 'ask': 471, 'yes': 9402, 'liar': 4797, 'lock': 4890, 'condom': 1674, 'got': 3394, 'arrow': 441, 'dontown': 2335, 'open': 5974, 'reed': 6845, 'toast': 8474, 'bread': 1031, 'dont': 2331, 'toaster': 8475, 'tve': 8675, 'fine': 2902, 'sign': 7519, 'it': 4297, 'pathet': 6155, 'mortal': 5514, 'expert': 2710, 'thermonuclear': 8364, 'astrophys': 491, 'last': 4678, 'night': 5756, 'adet': 99, 'sacr': 7150, 'congratul': 1687, 'adopt': 111, 'memebase': 5233, 'day': 2005, 'poopcultureindia': 6409, 'sex': 7387, 'tape': 8183, 'pci': 6187, 'normi': 5808, 'reee': 6846, 'men': 5292, 'rush': 7129, 'money': 5480, 'babi': 589, 'godfath': 3355, 'eat': 2460, 'dick': 2181, 'girl': 3321, 'stole': 7961, 'juic': 4455, 'box': 1008, 'son': 7727, 'bitch': 884, 'told': 8489, 'meit': 5216, 'nap': 5634, 'nose': 5814, 'bleed': 906, 'judg': 4449, 'slow': 7607, 'women': 9288, 'hmm': 3785, 'bad': 607, 'may': 5171, 'second': 7308, 'child': 1428, 'masculin': 5138, 'mean': 5188, 'spoon': 7829, 'airplan': 171, 'jack': 4319, 'jillon': 4391, 'turf': 8662, 'find': 2900, 'tooth': 8514, 'fairi': 2761, 'make': 5040, 'bring': 1057, 'accid': 56, 'everytim': 2669, 'almost': 229, 'juicebox': 4456, 'littl': 4862, 'poni': 6403, 'peeraboo': 6203, 'head': 3650, 'crib': 1834, 'bastard': 694, 'arrang': 436, 'five': 2930, 'chompfath': 1454, 'trigger': 8592, 'cradl': 1804, 'rock': 7042, 'treetop': 8574, 'hear': 3663, 'fuuu': 3182, 'shower': 7490, 'sink': 7549, 'job': 4400, 'gtfo': 3489, 'center': 1326, 'brake': 1021, 'leas': 4724, 'face': 2741, 'memecent': 5238, 'even': 2659, 'father': 2807, 'heck': 3678, 'lmao': 4878, 'petti': 6260, 'savag': 7224, 'bruh': 1086, 'nochillzon': 5780, 'nochil': 5779, 'babyshow': 592, 'niggasbelik': 5754, 'dudesbelik': 2412, 'belik': 772, 'followm': 2985, 'followforfollow': 2984, 'followfollow': 2983, 'drink': 2390, 'water': 9070, 'generator': 3264, 'fat': 2803, 'list': 4856, 'pleasur': 6356, 'santa': 7196, 'naughti': 5650, 'shut': 7503, 'lasteri': 4679, 'motherfuck': 5528, 'dumbass': 2421, 'accord': 62, 'birth': 880, 'einstien': 2505, 'video': 8938, 'nick': 5740, 'current': 1903, 'outnumb': 6035, 'mother': 5526, 'sayin': 7235, 'ninja': 5764, 'machet': 5000, 'offer': 5890, 'refus': 6855, 'clean': 1532, 'underworld': 8762, 'continu': 1709, 'challang': 1349, 'sgotbeaten': 7395, 'mafia': 5014, 'interest': 4203, 'squid': 7854, 'trust': 8629, 'teeth': 8236, 'bite': 887, 'tongu': 8505, 'act': 78, 'speak': 7780, 'spanish': 7772, 'mexican': 5330, 'kept': 4527, 'cool': 1725, 'coolo': 1728, 'learn': 4721, 'figur': 2886, 'ridicul': 7000, 'photogen': 6284, 'guy': 3518, 'accept': 53, 'ted': 8229, 'stare': 7892, 'boob': 970, 'defens': 2063, 'talk': 8167, 'woman': 9284, 'gotten': 3402, 'barney': 672, 'stinson': 7958, 'commit': 1640, 'narnia': 5641, 'forev': 3005, 'imagin': 4025, 'bachelor': 595, 'plan': 6340, 'simpli': 7535, 'mordor': 5501, 'memedroid': 5248, 'marri': 5119, 'robin': 7038, 'swag': 8117, 'boy': 1009, 'class': 1523, 'stori': 7971, 'roflrazz': 7055, 'text': 8282, 'hhowimetyow': 3730, 'eoit': 2595, 'lare': 4668, 'engag': 2573, 'found': 3033, 'request': 6927, 'karthik_keyi': 4503, 'sad': 7154, 'stabe': 7868, 'sometim': 7724, 'wish': 9257, 'everybodi': 2664, 'could': 1769, 'barneystinson': 674, 'himymquot': 3758, 'himym': 3757, 'howimetyourmoth': 3874, 'hot': 3855, 'crazi': 1815, 'life': 4810, 'lifeisgood': 4814, 'tedmosbi': 8231, 'marshalleriksen': 5122, 'lilyaldrin': 4834, 'robinscherbatski': 7039, 'total': 8527, 'harri': 3597, 'potter': 6446, 'line': 4842, 'vitamin': 8980, 'ha': 3527, 'heard': 3664, 'platform': 6346, 'els': 2532, 'exact': 2681, 'sane': 7189, 'measur': 5192, 'girlfriend': 3322, 'stripper': 7995, 'ostwa': 6013, 'chowalbo': 1464, 'drawn': 2379, 'tabl': 8153, 'awkward': 574, 'moment': 5471, 'singl': 7548, 'group': 3476, 'salut': 7176, 'high': 3737, 'smurf': 7647, 'shit': 7451, 'sourc': 7757, 'okc': 5920, 'million': 5380, 'deal': 2018, 'replac': 6911, 'kevin': 4531, 'durant': 2433, 'without': 9266, 'aweso': 569, 'rule': 7116, 'better': 820, 'suit': 8051, 'tonight': 8507, 'legendari': 4750, 'document': 2291, 'number': 5842, 'noth': 5819, 'photoshop': 6288, 'cant': 1226, 'fix': 2932, 'annual': 334, 'declar': 2046, 'quotes': 6708, 'dump': 2424, 'porn': 6424, 'star': 7890, 'friendship': 3093, 'powerbar': 6456, 'hand': 3558, 'fuel': 3128, 'mom': 5467, 'met': 5322, 'yeah': 9392, 'introduc': 4227, 'legend': 4749, 'hope': 3840, 'lactos': 4641, 'intoler': 4224, 'word': 9303, 'dairi': 1938, 'season': 7301, 'show': 7489, 'doogi': 2338, 'houser': 3868, 'lie': 4805, 'everyth': 2667, 'classic': 1525, 'justeguot': 4474, 'unless': 8797, 'batman': 699, 'wiam': 9211, 'bang': 649, 'supermodel': 8075, 'close': 1552, 'eye': 2735, 'pretend': 6504, 'glow': 3344, 'dark': 1976, 'swarkl': 8120, 'barney_stinson_off': 673, 'comment': 1636, 'like_a_suit': 4830, 'chick': 1422, 'marijuana': 5108, 'indec': 4102, 'memetentera': 5283, 'ruin': 7115, 'truth': 8630, 'born': 984, 'simon': 7532, 'screw': 7286, 'whose': 9203, 'team': 8215, 'dynam': 2443, 'uno': 8804, 'whaaat': 9153, 'agre': 153, 'mime': 5387, 'barrier': 680, 'pokemon': 6387, 'known': 4598, 'wall': 9033, 'silli': 7526, 'hair': 3544, 'mrs': 5552, 'bean': 721, 'scienc': 7265, 'experi': 2708, 'iwasnt': 4314, 'listen': 4857, 'teacher': 8213, 'partner': 6135, 'noob': 5798, 'beginn': 757, 'pro': 6534, 'beant': 723, 'asian': 468, 'he': 3647, 'borrow': 986, 'lighter': 4822, 'away': 568, 'ulgi': 8723, 'daughter': 1995, 'thei': 8327, 'nternet': 5838, 'sacveng': 7153, 'pmslweb': 6372, 'photo': 6281, 'bomb': 960, 'level': 4784, 'rowan': 7102, 'atkinson': 503, 'exampl': 2684, 'cid': 1496, 'joke': 4417, 'www': 9354, 'rvcj': 7139, 'in': 4079, 'weekend': 9115, 'made': 5008, 'china': 1440, 'long': 4912, 'brazzer': 1030, 'logo': 4897, 'test': 8275, 'stacey': 7870, 'starr': 7896, 'cannot': 1225, 'mr': 5547, 'drive': 2391, 'adult': 114, 'humour': 3906, 'fall': 2768, 'enjoy': 2577, 'mad': 5004, 'idiot': 3967, 'normal': 5806, 'red': 6834, 'light': 4819, 'hater': 3622, 'idea': 3961, 'adimin': 102, 'eeve': 2488, 'huvia': 3923, 'gag': 3193, 'burn': 1149, 'piss': 6326, 'wound': 9327, 'heart': 3665, 'attack': 511, 'morn': 5507, 'tissut': 8456, 'tutissot': 8672, 'rollin': 7065, 'they': 8377, 'hatin': 3624, 'condit': 1673, 'extra': 2728, 'completeg': 1654, 'completegate': 1655, 'readi': 6788, 'free': 3068, 'sempler': 7344, 'gata': 3234, 'wudu': 9351, 'broke': 1067, 'whole': 9197, 'exam': 2682, 'sarcasmlol': 7201, 'rice': 6985, 'hood': 3835, 'sodormemez': 7690, 'perfect': 6234, 'dude': 2410, 'none': 5796, 'imgip': 4049, 'zone': 9469, 'expect': 2703, 'least': 4725, 'other': 6017, 'compani': 1647, 'gono': 3377, 'laughingcolours': 4688, 'thank': 8295, 'alot': 233, 'teach': 8212, 'lesson': 4777, 'forrest': 3020, 'edward': 2484, 'slap': 7584, 'pal': 6087, 'question': 6679, 'subscrib': 8031, 'thrasher': 8408, 'kateboarom': 4508, 'quam': 6671, 'azin': 583, 'nigga': 5752, 'funkera': 3141, 'ago': 151, 'deadasss': 2013, 'wtf': 9349, 'olymp': 5940, 'ceremoni': 1333, 'let': 4778, 'green': 3447, 'tea': 8211, 'tast': 8190, 'sorri': 7742, 'entir': 2588, 'world': 9311, 'bencher': 784, 'definit': 2066, 'must': 5588, 'joker': 4419, 'electr': 2513, 'engin': 2574, 'laugh': 4686, 'cunt': 1894, 'hello': 3697, 'slt': 7609, 'gentlemen': 3274, 'begun': 758, 'horn': 3843, 'fellow': 2847, 'bodi': 947, 'mcdonald': 5177, '_dekhbal': 2, 'childhood': 1429, 'comedi': 1621, '_dekhbhai_for': 4, 'fun': 3137, 'handsom': 3566, 'voic': 8994, 'battlefield': 702, 'memeful': 5252, 'mani': 5078, 'bbc': 708, 'news': 5721, 'beandidit': 722, 'mamelenl': 5064, 'invent': 4233, 'selfi': 7337, 'laden': 4644, 'ride': 6996, 'vet': 8922, 'snow': 7669, 'bingo': 875, 'serb': 7366, 'scratch': 7281, 'flirt': 2956, 'crazyhyena': 1818, 'realiti': 6797, 'camera': 1204, 'shiver': 7461, 'trimbl': 8596, 'funniest': 3146, 'proport': 6573, 'antimanel': 352, 'fake': 2763, 'memetenl': 5280, 'cenat': 1323, 'ifu': 3989, 'holyy': 3812, 'hotter': 3860, 'taught': 8194, 'teddi': 8230, 'coupl': 1779, 'around': 434, 'inventor': 4234, 'jude': 4448, 'boss': 987, 'mum': 5573, 'paid': 6077, 'week': 9113, 'idk': 3969, 'send': 7347, 'pakistani': 6086, 'matter': 5159, 'grow': 3478, 'rvcu': 7141, 'wapvolcom': 9046, 'smile': 7638, 'whenev': 9174, 'rvcjinsta': 7140, 'dielaught': 2191, 'bear': 724, 'relationship': 6882, 'blink': 913, 'fals': 2770, 'thata': 8301, 'inform': 4131, 'search': 7298, 'worst': 9319, 'lesbian': 4774, 'singer': 7546, 'ever': 2662, 'mamecent': 5061, 'behind': 762, 'wheel': 9169, 'ule': 8722, 'wwwhmsfriday': 9355, 'prospect': 6577, 'sure': 8096, 'tomorrow': 8502, 'confus': 1683, 'social': 7683, 'rec': 6813, 'feast': 2827, 'menu': 5306, 'reaction': 6786, 'tag': 8157, 'huge': 3888, 'blb': 905, 'snapchat': 7654, 'belikebro': 774, 'sarcasm': 7200, 'be': 713, 'bro': 1065, 'reject': 6879, 'due': 2413, 'disord': 2255, 'stammer': 7884, 'problem': 6538, 'becam': 733, 'global': 3338, 'success': 8040, 'origin': 6003, 'charli': 1378, 'chaplin': 1372, 'express': 2721, 'hahahah': 3537, 'parent': 6121, 'hna': 3787, 'use': 8854, 'obi': 5864, 'wan': 9039, 'plebian': 6357, 'ohhh': 5911, 'imgfb': 4040, 'stay': 7921, 'awak': 565, 'church': 1492, 'somehow': 7719, 'mrbean': 5550, 'dam': 1943, 'wisdomleak': 9254, 'british': 1063, 'agent': 147, 'tortur': 8525, 'captur': 1246, 'london': 4910, 'terrorist': 8273, 'teacherappreci': 8214, 'gift': 3306, 'gave': 3240, 'homemad': 3818, 'lavend': 4697, 'sugar': 8047, 'scrub': 7289, 'assort': 485, 'gourmet': 3404, 'card': 1253, 'offic': 5892, 'max': 5166, 'given': 3329, 'focus': 2975, 'blend': 907, 'student': 8009, 'magnum': 5026, 'wine': 9241, 'frickin': 3083, 'rais': 6743, 'essentialoilstyle': 2640, 'resolut': 6937, 'fearless': 2825, 'share': 7413, 'oil': 5914, 'anyon': 359, 'skeptic': 7569, 'refrain': 6850, 'dope': 2343, 'queen': 6676, 'ident': 3963, 'tragedi': 8546, 'darth': 1985, 'plaguei': 6337, 'wise': 9255, 'bed': 742, 'diffus': 2199, 'peppermint': 6228, 'wild': 9225, 'orang': 5991, 'reveng': 6965, 'ylang': 9409, 'ching': 1443, 'natur': 5649, 'rid': 6993, 'clog': 1550, 'ear': 2447, 'mix': 5440, 'drop': 2395, 'tree': 8573, 'glass': 3334, 'steam': 7928, 'allow': 225, 'laurel': 4695, 'yanni': 9384, 'extrovert': 2733, 'oiler': 5915, 'salt': 7174, 'palac': 6088, 'hard': 3586, 'introvert': 4228, 'gee': 3252, 'danc': 1954, 'spirit': 7806, 'anim': 324, 'protect': 6583, 'pay': 6177, 'attent': 514, 'effect': 2489, 'insur': 4189, 'knew': 4583, 'avert': 559, 'trip': 8599, 'doctor': 2290, 'lower': 4959, 'premium': 6491, 'either': 2506, 'obsess': 5869, 'rather': 6770, 'empti': 2556, 'bottl': 994, 'pawith': 6175, 'weird': 9127, 'spongebob': 7825, 'mock': 5452, 'weld': 9132, 'tri': 8581, 'catch': 1287, 'piec': 6305, 'shrimp': 7497, 'air': 168, 'benihana': 794, 'review': 6967, 'bond': 963, 'vaa': 8873, 'warnakulasuriya': 9055, 'patabendig': 6151, 'ushanta': 8857, 'joseph': 4437, 'chaminda': 1353, 'srilanka': 7860, 'cricket': 1835, 'troll': 8606, 'crickettrolls': 1836, 'oppo': 5980, 'merica': 5313, 'beat': 727, 'rape': 6761, 'charg': 1374, 'texa': 8280, 'oscar': 6010, 'miltonlawson': 5385, 'largeheart': 4670, 'onlin': 5966, 'mike': 5363, 'tyson': 8706, 'bought': 996, 'comput': 1661, 'byte': 1174, 'memori': 5291, 'wake': 9025, 'loud': 4943, 'charger': 1375, 'sis': 7556, 'gameday': 3206, 'lazi': 4706, 'sleep': 7594, 'convers': 1718, 'pleas': 6355, 'dinner': 2214, 'plaquei': 6343, 'brain': 1020, 'episod': 2602, 'explor': 2717, 'hacki': 3533, 'reitman': 6878, 'autism': 544, 'employ': 2551, 'templ': 8251, 'grandin': 3419, 'bog': 952, 'sentenc': 7358, 'draft': 2368, 'write': 9340, 'chang': 1366, 'htisticlicense': 3880, 'farmer': 2792, 'general': 3262, 'polit': 6395, 'folk': 2981, 'middl': 5353, 'finger': 2904, 'miss': 5421, 'feder': 2833, 'govern': 3407, 'knock': 4592, 'felix': 2844, 'vidal': 8937, 'karem_mungai': 4497, 'ben': 781, 'greet': 3450, 'mummi': 5575, 'dolikethat': 2311, 'sos': 7745, 'dennotoo': 2101, 'hassan': 3614, 'hassandeni': 3615, 'kwa': 4632, 'kuja': 4622, 'dhenk': 2164, 'comingen': 1631, 'repli': 6912, 'chemosi': 1410, 'midrol': 5356, 'compil': 1650, 'prior': 6523, 'stream': 7985, 'fail': 2757, 'insult': 4188, 'rip': 7014, 'headphon': 3654, 'lol': 4900, 'past': 6148, 'negat': 5679, 'attach': 510, 'welcom': 9131, 'adventur': 118, 'opportun': 5982, 'mental': 5303, 'spiritu': 7807, 'hire': 3768, 'sitter': 7561, 'submit': 8029, 'receipt': 6817, 'kraft': 4614, 'cover': 1788, 'happy': 3581, 'wishes': 9258, 'halloween': 3554, 'costum': 1763, 'scari': 7252, 'enough': 2580, 'perspect': 6250, 'arhtist': 420, 'license': 4803, 'rijok': 7006, 'choic': 1451, 'place': 6335, 'twinfinit': 8689, 'gamenform': 3207, 'nomine': 5792, 'ign': 4000, 'llamo': 4876, 'con': 1664, 'award': 567, 'furmess': 3175, 'victori': 8935, 'support': 8087, 'sonic': 7732, 'mania': 5079, 'bill': 866, 'feed': 2835, 'mistak': 5430, 'japanes': 4348, 'citizen': 1512, 'nuke': 5841, 'august': 531, 'color': 1609, 'midget': 5354, 'mcnugget': 5182, 'buy': 1166, 'punch': 6622, 'bag': 620, 'wife': 9216, 'steal': 7926, 'visa': 8968, 'buck': 1105, 'synchron': 8146, 'cat': 1281, 'pawprint': 6176, 'roof': 7075, 'tile': 8442, 'inki': 4152, 'paw': 6174, 'print': 6521, 'left': 4736, 'manuscript': 5092, 'vandal': 8890, 'sinc': 7540, 'nope': 5803, 'lipstick': 4851, 'shave': 7419, 'nah': 5621, 'kuntz': 4626, 'joshu': 4439, 'uhh': 8717, 'boyfriend': 1012, 'asshol': 481, 'memefiness': 5251, 'wyd': 9357, 'wassup': 9062, 'damn': 1948, 'kinda': 4562, 'ugli': 8716, 'metal': 5324, 'album': 195, 'godsmack': 3358, 'mainstream': 5034, 'sale': 7172, 'trench': 8577, 'liquor': 4853, 'store': 7970, 'micav': 5342, 'lenicrit': 4764, 'tradit': 8543, 'christma': 1473, 'gry': 3485, 'prabha': 6460, 'soon': 7735, 'dog': 2300, 'worship': 9318, 'strong': 7999, 'stand': 7886, 'chest': 1417, 'sacrific': 7152, 'justin': 4481, 'selena': 7334, 'belieb': 769, 'beneb': 788, 'selenay': 7335, 'bene': 786, 'passion': 6143, 'starv': 7902, 'case': 1274, 'favorit': 2814, 'wet': 9148, 'anymor': 358, 'toward': 8533, 'lighthous': 4823, 'bröther': 1095, 'lamp': 4659, 'sick': 7513, 'mind': 5389, 'freak': 3063, 'check': 1391, 'paint': 6080, 'toenail': 8482, 'reupload': 6961, 'logan': 4893, 'paul': 6169, 'vlog': 8987, 'dead': 2012, 'suicid': 8049, 'view': 8940, 'add': 92, 'spomeet': 7824, 'stupid': 8019, 'weekday': 9114, 'tripl': 8601, 'duo': 2431, 'rocket': 7043, 'launcher': 4692, 'arroyo': 442, 'gustin': 3516, 'tequila': 8262, 'arriv': 439, 'foretold': 3004, 'ancient': 291, 'mural': 5577, 'austin': 536, 'resolv': 6938, 'quick': 6683, 'fulli': 3134, 'evolv': 2678, 'therapist': 8358, 'shellyyi': 7433, 'dankland': 1967, 'format': 3014, 'switch': 8139, 'draw': 2376, 'proper': 6571, 'upvot': 8843, 'milleni': 5377, 'rent': 6906, 'portent': 6426, 'major': 5039, 'motion': 5530, 'anon': 336, 'imposs': 4072, 'defend': 2062, 'nail': 5623, 'coffin': 1587, 'qanon': 6661, 'pass': 6140, 'toxic': 8537, 'connect': 1690, 'boom': 973, 'winner': 9244, 'nese': 5703, 'laur': 4694, 'dalla': 1941, 'sinfin': 7543, 'popi': 6416, 'galway': 3202, 'todel': 8479, 'leert': 4735, 'omz': 5954, 'korea': 4607, 'filefli': 2891, 'lose': 4929, 'spring': 7841, 'thevideo': 8373, 'iphon': 4246, 'truedepth': 8622, 'heavi': 3674, 'pod': 6379, 'cast': 1278, 'ohnni': 5912, 'formula': 3016, 'rewind': 6974, 'youtub': 9431, 'mess': 5319, 'deku': 2072, 'melioda': 5219, 'uzumaki': 8872, 'chris_cross': 1468, 'yax': 9387, 'momma': 5475, 'joshua': 4440, 'jlewdatruth': 4398, 'doin': 2307, 'dream': 2381, 'nov': 5824, 'fox': 3041, 'pain': 6078, 'sir': 7552, 'home': 3814, 'daddi': 1927, 'tenorr': 8261, 'spot': 7836, 'off': 5887, 'massiv': 5144, 'spaceship': 7766, 'fill': 2892, 'killer': 4554, 'strang': 7977, 'worri': 9316, 'soap': 7675, 'delici': 2079, 'fed': 2832, 'icanhascheezburg': 3947, 'archiv': 412, 'theonion': 8350, 'meghan': 5207, 'markl': 5116, 'colleg': 1600, 'stuck': 8007, 'habsburg': 3530, 'cousin': 1786, 'deserv': 2124, 'onion': 5965, 'link': 4846, 'hrs': 3877, 'januari': 4345, 'local': 4887, 'pile': 6312, 'dirti': 2227, 'cloth': 1555, 'bedroom': 745, 'ill': 4011, 'amen': 263, 'scroll': 7288, 'crap': 1807, 'smart': 7624, 'account': 63, 'manag': 5069, 'brief': 1051, 'client': 1537, 'creativ': 1823, 'expens': 2707, 'entertain': 2585, 'digitalsynopsis': 2205, 'rich': 6986, 'nephew': 5696, 'imag': 4019, 'dis': 2229, 'dat': 1988, 'der': 2116, 'njm': 5774, 'music': 5583, 'compar': 1648, 'jazz': 4359, 'soul': 7750, 'rnb': 7025, 'pop': 6412, 'flower': 2967, 'occasion': 5875, 'treat': 8571, 'respect': 6942, 'atheist': 501, 'cute': 1914, 'status': 7916, 'wanna': 9043, 'franship': 3059, 'alongwith': 232, 'creepi': 1829, 'upload': 8834, 'media': 5197, 'often': 5906, 'relationshipgo': 6884, 'smabe': 7615, 'design': 2125, 'develop': 2154, 'file': 2890, 'untitl': 8823, 'psd': 6597, 'overtim': 6053, 'meal': 5187, 'mouth': 5538, 'offend': 5888, 'footbal': 2995, 'argu': 417, 'ronaldo': 7073, 'messi': 5321, 'lucki': 4972, 'era': 2610, 'mari': 5107, 'educ': 2483, 'activist': 81, 'feminst': 2858, 'control': 1715, 'seek': 7317, 'exclus': 2689, 'ego': 2499, 'balanc': 632, 'candi': 1218, 'crush': 1866, 'annoy': 333, 'jobless': 4401, 'ball': 635, 'goe': 3359, 'clue': 1567, 'brave': 1027, 'jesus': 4379, 'lot': 4933, 'peac': 6188, 'brought': 1080, 'sword': 8141, 'friendlyatheist': 3089, 'gas': 3231, 'phone': 6280, 'cabl': 1180, 'remind': 6900, 'madison': 5011, 'rain': 6739, 'outsid': 6037, 'layout': 4704, 'code': 1582, 'stackoverflow': 7872, 'bath': 697, 'everyday': 2665, 'gym': 3520, 'shape': 7411, 'train': 8549, 'painnogain': 6079, 'intellig': 4194, 'biii': 857, 'bob': 946, 'smabob': 7616, 'fire': 2910, 'visibl': 8971, 'mayb': 5172, 'smawith': 7629, 'skill': 7572, 'rude': 7109, 'miseri': 5415, 'keleigh': 4522, 'inspect': 4165, 'bulb': 1126, 'imgur': 4053, 'umm': 8730, 'basement': 686, 'complain': 1651, 'douch': 2356, 'address': 94, 'privaci': 6529, 'concern': 1670, 'san': 7183, 'cheat': 1389, 'loyal': 4961, 'privat': 6530, 'superbowl': 8066, 'buffalo': 1113, 'memeshappen': 5273, 'aganeror': 142, 'chocol': 1449, 'vacat': 8874, 'dubai': 2404, 'omg': 5948, 'xoxo': 9371, 'point': 6384, 'fir': 2908, 'waylon': 9081, 'badass': 608, 'fashion': 2798, 'nashvill': 5644, 'kany': 4490, 'misunderstood': 5434, 'wiz': 9269, 'dumb': 2420, 'diss': 2263, 'hiphop': 3763, 'memesdaili': 5270, 'harriet': 3599, 'tubman': 8642, 'strip': 7994, 'club': 1562, 'skin': 7573, 'split': 7809, 'equal': 2605, 'cheapest': 1388, 'husband': 3922, 'sisiga': 7557, 'somebodi': 7715, 'cultur': 1889, 'blame': 897, 'didnt': 2187, 'mention': 5305, 'reggi': 6859, 'racist': 6723, 'pav': 6172, 'vour': 9008, 'app': 376, 'uncl': 8746, 'favourit': 2815, 'presid': 6499, 'cost': 1762, 'wrote': 9346, 'wristband': 9339, 'procootballmoch': 6543, 'yall': 9382, 'moist': 5464, 'suppli': 8079, 'lotion': 4934, 'geek': 3253, 'strike': 7992, 'forget': 3007, 'tuck': 8643, 'cock': 1579, 'set': 7377, 'clock': 1549, 'road': 7027, 'indic': 4110, 'driver': 2392, 'nye': 5852, 'classroom': 1529, 'notic': 5820, 'dinosaur': 2216, 'lif': 4809, 'counter': 1774, 'pabil': 6066, 'fiction': 2877, 'creatur': 1825, 'honda': 3829, 'fanboy': 2778, 'eneschakrri': 2571, 'anoth': 338, 'super': 8065, 'bowl': 1005, 'openi': 5975, 'sunday': 8060, 'opinion': 5978, 'rachel': 6720, 'twat': 8679, 'showoff': 7492, 'bank': 651, 'spend': 7798, 'caption': 1245, 'nishantdas': 5767, 'wage': 9018, 'corrupt': 1756, 'hug': 3887, 'convict': 1719, 'mate': 5152, 'consensu': 1693, 'warm': 9052, 'billi': 868, 'stick': 7951, 'smadont': 7619, 'leav': 4726, 'dish': 2246, 'doesntbullyanyon': 2298, 'sheet': 7428, 'upal': 8829, 'throne': 8419, 'doesnt': 2296, 'mounir': 5533, 'arm': 425, 'enthusiast': 2587, 'car_feel': 1248, 'petrolhead': 6259, 'brand': 1023, 'fecal': 2831, 'run': 7121, 'constant': 1701, 'updat': 8831, 'consider': 1698, 'remov': 6903, 'eyebrow': 2736, 'vote': 9006, 'regist': 6862, 'sheldon': 7430, 'worth': 9320, 'top': 8518, 'disinfect': 2249, 'taxi': 8201, 'magnet': 5022, 'monopol': 5485, 'giant': 3298, 'dictat': 2184, 'gentl': 3271, 'opo': 5979, 'ad': 88, 'tator': 8193, 'neutron': 5713, 'bar': 658, 'bartend': 683, 'cooper': 1732, 'theori': 8352, 'reset': 6934, 'button': 1165, 'previous': 6507, 'dismiss': 2252, 'particl': 6133, 'cantcom': 1227, 'came': 1201, 'tv': 8674, 'quot': 6705, 'farrah': 2793, 'fowler': 3040, 'toothbrush': 8516, 'holder': 3801, 'fast': 2799, 'magnitud': 5025, 'serv': 7372, 'nude': 5840, 'omfg': 5947, 'guis': 3504, 'nerd': 5697, 'lea': 4712, 'assum': 486, 'done': 2327, 'potenti': 6445, 'three': 8412, 'parallel': 6117, 'nerdi': 5698, 'door': 2340, 'sandwich': 7188, 'small': 7621, 'scale': 7242, 'aiveo': 175, 'thursday': 8430, 'ocb': 5874, 'sheldo': 7429, 'aliv': 211, 'bandingo': 647, 'oxygen': 6064, 'kul': 4623, 'foto': 3029, 'illustr': 4015, 'twilight': 8686, 'blueberri': 933, 'build': 1121, 'belli': 776, 'cbs': 1306, 'steven': 7947, 'hawk': 3637, 'genius': 3268, 'robot': 7041, 'televis': 8241, 'prosper': 6578, 'leonard': 4770, 'nimoy': 5762, 'napkin': 5635, 'wipe': 9250, 'poss': 6434, 'dna': 2285, 'zombieapocalips': 9467, 'calvin': 1198, 'bend': 785, 'virus': 8966, 'expeth': 2711, 'weapon': 9094, 'exp': 2700, 'ring': 7010, 'trilog': 8595, 'marathon': 5096, 'ctv': 1877, 'tvtime': 8677, 'benadet': 782, 'besttiiiee': 814, 'although': 242, 'relationshipagr': 6883, 'penni': 6215, 'bigbangtheori': 847, 'wonderwoman': 9292, 'audienc': 525, 'cheer': 1397, 'stephen': 7938, 'bieber': 844, 'norton': 5812, 'secur': 7313, 'self': 7336, 'proclaim': 6542, 'ned': 5673, 'bazinga': 706, 'studio': 8011, 'negro': 5682, 'bigger': 850, 'gigant': 3308, 'enorm': 2579, 'icanhascheezburger': 3948, 'polic': 6392, 'hack': 3531, 'warcraft': 9048, 'cri': 1833, 'stuffistumbledupon': 8015, 'soft': 7696, 'dean': 2020, 'sleepi': 7595, 'nom': 5790, 'sing': 7544, 'thebig': 8316, 'despit': 2136, 'fact': 2747, 'obvious': 5873, 'bigbang': 846, 'simpson': 7536, 'simpsonsshitpost': 7537, 'shitpost': 7458, 'sheldoncoop': 7431, 'auroraboreali': 533, 'steamedham': 7929, 'bic': 841, 'styl': 8020, 'jim': 4392, 'parson': 6128, 'actor': 82, 'guild': 3499, 'announc': 332, 'shout': 7486, 'becuas': 741, 'starter': 7899, 'pack': 6070, 'inicht': 4145, 'bereit': 799, 'smug': 7646, 'redditor': 6836, 'cuz': 1917, 'halfway': 3553, 'twist': 8693, 'answer': 340, 'experiment': 2709, 'physicist': 6291, 'butch': 1160, 'rder': 6782, 'aerospac': 127, 'astrophysicist': 492, 'theoret': 8351, 'smapeopl': 7623, 'elev': 2521, 'dryer': 2402, 'accident': 57, 'rapid': 6762, 'disappear': 2232, 'dot': 2351, 'precari': 6473, 'edg': 2477, 'paof': 6105, 'tire': 8455, 'ate': 499, 'vills': 8946, 'catman': 1292, 'whoah': 9193, 'coffe': 1584, 'roflbot': 7052, 'filmmak': 2894, 'cataddictsanony': 1282, 'mous': 5537, 'spoil': 7816, 'ipad': 4245, 'yurt': 9439, 'monday': 5479, 'late': 4681, 'lieuten': 4808, 'dan': 1952, 'leg': 4741, 'jingl': 4394, 'bell': 775, 'smell': 7634, 'chin': 1439, 'fur': 3172, 'bae': 616, 'slept': 7597, 'funnycat': 3153, 'xyz': 9377, 'modern': 5457, 'technolog': 8227, 'advanc': 117, 'repair': 6908, 'beer': 751, 'mirror': 5410, 'slack': 7582, 'cancel': 1216, 'pushit': 6645, 'soliv': 7708, 'narrow': 5642, 'starta': 7898, 'motorcycl': 5532, 'gangortak': 3217, 'explain': 2714, 'rub': 7106, 'tummi': 8653, 'drove': 2397, 'thug': 8427, 'fluffi': 2971, 'funnycatmemes': 3155, 'flexibl': 2950, 'grumpi': 3482, 'catnip': 1293, 'devil': 2156, 'lettuc': 4782, 'tam': 8170, 'breath': 1039, 'object': 5865, 'closer': 1553, 'hech': 3677, 'twinkl': 8691, 'throw': 8422, 'neck': 5670, 'purrfect': 6640, 'fresh': 3080, 'dri': 2389, 'interview': 4218, 'purrrthday': 6641, 'fish': 2921, 'present': 6498, 'litter': 4861, 'bunni': 1142, 'australian': 539, 'invis': 4238, 'posit': 6431, 'pregnanc': 6484, 'tear': 8219, 'strength': 7988, 'kitten': 4578, 'cleanmemes': 1533, 'threw': 8413, 'bird': 878, 'cabbagecatmem': 1177, 'quest': 6678, 'slay': 7591, 'samurai': 7182, 'isurrend': 4296, 'cuddl': 1884, 'direct': 2221, 'lasagna': 4676, 'step': 7936, 'caught': 1301, 'garden': 3226, 'especi': 2635, 'havin': 3633, 'bokuwachikuwa': 957, 'tumblr': 8651, 'chill': 1432, 'cookie': 1723, 'okk': 5921, 'thirsti': 8395, 'shithi': 7456, 'type': 8701, 'upon': 8835, 'lindblom': 4841, 'grumpycatpics': 3483, 'choos': 1457, 'chose': 1461, 'cane': 1222, 'fatter': 2808, 'valid': 8884, 'consid': 1697, 'furnitur': 3177, 'respons': 6944, 'ginger': 3311, 'therroman': 8365, 'brimston': 1056, 'ecom': 2470, 'assist': 483, 'saturday': 7218, 'movement': 5540, 'option': 5988, 'petfinder': 6256, 'iama': 3937, 'catpar': 1295, 'mows': 5546, 'lunch': 4978, 'ental': 2582, 'par': 6113, 'cours': 1782, 'round': 7096, 'bing': 874, 'network': 5710, 'therefor': 8360, 'scold': 7270, 'makeameme': 5042, 'org': 5999, 'pet': 6253, 'egg': 2498, 'cutest': 1915, 'diet': 2193, 'pogo': 6383, 'mommi': 5476, 'surgeri': 8101, 'pant': 6100, 'havent': 3630, 'teh': 8237, 'urfl': 8848, 'excit': 2688, 'beauti': 729, 'admit': 108, 'meow': 5307, 'tcanhasoheezburg': 8205, 'warn': 9054, 'label': 4636, 'fault': 2810, 'swipe': 8138, 'yesterday': 9403, 'finish': 2905, 'quitter': 6703, 'rotat': 7089, 'happya': 3582, 'fuk': 3130, 'depress': 2114, 'minut': 5406, 'asleep': 472, 'ying': 9407, 'poker': 6388, 'shat': 7417, 'everywher': 2671, 'biblic': 840, 'asplor': 476, 'kitteh': 4577, 'eatin': 2463, 'slav': 7588, 'poop': 6408, 'tini': 8452, 'shovel': 7488, 'mama': 5059, 'curios': 1902, 'dare': 1974, 'posuvo': 6442, 'scaveng': 7256, 'bit': 883, 'otherwis': 6018, 'talent': 8166, 'bel': 767, 'unlov': 8801, 'unhand': 8776, 'peasant': 6192, 'friday': 3084, 'sweater': 8124, 'thrill': 8415, 'vey': 8924, 'ralph': 6748, 'six': 7563, 'balloon': 637, 'jacki': 4325, 'chan': 1358, 'tip': 8454, 'lick': 4804, 'solo': 7709, 'portrait': 6428, 'domin': 2320, 'broken': 1068, 'minion': 5399, 'forgot': 3010, 'tuna': 8655, 'flex': 2949, 'catbreedselector': 1285, 'catbre': 1283, 'selector': 7333, 'catbreedselect': 1284, 'istay': 4292, 'swallow': 8118, 'unhappi': 8777, 'grupi': 3484, 'flood': 2960, 'summer': 8056, 'weslo': 9142, 'puppi': 6632, 'nie': 5745, 'jokes': 4420, 'frontcam': 3107, 'ultim': 8724, 'requir': 6928, 'ribbon': 6984, 'lifeguard': 4812, 'duti': 2438, 'beach': 716, 'imigflip': 4055, 'crosbi': 1857, 'chandler': 1364, 'monica': 5481, 'law': 4698, 'thejuju': 8331, 'ross': 7087, 'annul': 335, 'decis': 2043, 'marriag': 5120, 'moodswag': 5494, 'rearrang': 6805, 'bubl': 1104, 'butt': 1161, 'chaumont': 1386, 'usa': 8853, 'tend': 8259, 'till': 8443, 'candl': 1220, 'maker': 5045, 'calgon': 1190, 'lionel': 4849, 'richi': 6990, 'scatteredquotes': 7255, 'where': 9177, 'griev': 3460, 'my': 5600, 'chand': 1362, 'ler': 4773, 'donald': 2324, 'duck': 2407, 'wore': 9305, 'towel': 8534, 'aound': 364, 'waist': 9020, 'warner': 9056, 'bros': 1076, 'brightside': 1054, 'wed': 9107, 'toehdr': 8481, 'afterward': 140, 'dofe': 2299, 'magazin': 5016, 'friendstvscen': 3096, 'specif': 7786, 'sgeller': 7394, 'richard': 6988, 'teller': 8243, 'anxieti': 356, 'tobey': 8476, 'correct': 1755, 'brynndowney': 1094, 'appoint': 389, 'habik': 3528, 'friends_hacap': 3091, 'glad': 3333, 'rehears': 6868, 'rare': 6765, 'practic': 6461, 'gut': 3517, 'quit': 6702, 'yorker': 9417, 'gett': 3288, 'tie': 8436, 'hgcap': 3727, 'incred': 4099, 'devot': 2158, 'carinsllov': 1261, 'tribut': 8589, 'freedomto': 3071, 'fandom': 2781, 'cup': 1895, 'candler': 1221, 'reign': 6870, 'ravenclaw': 6776, 'tudor': 8644, 'admin': 105, 'ic': 3941, 'deep': 2054, 'insid': 4162, 'foghorn': 2980, 'honey': 3831, 'miami': 5340, 'vice': 8930, 'soundtrack': 7755, 'exchang': 2687, 'bambi': 639, 'deer': 2059, 'repopul': 6916, 'joey': 4406, 'tribbianni': 8587, 'young': 9422, 'chandlerb': 1365, 'joeytribbiani': 4407, 'chondler': 1455, 'beng': 792, 'chundler': 1487, 'blong': 924, 'chanandl': 1359, 'bluggg': 938, 'chidno': 1425, 'blap': 900, 'funnyidi': 3158, 'friendsfeedhq': 3092, 'bless': 909, 'anybodi': 357, 'centrlprk': 1329, 'near': 5666, 'chuck': 1480, 'norri': 5810, 'solar': 7702, 'eclips': 2469, 'sun': 8059, 'blind': 911, 'gun': 3511, 'carri': 1270, 'magician': 5020, 'swim': 8137, 'land': 4661, 'alright': 235, 'dawg': 2003, 'matti': 5160, 'imeedi': 4033, 'cross': 1858, 'street': 7986, 'txhen': 8698, 'hospit': 3852, 'pinterest': 6322, 'iman': 4029, 'mvp': 5597, 'jokideo': 4422, 'scissor': 7269, 'bruce': 1085, 'lee': 4732, 'ice': 3951, 'cube': 1880, 'togeth': 8483, 'appl': 382, 'seri': 7368, 'target': 8185, 'nine': 5763, 'urin': 8850, 'semi': 7342, 'truck': 8619, 'tank': 8177, 'optimus': 5987, 'prime': 6516, 'skydiv': 7580, 'parachut': 6114, 'refund': 6854, 'glock': 3341, 'grim': 3462, 'reaper': 6804, 'courag': 1781, 'dug': 2415, 'hole': 3803, 'grand': 3417, 'canyon': 1232, 'molli': 5466, 'weasley': 9097, 'veget': 8902, 'lift': 4817, 'chair': 1348, 'mgmhd': 5337, 'push': 6644, 'punish': 6626, 'cubes': 1881, 'zombi': 9466, 'rus': 7128, 'mecenter': 5194, 'memecenterin': 5240, 'dial': 2168, 'cut': 1912, 'butter': 1162, 'knife': 4584, 'kidney': 4548, 'subsequ': 8033, 'collect': 1598, 'embed': 2538, 'gauntlet': 3238, 'artofthedojo': 451, 'jamesmichael': 4342, 'jmsmith': 4399, 'art': 445, 'scumbag': 7290, 'funnypicson': 3165, 'meteor': 5325, 'grab': 3411, 'funnybeing': 3152, 'grenad': 3452, 'arrest': 437, 'uppercut': 8836, 'hors': 3850, 'fairforcemem': 2760, 'stunt': 8018, 'doubl': 2354, 'vam': 8888, 'damm': 1946, 'epic': 2599, 'globetrott': 3340, 'lobetrott': 4885, 'funnypicsonly': 3166, 'cpr': 1797, 'dummi': 2423, 'ghost': 3295, 'campfir': 1211, 'shoot': 7472, 'gps': 3410, 'corner': 1750, 'wrestling_jok': 9337, 'coach': 1572, 'appli': 387, 'handcraft': 3560, 'bikerid': 860, 'ifunni': 3990, 'funny': 3148, 'mobi': 5449, 'esc': 2627, 'diari': 2176, 'guiness': 3503, 'record': 6830, 'vinci': 8950, 'memetent': 5282, 'shaggi': 7403, 'packag': 6071, 'tho': 8398, 'lemonad': 4762, 'ser': 7365, 'arthur': 446, 'dayn': 2007, 'holiday': 3805, 'countri': 1778, 'orneri': 6005, 'cd': 1310, 'wehatepopcountri': 9119, 'hoe': 3795, 'sister': 7558, 'shot': 7478, 'loyalti': 4962, 'trump': 8627, 'plice': 6360, 'space': 7763, 'steak': 7925, 'gate': 3235, 'ron': 7071, 'christian': 1471, 'spotifi': 7837, 'olepli': 5936, 'offens': 5889, 'wateri': 9072, 'belong': 777, 'miranda': 5408, 'lambert': 4657, 'apart': 367, 'chase': 1384, 'tutern': 8671, 'tour': 8532, 'permiss': 6241, 'tuten': 8670, 'health': 3659, 'issu': 4291, 'fre': 3062, 'obama': 5858, 'freedommemes': 3070, 'ecc': 2467, 'slipperyfellow': 7602, 'whereev': 9178, 'thatdream': 8303, 'lead': 4713, 'abg': 33, 'epe': 2598, 'llc': 4877, 'roll': 7064, 'west': 9143, 'buddi': 1110, 'tequu': 8263, 'letter': 4781, 'across': 77, 'mematic': 5225, 'abl': 36, 'bass': 692, 'boat': 945, 'neglectin': 5680, 'shake': 7404, 'straight': 7974, 'town': 8536, 'memat': 5223, 'alabama': 183, 'legal': 4743, 'syria': 8149, 'load': 4881, 'muddi': 5558, 'wheeler': 9171, 'pink': 6319, 'camo': 1207, 'americanstrong': 266, 'hunt': 3916, 'flamingo': 2939, 'reinvent': 6877, 'dieselchick': 2192, 'djif': 2282, 'ifyou': 3993, 'webat': 9101, 'popcountry': 6414, 'codi': 1583, 'jinksyet': 4395, 'besid': 808, 'jen': 4369, 'jussi': 4471, 'cornfield': 1752, 'boach': 942, 'cais': 1184, 'ive': 4313, 'stalk': 7882, 'farcethemusic': 2789, 'acm': 73, 'bonfir': 968, 'pure': 6634, 'throttl': 8421, 'grade': 3413, 'wors': 9317, 'edn': 2481, 'diroad': 2225, 'bryan': 1092, 'lyric': 4993, 'wohatepopcountry': 9278, 'hoss': 3853, 'orlando': 6004, 'florida': 2965, 'decemb': 2040, 'radic': 6729, 'islam': 4282, 'hell': 3695, 'disapprov': 2235, 'banana': 642, 'chimp': 1438, 'chump': 1485, 'donkey': 2328, 'kongo': 4603, 'mood': 5493, 'count': 1773, 'hankjrf': 3570, 'discov': 2241, 'hank': 3569, 'iov': 4244, 'huntin': 3917, 'muddin': 5559, 'fishin': 2923, 'chew': 1419, 'whisper': 9187, 'fbi': 2820, 'virginia': 8962, 'thangi': 8294, 'mud': 5557, 'sump': 8058, 'georgia': 3278, 'wehatepopcountry': 9120, 'darlin': 1983, 'fustercluckusa': 3180, 'neckbeard': 5671, 'sjw': 7567, 'agenda': 146, 'jonathan': 4427, 'kasdan': 4504, 'tough': 8530, 'titti': 8464, 'danklaid': 1966, 'deflat': 2067, 'owned': 6062, 'europ': 2653, 'painter': 6081, 'remeb': 6896, 'somth': 7726, 'idont': 3974, 'outlaw': 6031, 'fad': 2754, 'memecrunch': 5246, 'rough': 7094, 'shock': 7464, 'apocalyps': 372, 'phish': 6277, 'score': 7273, 'takin': 8164, 'kingswood': 4568, 'brasso': 1026, 'exhaust': 2693, 'stud': 8008, 'ain': 165, 'ban': 641, 'non': 5794, 'copyright': 1740, 'altern': 241, 'improvis': 4077, 'adapt': 91, 'overcom': 6046, 'argument': 418, 'hold': 3800, 'requr': 6929, 'thang': 8293, 'drgrayfang': 2387, 'tribe': 8588, 'spoken': 7822, 'ocean': 5879, 'properti': 6572, 'arizona': 422, 'sacrif': 7151, 'wealth': 9091, 'poppa': 6417, '_miungisi': 8, 'ray': 6779, 'cyrus': 1923, 'riid': 7005, 'rothschild': 7090, 'unsolv': 8817, 'mysteri': 5612, 'zonk': 9470, 'copii': 1739, 'pantyhos': 6104, 'fuckin': 3120, 'ab': 28, 'cheatin': 1390, 'debat': 2029, 'presidenti': 6500, 'vehicl': 8906, 'kim': 4558, 'kardashian': 4496, 'farc': 2788, 'bowler': 1006, 'olenegenerator': 5935, 'spain': 7769, 'despacito': 2130, 'south': 7758, 'gangnam': 3216, 'style': 8021, 'thunder': 8429, 'you': 9419, 'actu': 86, 'slut': 7610, 'sorryiforgotto': 7743, 'cinchanga': 1502, 'cancer': 1217, 'smaass': 7614, 'fli': 2951, 'fb': 2819, 'superhero': 8067, 'mem': 5222, 'chimichanga': 1436, 'hahahaha': 3538, 'mwb': 5598, 'unicorn': 8781, 'valentin': 8883, 'feb': 2829, 'imax': 4031, 'clown': 1559, 'redskul': 6842, 'abus': 49, 'blacheco': 894, 'spokesman': 7823, 'nra': 5832, 'snicker': 7662, 'lam': 4656, 'deathstrok': 2027, 'parodi': 6127, 'tool': 8513, 'justice': 4479, 'league': 4717, 'nightw': 5759, 'stan': 7885, 'recognis': 6827, 'forgiv': 3008, 'insan': 4157, 'blond': 923, 'avenegersmem': 553, 'flesh': 2948, 'gumama': 3510, 'shaddup': 7399, 'approv': 395, 'pancak': 6095, 'vacuum': 8877, 'aaargh': 20, 'hief': 3735, 'ishida': 4275, 'atar': 497, 'aaarh': 21, 'staight': 7878, 'googl': 3384, 'viaggag': 8928, 'oven': 6041, 'disappoint': 2234, 'meneful': 5296, 'mangapanda': 5077, 'hugh': 3889, 'jackman': 4326, 'ahhh': 160, 'touch': 8529, 'twice': 8685, 'jolli': 4424, 'lap': 4666, 'pun': 6621, 'christ': 1469, 'suppos': 8088, 'ranger': 6759, 'venom': 8909, 'jet': 4381, 'tendenc': 8260, 'wolverin': 9283, 'hii': 3743, 'hitler': 3779, 'staworld': 7920, 'violent': 8957, 'decapit': 2038, 'wiser': 9256, 'king': 4565, 'dailygeekfact': 1936, 'form': 3013, 'version': 8917, 'consist': 1699, 'headpool': 3655, 'dogpool': 2304, 'calm': 1195, 'duct': 2409, 'stat': 7909, 'heal': 3658, 'factor': 2749, 'scientist': 7267, 'studi': 8010, 'dear': 2022, 'makeup': 5046, 'leonardo': 4771, 'dicaprio': 2179, 'acadami': 50, 'leo': 4767, 'sooner': 7736, 'bam': 638, 'academi': 51, 'absolut': 45, 'lego': 4757, 'cake': 1186, 'market': 5114, 'imgrip': 4052, 'leoactiv': 4768, 'kate': 4507, 'moss': 5523, 'york': 9416, 'jeremi': 4371, 'kaplowitz': 4492, 'juli': 4460, 'climat': 1539, 'mario': 5111, 'underwat': 8760, 'conceal': 1667, 'safe': 7160, 'endang': 2563, 'biggest': 851, 'clap': 1519, 'safelyendang': 7161, 'webcom': 9104, 'dawson': 2004, 'titan': 8458, 'credit': 1826, 'hubcaprio': 3883, 'leonardodicaprio': 4772, 'jackdawson': 4322, 'leofan': 4769, 'tom': 8493, 'holland': 3807, 'gomi': 3370, 'headlin': 3653, 'scarfac': 7251, 'remak': 6895, 'sofia': 7695, 'vergara': 8913, 'checkmat': 1392, 'boo': 969, 'twfreethouchtproject': 8684, 'speech': 7792, 'discuss': 2243, 'corpor': 1754, 'greed': 3446, 'environ': 2594, 'amem': 262, 'mona': 5478, 'lisa': 4855, 'transfer': 8554, 'canva': 1231, 'nightmar': 5757, 'trw': 8631, 'irrelev': 4259, 'gif': 3301, 'facta': 2748, 'winslet': 9246, 'nurs': 5843, 'fee': 2834, 'survivor': 8109, 'sell': 7338, 'memento': 5265, 'cash': 1276, 'profil': 6553, 'deeper': 2055, 'impress': 4074, 'improv': 4076, 'span': 7771, 'cole': 1595, 'sprous': 7844, 'begin': 756, 'danker': 1965, 'taర': 8203, 'johnni': 4411, 'depp': 2113, 'thenewsclan': 8343, 'haha': 3536, 'johnnydepp': 4412, 'keeli': 4517, 'flaherti': 2936, 'flahertyke': 2937, 'wshh': 9348, 'abc': 30, 'rose': 7084, 'full': 3132, 'retard': 6954, 'honest': 3830, 'prize': 6533, 'funnyintrovert': 3159, 'thefunnyintrovert': 8325, 'friend_of_ba': 3087, 'beam': 720, 'bourbon': 1000, 'liverpool': 4870, 'psg': 6598, 'mirat': 5409, 'smoke': 7643, 'hide': 3734, 'repost': 6918, 'bahram': 625, 'persianthotz': 6246, 'qualiti': 6670, 'surreal': 8103, 'putin': 6651, 'ukrain': 8720, 'clp': 1561, 'courtesi': 1785, 'ampa': 276, 'workout': 9309, 'murder': 5578, 'cffi': 1343, 'holdingoscar': 3802, 'starecat': 7893, 'longest': 4915, 'greatest': 3443, 'daili': 1935, 'anytim': 361, 'theoscar': 8354, 'bestactoroftheyear': 810, 'thereven': 8361, 'behindscenesp': 763, 'martin': 5128, 'scorses': 7274, 'depart': 2106, 'russian': 7133, 'crunch': 1865, 'jizz': 4396, 'powder': 6453, 'snomi': 7666, 'sand': 7185, 'silent': 7524, 'yooo': 9414, 'steve': 7943, 'harvey': 3607, 'host': 3854, 'revis': 6968, 'milligan': 5379, 'nepal': 5695, 'copaamericafin': 1736, 'hiphopmemesdaili': 3765, 'maguir': 5027, 'bollywood': 959, 'film': 2893, 'awar': 566, 'officialtrollbollywood': 5902, 'joe': 4403, 'upset': 8839, 'fit': 2926, 'disagre': 2231, 'svydrvzcb': 8116, 'colour': 1612, 'recent': 6819, 'activ': 80, 'patient': 6158, 'poor': 6411, 'impur': 4078, 'loui': 4946, 'omggg': 5950, 'william': 9234, 'shookspear': 7471, 'dracomallfoy': 2365, 'savior': 7228, 'younger': 9423, 'mcconaughey': 5176, 'imma': 4058, 'inventori': 4235, 'prairi': 6466, 'prolong': 6559, 'estat': 2643, 'distract': 2268, 'imgiip': 4047, 'templat': 8252, 'increas': 4098, 'structur': 8003, 'clariti': 1521, 'andrew': 306, 'abernathi': 32, 'ajabernathi': 176, 'whatev': 9161, 'ade': 96, 'shuttersek': 7505, 'anton': 354, 'putterstock': 6653, 'sreter': 7857, 'ersts': 2625, 'ck': 1516, 'shutterstock': 7508, 'imageidssd': 4021, 'stock': 7959, 'flag': 2935, 'ersteck': 2624, 'shuttersto': 7507, 'imageid': 4020, 'afraid': 134, 'possibl': 6436, 'communic': 1643, 'sexist': 7390, 'sweden': 8127, 'advertis': 121, 'watchdog': 9067, 'peak': 6189, 'coat': 1575, 'mar': 5095, 'invest': 4236, 'ugandan': 8713, 'knuckl': 4599, 'thatcleverfox': 8302, 'deadbeat': 2014, 'antonio': 355, 'guillem': 3500, 'mutterstock': 5594, 'shutterst': 7506, 'viminist': 8947, 'jungkook': 4468, 'artist': 450, 'youth': 9430, 'capit': 1238, 'tol': 8488, 'istock': 4293, 'getti': 3289, 'krage': 4615, 'sadanduseless': 7155, 'listock': 4858, 'மரos': 9497, 'gani': 3220, 'iftock': 3987, 'gizmodo': 3332, 'jackblack': 4321, 'sudden': 8042, 'teen': 8233, 'irl': 4252, 'evil': 2675, 'umbrella': 8727, 'poster': 6438, 'collector': 1599, 'power': 6454, 'resid': 6935, 'franchis': 3052, 'dollar': 2313, 'miniatur': 5396, 'shhh': 7440, 'outward': 6040, 'inward': 4241, 'scream': 7282, 'launch': 4691, 'laser': 4677, 'perhap': 6237, 'translat': 8559, 'refrenc': 6851, 'reddit': 6835, 'sum': 8053, 'destroy': 2142, 'demis': 2088, 'fear': 2824, 'hippomonstrosesquippedaliophobia': 3766, 'zip': 9461, 'asdr': 461, 'evilalway': 2676, 'medic': 5198, 'cell': 1318, 'copi': 1738, 'thet': 8369, 'cellit': 1320, 'trash': 8565, 'recycl': 6833, 'mwhahahahaha': 5599, 'ant': 341, 'aussiememes': 535, 'au': 524, 'tellu': 8246, 'ssshhh': 7864, 'nhl': 5733, 'montreal': 5491, 'montrealmemes': 5492, 'wewant': 9151, 'hunger': 3912, 'busi': 1157, 'limit': 4836, 'classifi': 1527, 'custom': 1911, 'tun': 8654, 'expand': 2701, 'venu': 8910, 'bout': 1001, 'teeni': 8235, '_deathbattl': 0, 'helmet': 3698, 'villian': 8945, 'drevil': 2385, 'darkhelmet': 1978, 'austinpow': 537, 'spacebal': 7764, 'deathbattl': 2024, 'warhead': 9051, 'meeelion': 5202, 'shall': 7405, 'medium': 5200, 'ihasahotdog': 4002, 'dress': 2384, 'nasti': 5645, 'hillari': 3751, 'rotten': 7091, 'clinton': 1543, 'babe': 588, 'qualifi': 6669, 'far': 2786, 'mini': 5395, 'frabz': 3043, 'harlem': 3592, 'legalized': 4745, 'pot': 6443, 'bowlghetto': 1007, 'elect': 2510, 'harder': 3587, 'freakingnews': 3065, 'makeamame': 5041, 'price': 6510, 'scalia': 7243, 'dow': 2359, 'superlotto': 8072, 'aillion': 164, 'billion': 869, 'lotteri': 4939, 'somewher': 7725, 'niec': 5746, 'fell': 2845, 'playstat': 6352, 'server': 7373, 'xbox': 9363, 'user': 8856, 'servic': 7374, 'stabl': 7869, 'averi': 558, 'bullock': 1131, 'american': 265, 'ifi': 3983, 'hundr': 3910, 'billlilion': 871, 'pinki': 6320, 'ruler': 7117, 'uranus': 8846, 'mey': 5332, 'cuerator': 1885, 'evi': 2672, 'trillion': 8594, 'spook': 7826, 'public': 6609, 'transit': 8558, 'debatenight': 2030, 'candid': 1219, 'tion': 8453, 'shanna': 7410, 'fucc': 3115, 'skrillion': 7578, 'dr': 2364, 'cryogen': 1869, 'zing': 9460, 'vape': 8894, 'mail': 5032, 'daugter': 1996, 'flip': 2955, 'nickel': 5741, 'millionar': 5383, 'desper': 2132, 'sobas': 7677, 'canteven': 1228, 'zipmem': 9462, 'swear': 8122, 'heheh': 3685, 'meson': 5318, 'lookbob': 4919, 'ick': 3956, 'toy': 8538, 'lolhappens': 4902, 'diaper': 2175, 'iso': 4287, 'cheek': 1395, 'thermomet': 8363, 'moon': 5495, 'idrunk': 3979, 'milk': 5374, 'factori': 2750, 'hormon': 3842, 'invit': 4239, 'brother': 1079, 'nowher': 5829, 'peek': 6200, 'ishit': 4277, 'memeworld': 5285, 'instalik': 4178, 'instamood': 4180, 'instadaili': 4171, 'instacool': 4170, 'hart': 3604, 'tap': 8182, 'comin': 1630, 'applejuic': 386, 'whoe': 9194, 'nooo': 5801, 'neverr': 5716, 'mmas': 5445, 'scottish': 7276, 'woodsi': 9299, 'story': 7973, 'swap': 8119, 'accent': 52, 'consum': 1705, 'pronounc': 6565, 'weknowmem': 9129, 'grandma': 3420, 'innoc': 4154, 'alleg': 216, 'ceil': 1315, 'cellar': 1319, 'whoever': 9195, 'dictionari': 2185, 'pig': 6308, 'spell': 7796, 'femin': 2854, 'mon': 5477, 'tue': 8645, 'thus': 8431, 'fri': 3081, 'sal': 7169, 'alli': 220, 'iran': 4250, 'bus': 1154, 'inch': 4089, 'feminist': 2857, 'pickl': 6297, 'longer': 4914, 'legitimaci': 4756, 'complaint': 1652, 'justic': 4477, 'propos': 6574, 'solut': 7710, 'standard': 7887, 'prohibit': 6557, 'perpetu': 6243, 'stereotyp': 7940, 'weaker': 9090, 'lighten': 4821, 'ann': 327, 'kaplan': 4491, 'gaze': 3247, 'male': 5051, 'kodak': 4601, 'masturb': 5149, 'sew': 7386, 'muscular': 5581, 'curvi': 1908, 'thin': 8387, 'imgflipi': 4045, 'lust': 4981, 'acid': 70, 'wh': 9152, 'fend': 2861, 'agun': 156, 'alexi': 201, 'isabel': 4266, 'lexiprez': 4787, 'holi': 3804, 'eee': 2485, 'actress': 83, 'gát': 3526, 'per': 6231, 'por': 6421, 'startravelermem': 7900, 'kitchen': 4576, 'ttrigger': 8641, 'intersect': 4216, 'oxymoron': 6065, 'poll': 6400, 'misogynist': 5420, 'historian': 3775, 'excus': 2690, 'theinnkeeperlibrarian': 8329, 'leepacey': 4734, 'restaur': 6947, 'hometown': 3821, 'owner': 6063, 'special': 7785, 'proceed': 6540, 'foundat': 3034, 'appropri': 394, 'cheers': 1401, 'gender': 3259, 'gap': 3222, 'parenthood': 6122, 'tand': 8175, 'hon': 3828, 'speal': 7782, 'boycott': 1011, 'sendgrid': 7348, 'boundari': 998, 'contoyourself': 1710, 'ideal': 3962, 'wast': 9063, 'precious': 6475, 'energi': 2570, 'bullsh': 1132, 'chivalri': 1445, 'craze': 1814, 'livememe': 4867, 'sport': 7832, 'dontunderstand': 2336, 'defin': 2065, 'domest': 2318, 'decrimin': 2050, 'russia': 7132, 'jail': 4334, 'fist': 2925, 'german': 3282, 'tight': 8438, 'kick': 4541, 'martial': 5126, 'spoiltmodernwaman': 7818, 'spoiltwoman': 7820, 'abras': 42, 'toll': 8492, 'confid': 1678, 'owl': 6060, 'oppress': 5985, 'third': 8394, 'fakeposters': 2767, 'inabl': 4081, 'grasp': 3432, 'pull': 6619, 'frog': 3102, 'heterisexu': 3724, 'ptotest': 6606, 'cisgend': 1510, 'anglo': 318, 'saxon': 7232, 'attract': 522, 'random': 6757, 'siri': 7553, 'fragil': 3046, 'dode': 2293, 'uth': 8865, 'meht': 5211, 'princ': 6517, 'pants_leg': 6103, 'barber': 663, 'whatchu': 9159, 'kiran': 4571, 'banditqueen': 648, 'short': 7476, 'binder': 873, 'overal': 6044, 'fair': 2759, 'inclus': 4093, 'construct': 1702, 'compliment': 1658, 'milit': 5371, 'manchego': 5070, 'chees': 1402, 'mandolin': 5072, 'held': 3692, 'bras': 1024, 'beuk': 822, 'becki': 736, 'barnicoat': 675, 'unattract': 8738, 'wank': 9042, 'bugger': 1119, 'ars': 443, 'sermon': 7371, 'cesa': 1337, 'rosetta': 7085, 'comet': 1624, 'wich': 9212, 'officialinternet': 5898, 'sexual': 7392, 'harass': 3585, 'survey': 8107, 'goth': 3397, 'niccag': 5736, 'match': 5151, 'eaten': 2461, 'shark': 7414, 'handicap': 3562, 'park': 6123, 'plate': 6345, 'unauthor': 8739, 'sexpens': 7391, 'disabl': 2230, 'ma': 4994, 'am': 247, 'ahead': 158, 'benefit': 791, 'tomato': 8497, 'soup': 7756, 'couli': 1770, 'chine': 1441, 'mounti': 5536, 'uterus': 8863, 'inic': 4144, 'emma': 2546, 'watson': 9077, 'nyc': 5851, 'subway': 8038, 'interimperfect': 4204, 'vagina': 8880, 'whisk': 9186, 'magic': 5019, 'journey': 4443, 'tampoon': 8174, 'nevertheless': 5717, 'persist': 6247, 'youpress': 9424, 'thebutton': 8321, 'avatar': 551, 'teenag': 8234, 'abort': 39, 'lean': 4720, 'supremacist': 8093, 'capitalist': 1239, 'patriarch': 6161, 'ladder': 4642, 'height': 3687, 'blow': 929, 'dialect': 2169, 'trap': 8564, 'struggl': 8005, 'subject': 8026, 'honor': 3833, 'suppoeach': 8080, 'weneedfemin': 9136, 'lady': 4646, 'lik': 4828, 'traducir': 8544, 'del': 2073, 'inglé': 4138, 'hockey': 3793, 'player': 6349, 'boti': 993, 'period': 6238, 'regard': 6856, 'femishit': 2859, 'therapi': 8357, 'sens': 7352, 'unlearn': 8795, 'harm': 3594, 'attend': 513, 'lgbtqiawtf': 4789, 'event': 2661, 'judgement': 4450, 'heterosexu': 3725, 'agend': 145, 'queer': 6677, 'womanbornwoman': 9285, 'separatist': 7361, 'pronoun': 6564, 'gothshakira': 3398, 'purpos': 6639, 'maintain': 5035, 'distanc': 2266, 'ascertain': 458, 'intent': 4200, 'fuckjerrysdraft': 3121, 'ydefend': 9389, 'reproduct': 6921, 'gop': 3387, 'assault': 480, 'rifl': 7001, 'berni': 805, 'maddi': 5007, 'donat': 2325, 'breakdown': 1035, 'min': 5388, 'kpop': 4611, 'on': 5955, 'allkpop': 222, 'notto': 5823, 'momegenerator': 5470, 'children': 1430, 'redredwin': 6841, 'giveuahint': 3331, 'smaa': 7612, 'nolycrapb': 5789, 'digniti': 2206, 'palaeontolog': 6089, 'bff': 829, 'monsen': 5486, 'jori': 4436, 'john': 4410, 'squad': 7847, 'lover': 4955, 'idgaf': 3965, 'attitud': 519, 'friendss': 3095, 'hota': 3856, 'chutzpah': 1494, 'indianexpress': 4108, 'blood': 925, 'ketchup': 4529, 'vitalyz': 8978, 'betray': 819, 'hahahahaha': 3539, 'hahahahahaha': 3540, 'ton': 8504, 'meanwhil': 5191, 'qmarkiplier': 6664, 'fis': 2918, 'rockst': 7045, 'blueberrytea': 934, 'besti': 811, 'renyaragavi': 6907, 'frnd': 3100, 'whykol': 9208, 'collegemem': 1601, 'xam': 9361, 'tum': 8649, 'dono': 2330, 'mere': 5309, 'dost': 2350, 'wifi': 9217, 'restart': 6946, 'router': 7100, 'youpressthebutton': 9425, 'obes': 5863, 'forehead': 3001, 'btsweirdo': 1101, 'afriands': 135, 'stress': 7990, 'yell': 9398, 'memions': 5287, 'influenc': 4128, 'imflip': 4036, 'mrmemel': 5551, 'insta': 4168, 'master': 5145, 'checkout': 1393, 'fool': 2991, 'weak': 9089, 'groupchat': 3477, 'nba': 5658, 'aint': 167, 'graduat': 3414, 'bye': 1171, 'matur': 5162, 'rur': 7127, 'bubbl': 1102, 'wrap': 9332, 'princess': 6518, 'consuela': 1703, 'bananahammock': 643, 'cooki': 1722, 'imfunny': 4037, 'signific': 7522, 'viciousveganvixen': 8931, 'blanket': 898, 'impact': 4064, 'loldamn': 4901, 'scare': 7249, 'extremist': 2732, 'daf': 1931, 'kup': 4627, 'titi': 8462, 'injur': 4148, 'infront': 4133, 'handl': 3563, 'someecard': 7717, 'picturequtes': 6302, 'dorit': 2346, 'hazi': 3644, 'howev': 3873, 'gir': 3319, 'ishu': 4279, 'priceless': 6511, 'horoscop': 3845, 'gasp': 3233, 'arelazi': 415, 'hhd': 3729, 'history': 3776, 'horrif': 3847, 'felt': 2849, 'inspir': 4166, 'advic': 122, 'sarcast': 7202, 'walgreen': 9029, 'loser': 4930, 'shoplift': 7475, 'kindergarten': 4563, 'lone': 4911, 'gymmemesandmotiv': 3523, 'yea': 9391, 'bodybuild': 948, 'crossfit': 1859, 'motiv': 5531, 'powerlift': 6457, 'bench': 783, 'deadlift': 2015, 'squat': 7850, 'gymmem': 3522, 'gymhumor': 3521, 'gymmotiv': 3524, 'legday': 4746, 'girlswholift': 3323, 'fitchick': 2927, 'fitspo': 2928, 'bossgirl': 988, 'memelenleri': 5262, 'regular': 6867, 'luv_jjp': 4985, 'comedydotcom': 1623, 'funnyvideo': 3170, 'funnyaf': 3149, 'sketchcomedi': 7570, 'afriendofmin': 138, 'contracept': 1711, 'safer': 7162, 'vegan': 8900, 'protein': 6586, 'bluebonnet': 935, 'theultim': 8372, 'colonel': 1607, 'greentre': 3449, 'goty': 3403, 'song': 7728, 'odd': 5884, 'catchi': 1288, 'cherri': 1414, 'invalid': 4231, 'pundit': 6624, 'gene': 3261, 'wilder': 9227, 'willi': 9233, 'wonka': 9295, 'utopia': 8867, 'atheism': 500, 'religion': 6891, 'lgbt': 4788, 'fuckreligion': 3124, 'freethink': 3075, 'funnyatheist': 3150, 'secular': 7312, 'humanist': 3899, 'godless': 3357, 'jesuschrist': 4380, 'biblevers': 839, 'biblestudi': 838, 'golden': 3364, 'ticket': 8433, 'heaven': 3673, 'spread': 7839, 'laughter': 4690, 'owe': 6058, 'fizzi': 2933, 'rofurazzi': 7057, 'lotr': 4935, 'fellowship': 2848, 'generat': 3263, 'blaze': 903, 'saddl': 7157, 'kiss': 4574, 'homag': 3813, 'unto': 8824, 'terminato': 8268, 'finito': 2906, 'jewish': 4385, 'grate': 3434, 'shed': 7423, 'lefthous': 4737, 'brilliant': 1055, 'surgeon': 8100, 'hump': 3907, 'watersto': 9075, 'ston': 7964, 'waterston': 9076, 'whore': 9201, 'sene': 7349, 'difficult': 2197, 'firstoffud': 2917, 'higher': 3738, 'frankenstein': 3056, 'stefán': 7933, 'karl': 4500, 'anyway': 362, 'hardest': 3588, 'strongest': 8001, 'will': 9230, 'wolfe': 9282, 'solv': 7711, 'wond': 9290, 'paramount': 6119, 'paradis': 6115, 'viewiit': 8941, 'bulli': 1130, 'threat': 8410, 'drth': 2399, 'straighten': 7976, 'diylol': 2280, 'heavier': 3675, 'bat': 696, 'condescend': 1672, 'led': 4729, 'bull': 1127, 'craziest': 1817, 'fetch': 2868, 'rottweil': 7092, 'repeat': 6909, 'shunter': 7502, 'sarah': 7198, 'mcgonagal': 5179, 'sarahmcgbeauti': 7199, 'articl': 447, 'brad': 1017, 'pitt': 6329, 'shadi': 7401, 'jul': 4458, 'deaf': 2017, 'getusi': 3292, 'roblox': 7040, 'ama': 248, 'breakup': 1037, 'ayoff': 578, 'conb': 1666, 'mang': 5076, 'prank': 6467, 'neda': 5674, 'seguro': 7326, 'romant': 7067, 'barrybe': 681, 'lotsofhumor': 4938, 'latina': 4684, 'chef': 1406, 'investig': 4237, 'blsnapz': 931, 'angelina': 312, 'shrek': 7496, 'onto': 5967, 'ex': 2680, 'respond': 6943, 'stfu': 7950, 'fella': 2846, 'gay': 3242, 'ignor': 4001, 'beyoncé': 827, 'danger': 1958, 'finda': 2901, 'meregenerator': 5310, 'banki': 652, 'poo': 6404, 'squishi': 7856, 'understand': 8756, 'multiplay': 5572, 'paus': 6171, 'brisisic': 1059, 'browser': 1084, 'histori': 3774, 'comprimis': 1659, 'gne': 3347, 'vitamiind': 8979, 'itold': 4304, 'himi': 3755, 'asuppl': 493, 'himai': 3754, 'kushandwizdom': 4629, 'wholesom': 9198, 'wholesomemem': 9199, 'militari': 5372, 'suplex': 8078, 'map': 5094, 'laina': 4650, 'morri': 5513, 'over': 6042, 'embrac': 2539, 'fame': 2772, 'homosexu': 3827, 'enerate': 2569, 'buggieus': 1120, 'roar': 7029, 'plenti': 6359, 'sea': 7292, 'ador': 112, 'basic': 688, 'chuckl': 1481, 'heez': 3683, 'luck': 4971, 'overheard': 6048, 'aunt': 532, 'leti': 4779, 'manicomio': 5080, 'note': 5818, 'ten': 8257, 'twin': 8688, 'healthi': 3661, 'cook': 1721, 'pray': 6469, 'isold': 4288, 'imal': 4028, 'manetenleri': 5074, 'stab': 7867, 'laptop': 4667, 'pocket': 6378, 'tryna': 8634, 'background': 600, 'jus': 4470, 'sot': 7746, 'goin': 3361, 'smaand': 7613, 'havesid': 3632, 'memeeul': 5250, 'tomboy': 8498, 'hint': 3761, 'kourtney': 4609, 'kime': 4559, 'bajabernathi': 627, 'dramat': 2374, 'thinkin': 8392, 'sold': 7704, 'slaveri': 7590, 'humong': 3901, 'authent': 540, 'thalfeer': 8290, 'rest': 6945, 'vera': 8912, 'lvl': 4988, 'becoz': 740, 'thaufeeq': 8308, 'side': 7515, 'pfunnyintrovert': 6267, 'thebraintickl': 8320, 'mern': 5316, 'lowkey': 4960, 'justgir': 4475, 'tonks_xd': 8509, 'slappi': 7585, 'goosebump': 3385, 'goosebumpsmovi': 3386, 'funnymem': 3162, 'alarm': 192, 'ebeentheretho': 2466, 'jealous': 4361, 'pls': 6365, 'bark': 668, 'aliensih': 207, 'iul': 4311, 'mill': 5376, 'trollm': 8609, 'confido': 1679, 'sobrno': 7680, 'command': 1633, 'imagur': 4027, 'proof': 6566, 'teletubbi': 8240, 'ly': 4989, 'kaliforniadream': 4485, 'giorgio': 3316, 'armani': 426, 'assassin': 479, 'stalin': 7881, 'attila': 517, 'hun': 3909, 'genghi': 3267, 'khan': 4539, 'model': 5455, 'gabriel': 3192, 'boric': 982, 'jackson': 4328, 'directv': 2223, 'channel': 1368, 'roommat': 7077, 'attempt': 512, 'replic': 6913, 'tsoukalo': 8637, 'famous': 2776, 'seal': 7293, 'pyramid': 6659, 'apple': 384, 'gorgio': 3389, 'built': 1122, 'egyptian': 2500, 'april': 401, 'virtual': 8965, 'unbreak': 8742, 'comix': 1632, 'ed': 2472, 'momestache': 5472, 'tide': 8435, 'memegenrator': 5260, 'cord': 1744, 'tangl': 8176, 'eig': 2501, 'sceool': 7259, 'georgio': 3279, 'sizecharter': 7566, 'mastrub': 5148, 'barren': 677, 'wasteland': 9064, 'canada': 1213, 'firat': 2909, 'climb': 1541, 'pier': 6307, 'frassati': 3060, 'footi': 2997, 'chiellini': 1427, 'buffon': 1116, 'madrid': 5013, 'bayern': 705, 'cheillini': 1407, 'penalti': 6207, 'lug': 4975, 'weight': 9123, 'pill': 6313, 'speechabout': 7793, 'inequ': 4119, 'ing': 4134, 'ina': 4080, 'glorigo': 3342, 'jacket': 4324, 'burlap': 1148, 'spack': 7767, 'daft': 1932, 'morod': 5510, 'electron': 2514, 'microphon': 5348, 'spoke': 7821, 'exist': 2697, 'within': 9265, 'fram': 3048, 'greendolin': 3448, 'playerssay': 6350, 'cristiano': 1846, 'gold': 3363, 'aviat': 560, 'brunello': 1087, 'cucinelli': 1882, 'cream': 1820, 'blazer': 904, 'sweetkaratemov': 8132, 'burberri': 1144, 'cambridg': 1200, 'slim': 7600, 'gucci': 3494, 'tailor': 8159, 'italian': 4298, 'silk': 7525, 'squar': 7848, 'lazytown': 4707, 'barclay': 665, 'rite': 7019, 'benjamin': 795, 'galli': 3201, 'zambro': 9448, 'probe': 6537, 'beth': 817, 'tsoukalici': 8636, 'mop': 5498, 'sauc': 7219, 'franc': 3050, 'trolootbal': 8610, 'footballtrol': 2996, 'brazil': 1029, 'javi': 4355, 'martinez': 5129, 'firework': 2913, 'independ': 4104, 'vulp': 9011, 'strep': 7989, 'wolf': 9281, 'roari': 7030, 'documentari': 2292, 'disrespect': 2262, 'prasl': 6468, 'luca': 4968, 'seaworld': 7306, 'bacon': 605, 'pasta': 6149, 'primavera': 6515, 'along': 231, 'chrys': 1478, 'xipolita': 9368, 'instagram': 4174, 'contract': 1712, 'circl': 1507, 'shop': 7474, 'awkard': 573, 'item': 4301, 'delet': 2077, 'paragraph': 6116, 'bitchhh': 885, 'vito': 8981, 'corleon': 1747, 'michael': 5343, 'moviequotemonday': 5544, 'arn': 432, 'noi': 5783, 'crook': 1855, 'inde': 4101, 'shame': 7406, 'enchan': 2559, 'temper': 8249, 'iye': 4316, 'notimeforbullshit': 5822, 'enemi': 2568, 'affect': 129, 'winni': 9245, 'pooh': 6405, 'surviv': 8108, 'cheerio': 1399, 'marin': 5110, 'cigarsandseastories': 1501, 'semper': 7343, 'fi': 2876, 'result': 6950, 'overshadow': 6051, 'massacr': 5143, 'sigh': 7517, 'godfather': 3356, 'fortnit': 3023, 'giusepp': 3327, 'blue': 932, 'jean': 4362, 'korean': 4608, 'quickmem': 6688, 'sheeran': 7427, 'timesheet': 8447, 'unusu': 8826, 'uneasi': 8765, 'she': 7422, 'mountain': 5535, 'incestu': 4088, 'nerdy': 5699, 'dragon': 2370, 'eshow': 2632, 'stank': 7889, 'incest': 4087, 'theon': 8349, 'thodou': 8399, 'ah': 157, 'fighter': 2885, 'champion': 1356, 'memet': 5279, 'podrick': 6381, 'payn': 6182, 'shofor': 7467, 'quickmemes': 6691, 'dothraki': 2353, 'dirty': 2228, 'field': 2879, 'smash': 7628, 'except': 2686, 'greyjoy': 3457, 'greysad': 3458, 'reasonjonsnow': 6807, 'georg': 3276, 'prisuxo': 6528, 'witch': 9263, 'bestofgameofthron': 813, 'jorah': 4433, 'mormont': 5506, 'petyr': 6263, 'baelish': 617, 'friendzon': 3097, 'guid': 3498, 'puusliwod': 6656, 'wealthi': 9092, 'knight': 4585, 'asoiafmem': 474, 'trial': 8582, 'combat': 1616, 'grey': 3456, 'worm': 9314, 'missandei': 5422, 'winterfel': 9249, 'jon': 4425, 'benjen': 796, 'trialbymem': 8584, 'nahari': 5622, 'thali': 8291, 'harrier': 3598, 'bijil': 858, 'wroon': 9345, 'wrogn': 9343, 'wdt': 9087, 'jdt': 4360, 'wpt': 9331, 'wri': 9338, 'zom': 9465, 'neil': 5687, 'nitin': 5771, 'mukesh': 5568, 'coopwhooo': 1733, 'promis': 6561, 'sansa': 7194, 'tormund': 8523, 'davo': 2002, 'ferment': 2863, 'crab': 1799, 'gameoflaughs': 3209, 'avocado': 561, 'supermarket': 8074, 'bran': 1022, 'ashwinska': 466, 'apafrom': 366, 'dive': 2273, 'chain': 1347, 'viserion': 8969, 'muscl': 5580, 'wildcard': 9226, 'littlefing': 4863, 'daeneri': 1930, 'tyrion': 8705, 'rate': 6768, 'swt': 8142, 'ncwemmi': 5662, 'saddest': 7156, 'window': 9240, 'got_tyrion': 3395, 'sweat': 8123, 'khal': 4538, 'degen': 2069, 'castl': 1279, 'wildl': 9228, 'coz': 1795, 'shitti': 7460, 'superpow': 8076, 'boromir': 985, 'dani': 1959, 'mehdi': 5209, 'sehri': 7327, 'spent': 7799, 'coldest': 1594, 'part': 6129, 'westero': 9146, 'bare': 666, 'spurn': 7845, 'immedi': 4059, 'fanci': 2780, 'react': 6785, 'shift': 7444, 'walker': 9032, 'beyond': 828, 'lockup': 4891, 'chicken': 1423, 'hounl': 3863, 'thronesmem': 8420, 'amaz': 251, 'rajkanwar': 6745, 'chopra': 1458, 'gameoflaugh': 3208, 'badi': 613, 'subtitl': 8037, 'downvot': 2361, 'effomem': 2490, 'hound': 3862, 'crispi': 1845, 'gotmem': 3400, 'cocain': 1578, 'crack': 1802, 'bulanov': 1125, 'booz': 977, 'lannist': 4664, 'debt': 2032, 'lege': 4747, 'loan': 4882, 'oper': 5976, 'system': 8151, 'io': 4242, 'btch': 1099, 'brace': 1016, 'congress': 1688, 'modi': 5458, 'targaryen': 8184, 'danygonebad': 1971, 'gameofthron': 3210, 'chess': 1416, 'dang': 1957, 'vishi': 8970, 'eddard': 2474, 'rejoin': 6880, 'dermatologist': 2117, 'skincar': 7574, 'trick': 8591, 'click': 1536, 'dumbest': 2422, 'choke': 1452, 'joffrey': 4408, 'teas': 8220, 'windmil': 9239, 'hyster': 3934, 'of': 5886, 'cmon': 1569, 'recaptur': 6815, 'ship': 7446, 'naot': 5633, 'jaun': 4354, 'annih': 331, 'os': 6008, 'jaime': 4336, 'realdailywir': 6792, 'whatjon': 9165, 'jonsnow': 4432, 'brush': 1088, 'bore': 979, 'topic': 8519, 'sky': 7579, 'atlant': 504, 'hbo': 3645, 'puberti': 6608, 'sort': 7744, 'hat': 3618, 'regrow': 6865, 'bone': 965, 'voldemort': 9000, 'flaw': 2945, 'featur': 2828, 'lolmemez': 4904, 'nsfw': 5834, 'hill': 3750, 'rowl': 7103, 'etc': 2644, 'voldemart': 8996, 'bake': 630, 'rainbow': 6740, 'emrummelovegood': 2557, 'haircut': 3545, 'hogwart': 3799, 'sirius': 7554, 'slotherin': 7606, 'site': 7560, 'mugglenet': 5564, 'ummm': 8731, 'storm': 7972, 'crest': 1831, 'brushio': 1089, 'dentum': 2105, 'felip': 2843, 'herrera': 3718, 'chamber': 1351, 'learnta': 4723, 'wand': 9040, 'disappearl': 2233, 'horcrux': 3841, 'geta': 3285, 'memeconerator': 5244, 'symbol': 8144, 'eagl': 2445, 'raven': 6775, 'maraud': 5097, 'lili': 4832, 'snape': 7655, 'tommi': 8501, 'papa': 6107, 'muggl': 5563, 'avada': 550, 'kedavra': 4516, 'riddl': 6995, 'shirt': 7448, 'siriusli': 7555, 'slytherin': 7611, 'hagrid': 3535, 'honeyduk': 3832, 'no': 5775, 'hermion': 3712, 'wefcomics': 9118, 'radio': 6730, 'professor': 6551, 'chromosom': 1474, 'maus': 5165, 'keeper': 4519, 'forbidden': 2998, 'forest': 3003, 'safeti': 7163, 'prioriti': 6524, 'unstabl': 8818, 'ground': 3475, 'surround': 8105, 'thave': 8309, 'band': 646, 'hermoin': 3713, 'bethani': 818, 'nois': 5785, 'benedictscumberbatch': 789, 'seven': 7383, 'voldemo': 8997, 'ked': 4515, 'severuslilyalway': 7385, 'prefect': 6480, 'bathroom': 698, 'merlin': 5315, 'cho': 1447, 'flashback': 2941, 'moan': 5448, 'myrtl': 5609, 'daniel': 1961, 'radcliff': 6727, 'wig': 9218, 'desmotivaciones': 2129, 'harrypotterdaily': 3600, 'bewitch': 825, 'wikipedia': 9222, 'unit': 8788, 'hashtag': 3611, 'voldemoimgflip': 8999, 'wardrob': 9049, 'utsav': 8868, 'ojha': 5917, '_thatutsavojha': 13, 'indian': 4107, 'dec': 2035, 'chosen': 1462, 'lennon': 4765, 'favor': 2813, 'meangirlsofpanem': 5189, 'scar': 7248, 'harrý': 3603, 'shoe': 7465, 'nosi': 5815, 'plane': 6341, 'quidditch': 6696, 'snitch': 7664, 'docicerch': 2289, 'fking': 2934, 'voldemoi': 8998, 'dobbi': 2288, 'accessori': 55, 'outfit': 6029, 'cloak': 1548, 'sparkl': 7777, 'transport': 8562, 'travel': 8567, 'french': 3078, 'vodenart': 8989, 'elvi': 2534, 'youjustlearned': 9421, 'sneak': 7658, 'librari': 4800, 'pair': 6082, 'sock': 7687, 'velociraptor': 8908, 'shampoo': 7408, 'buffer': 1114, 'eme': 2540, 'screensav': 7284, 'arsenal': 444, 'wizard': 9270, 'loceptioncow': 4889, 'villain': 8944, 'civilian': 1515, 'texan': 8281, 'shelter': 7434, 'joel': 4404, 'olsteen': 5939, 'umeme': 8728, 'thousand': 8406, 'ooo': 5970, 'smexi': 7636, 'baemillssey': 618, 'ct': 1875, 'yeahp': 9393, 'merri': 5317, 'eu': 2648, 'sneez': 7661, 'baemillsslay': 619, 'quiet': 6697, 'geez': 3254, 'psat': 6596, 'reliz': 6892, 'interpret': 4212, 'hurrican': 3920, 'nake': 5625, 'oswald': 6014, 'jfk': 4387, 'niemeyerl': 5748, 'alun': 243, 'tarneeb': 8186, 'champ': 1355, 'eli': 2523, 'pentagon': 6218, 'paper': 6110, 'wpa': 9330, 'elizabeth': 2525, 'prom': 6560, 'naurut': 5651, 'blogspot': 922, 'mlb': 5443, 'debut': 2034, 'mai': 5031, 'cliff': 1538, 'themlbmem': 8339, 'fabot': 2739, 'bri': 1043, 'bigshtxtalk': 856, 'grater': 3435, 'papamoist': 6109, 'shouldnt': 7484, 'hi': 3731, 'fema': 2850, 'isast': 4267, 'rellot': 6893, 'myn': 5608, 'groceri': 3468, 'henni': 3703, 'gang': 3215, 'resourc': 6940, 'togetintoimpact': 8484, 'area': 413, 'emerg': 2543, 'outta': 6039, 'iamstev': 3938, 'houston': 3869, 'zorg': 9471, 'fifth': 2881, 'element': 2516, 'yeet': 9397, 'sovereign': 7759, 'dounutti': 2358, 'mbule': 5174, 'wboni': 9086, 'wew': 9150, 'disast': 2236, 'themat': 8335, 'content': 1708, 'boner': 967, 'pork': 6422, 'porkupin': 6423, 'pageant': 6076, 'fra': 3042, 'creator': 1824, 're': 6783, 'us': 8852, 'irma': 4253, 'uncle': 8747, 'inside': 4163, 'out': 6026, 'oreo': 5998, 'coupon': 1780, 'victim': 8933, 'adam': 89, 'congrat': 1686, 'michigan': 5347, 'cotton': 1765, 'divorc': 2278, 'nfc': 5728, 'east': 2457, 'cowboy': 1793, 'phil': 6275, 'theme': 8336, 'cindi': 1504, 'poluta': 6402, 'missunivers': 5429, 'steveharvey': 7946, 'diva': 2272, 'blog': 919, 'tomboyish': 8499, 'slobe': 7604, 'globe': 3339, 'lalala': 4654, 'lade': 4643, 'moonlight': 5496, 'reuter': 6962, 'colombia': 1605, 'stillrealtous': 7955, 'bah': 623, 'gawd': 3241, 'duidditig': 2417, 'officialrandomthought': 5900, 'woulda': 9324, 'bulong': 1135, 'carolina': 1267, 'undef': 8752, 'nfl_meme': 5731, 'conflict': 1681, 'antichrist': 350, 'ste': 7924, 'upsid': 8840, 'matt': 5158, 'fastbal': 2800, 'pregnant': 6485, 'html': 3881, 'meta': 5323, 'charset': 1382, 'utf': 8864, 'css': 1874, 'margin': 5106, 'pad': 6074, 'elon': 2531, 'musk': 5584, 'sub': 8024, 'pewd': 6265, 'guest': 3496, 'galen': 3199, 'stangyoass': 7888, 'bewar': 823, 'cheap': 1387, 'aceth': 68, 'tax': 8200, 'return': 6957, 'email': 2536, 'bettermeme': 821, 'warrior': 9057, 'weinsteinp': 9125, 'cigar': 1499, 'bust': 1159, 'rig': 7002, 'primari': 6514, 'coal': 1573, 'miner': 5392, 'nation': 5647, 'shameless': 7407, 'deplor': 2107, 'how': 3870, 'clone': 1551, 'strategi': 7982, 'soro': 7741, 'interrupt': 4215, 'alert': 200, 'socket': 7688, 'teras': 8265, 'justa': 4473, 'printer': 6522, 'peta': 6254, 'flat': 2942, 'eleph': 2519, 'turtl': 8667, 'snake': 7651, 'not': 5817, 'hav': 3629, 'pms': 6371, 'syndrom': 8147, 'kool': 4606, 'aid': 163, 'bradi': 1018, 'guilti': 3501, 'just': 4472, 'patriot': 6164, 'luv': 4984, 'besg': 807, 'terrif': 8270, 'tge': 8287, 'ebaumsworld': 2465, 'demograph': 2093, 'haventreceiv': 3631, 'amirightp': 270, 'sander': 7186, 'protest': 6587, 'segreg': 7324, 'senat': 7346, 'fund': 3139, 'prison': 6527, 'lobbyist': 4884, 'irs': 4261, 'nolapoog': 5788, 'tablet': 8154, 'secretari': 7310, 'mentallyemancip': 5304, 'casey': 1275, 'anthoni': 348, 'vaticani': 8896, 'pope': 6415, 'wahhh': 9019, 'pizza': 6332, 'seizur': 7329, 'whos': 9202, 'hurt': 3921, 'suppotrump': 8090, 'gentleman': 3273, 'readyforhillari': 6789, 'utubewayarmi': 8870, 'weekendathillari': 9116, 'clintoncollaps': 1544, 'animatron': 325, 'crimin': 1839, 'lion': 4848, 'centiped': 1327, 'proverb': 6591, 'canadian': 1214, 'hann': 3571, 'sus': 8110, 'eam': 2446, 'treason': 8569, 'reckless': 6825, 'arrog': 440, 'scandal': 7247, 'pron': 6563, 'oni': 5964, 'fdni': 2823, 'zero': 9456, 'rudi': 7111, 'giuliani': 3326, 'ralli': 6747, 'patriarchi': 6162, 'textual': 8283, 'relat': 6881, 'deaux': 2028, 'dstfelix': 2403, 'epidem': 2600, 'danceri': 1956, 'track': 8541, 'irmgflip': 4254, 'prez': 6508, 'heartless': 3666, 'sociopath': 7686, 'pace': 6068, 'payin': 6180, 'weiner': 9124, 'frontal': 3106, 'humuna': 3908, 'imagflip': 4024, 'diplomaci': 2219, 'cornerston': 1751, 'foreign': 3002, 'polici': 6393, 'palin': 6090, 'dobald': 2287, 'jiin': 4390, 'arent': 416, 'bright': 1053, 'jacob': 4329, 'satan': 7212, 'pros': 6575, 'decad': 2036, 'rob': 7032, 'ir': 4249, 'polmcal': 6401, 'conewild': 1676, 'dhs': 2166, 'funnni': 3147, 'turd': 8660, 'becaus': 734, 'tootsi': 8517, 'thope': 8401, 'bot': 990, 'feelthebernz': 2839, 'asid': 469, 'butthol': 1164, 'attn': 520, 'dnc': 2286, 'highway': 3741, 'toddler': 8478, 'fetus': 2870, 'meтet': 5333, 'logic': 4895, 'snowden': 7671, 'imprison': 4075, 'compromis': 1660, 'hip': 3762, 'hop': 3839, 'donna': 2329, 'sean': 7295, 'hanniti': 3573, 'bruuuhhh': 1091, 'swung': 8143, 'campaign': 1210, 'evid': 2674, 'blatant': 902, 'clear': 1534, 'skeleton': 7568, 'closet': 1554, 'cemeteri': 1321, 'liber': 4798, 'mistrust': 5433, 'attention': 515, 'governor': 3408, 'penc': 6208, 'individu': 4114, 'corn': 1748, 'mark': 5113, 'lewi': 4786, 'mod': 5453, 'censor': 1324, 'guarante': 3492, 'andat': 295, 'rex': 6976, 'veryoldand': 8920, 'nicknam': 5744, 'rambuncti': 6751, 'reptilian': 6923, 'museum': 5582, 'prefer': 6482, 'racism': 6722, 'race': 6718, 'imao': 4030, 'imfao': 4035, 'tweegram': 8681, 'photooftheday': 6287, 'wacki': 9014, 'witti': 9267, 'instahappi': 4176, 'instagood': 4173, 'instafun': 4172, 'funnypictur': 3168, 'humor': 3902, 'chemic': 1408, 'polish': 6394, 'ius': 4312, 'dispos': 2257, 'nazi': 5657, 'usual': 8861, 'leader': 4714, 'germani': 3283, 'boi': 954, 'frigger': 3098, 'lvce': 4987, 'rennebrog': 6905, 'eur': 2651, 'rexf': 6977, 'führerious': 3189, 'rorisot': 7082, 'mighti': 5359, 'defeat': 2061, 'taylor': 8202, 'swift': 8135, 'fascist': 2797, 'certain': 1335, 'jew': 4382, 'mussolini': 5587, 'admir': 107, 'hipster': 3767, 'celebr': 1317, 'beforeit': 753, 'memegeneratornet': 5258, 'mexico': 5331, 'spooki': 7827, 'nauseatingnut': 5652, 'toilet': 8485, 'flush': 2973, 'poopoo': 6410, 'cape': 1237, 'antisemit': 353, 'lurk': 4980, 'explicit': 2715, 'almighti': 228, 'wii': 9219, 'muss': 5586, 'zis': 9464, 'tall': 8168, 'riden': 6997, 'zie': 9458, 'adolf': 109, 'berlin': 803, 'march': 5099, 'poland': 6389, 'septemb': 7362, 'yor': 9415, 'heil': 3688, 'planet': 6342, 'jewpit': 4386, 'zac': 9443, 'efron': 2494, 'barack': 659, 'extrem': 2731, 'similar': 7531, 'holla': 3806, 'shar': 7412, 'jerk': 4372, 'corbi': 1743, 'bunker': 1139, 'gari': 3227, 'surrend': 8104, 'netanyahu': 5707, 'cage': 1183, 'indefinit': 4103, 'siga': 7516, 'promot': 6562, 'worldwid': 9313, 'desir': 2126, 'soviettoucan': 7761, 'сука': 9496, 'блять': 9491, 'soviet': 7760, 'toucan': 8528, 'bealpap': 719, 'imgace': 4039, 'fascism': 2796, 'cure': 1899, 'miguel': 5362, 'unamuno': 8736, 'quqt': 6711, 'wismes': 9261, 'brithday': 1062, 'damniti': 1949, 'phelp': 6273, 'aschool': 459, 'yos': 9418, 'racistmemes': 6724, 'seat': 7303, 'gulag': 3507, 'unlock': 8800, 'whatif': 9164, 'comrad': 1662, 'dunn': 2429, 'agreement': 154, 'quicksav': 6693, 'occupi': 5877, 'democrat': 2091, 'yep': 9400, 'tyrant': 8704, 'enabl': 2558, 'teapainusa': 8218, 'pepol': 6227, 'memebucket': 5234, 'lig': 4818, 'whatcha': 9158, 'naze': 5656, 'sia': 7511, 'prglect': 6509, 'moral': 5499, 'reliabl': 6888, 'thenwowillfail': 8345, 'danish': 1962, 'hitlerdidnothingwrong': 3780, 'raindrop': 6741, 'dodg': 2294, 'pussi': 6646, 'goddamn': 3353, 'veggi': 8904, 'rudolf': 7112, 'hess': 3722, 'mein': 5212, 'kampf': 4488, 'grammar': 3416, 'debunk': 2033, 'leftist': 4738, 'erva': 2626, 'unfortun': 8773, 'submi': 8027, 'societi': 7685, 'conserv': 1696, 'kumbaya': 4624, 'fought': 3031, 'pacif': 6069, 'regardless': 6857, 'whether': 9180, 'imperi': 4067, 'neo': 5694, 'coloni': 1608, 'mugab': 5562, 'disney': 2253, 'transfus': 8556, 'urg': 8849, 'preheat': 6486, 'dilig': 2208, 'artifact': 448, 'spooktob': 7828, 'doot': 2342, 'wearetheworst': 9096, 'machin': 5001, 'nein': 5688, 'darl': 1982, 'tallto': 8169, 'reicht': 6869, 'auschwitz': 534, 'crime': 1837, 'lmfao': 4879, 'imaginari': 4026, 'comfort': 1628, 'confront': 1682, 'decay': 2039, 'western': 9145, 'plus': 6367, 'aw': 563, 'carrey': 1269, 'alllrighti': 223, 'eater': 2462, 'wilfordbrim': 9229, 'reflect': 6849, 'role': 7062, 'ilook': 4016, 'whi': 9181, 'demeuerleidtor': 2087, 'knee': 4582, 'ar': 405, 'livet': 4871, 'christi': 1470, 'lacma': 4639, 'wantdy': 9045, 'exponenti': 2719, 'thinki': 8391, 'uniqu': 8787, 'refresh': 6852, 'meee': 5201, 'rnc': 7026, 'thestranglesquad': 8368, 'richand': 6987, 'illiter': 4014, 'wealthiest': 9093, 'roast': 7031, 'hedgehog': 3680, 'photobucket': 6282, 'amask': 250, 'auto': 545, 'atthefucho': 516, 'bedrock': 744, 'erod': 2618, 'beneath': 787, 'involv': 4240, 'marilyn': 5109, 'manson': 5087, 'nstructo': 5836, 'reput': 6926, 'allir': 221, 'carpet': 1268, 'dammit': 1947, 'stealth': 7927, 'lifetim': 4816, 'caitlyn': 1185, 'jenner': 4370, 'carey': 1258, 'spencer': 7797, 'wednesday': 9109, 'pmwhiphop': 6374, 'accur': 65, 'percept': 6233, 'capadi': 1236, 'superior': 8070, 'capac': 1235, 'sensit': 7356, 'snowflak': 7672, 'thicker': 8383, 'aggreg': 148, 'npcs': 5831, 'jaoquin': 4346, 'phoenix': 6279, 'gamer': 3211, 'mametent': 5067, 'pee': 6198, 'pool': 6406, 'anev': 308, 'greak': 3440, 'semest': 7341, 'gayer': 3244, 'rpg': 7104, 'remedi': 6897, 'cum': 1890, 'wide': 9214, 'hahahahahahahahaha': 3541, 'soci': 7682, 'trendingnuts': 8579, 'quikememe': 6698, 'harley': 3593, 'quinn': 6699, 'senseless': 7355, 'veteran': 8923, 'oppos': 5983, 'troop': 8613, 'veronica': 8915, 'backstab': 602, 'chad': 1346, 'dolez': 2310, 'lsoe': 4964, 'thier': 8384, 'tor': 8522, 'ditf': 2271, 'smoker': 7644, 'unhealthi': 8778, 'superman': 8073, 'lsd': 4963, 'heroin': 3717, 'meth': 5326, 'confess': 1677, 'mallard': 5055, 'chao': 1370, 'amus': 278, 'affleck': 131, 'fucker': 3118, 'filthi': 2897, 'arkham': 424, 'whent': 9176, 'marvelousjok': 5134, 'superhero_fix': 8068, 'includ': 4092, 'extend': 2724, 'dialogu': 2170, 'cesar': 1338, 'romero': 7069, 'alter': 240, 'factsofcom': 2751, 'romeo': 7068, 'juliet': 4462, 'sake': 7168, 'manipul': 5082, 'lunat': 4977, 'stockholm': 7960, 'adjust': 104, 'leftit': 4739, 'hath': 3623, 'inconvenienc': 4096, 'smh': 7637, 'ugh': 8715, 'fml': 2974, 'thebatbrand': 8314, 'curio': 1901, 'heath': 3670, 'ledger': 4731, 'impract': 4073, 'rhubarb': 6982, 'mfh': 5334, 'ronald': 7072, 'traffic': 8545, 'byacyclist': 1170, 'overtak': 6052, 'jare': 4350, 'leto': 4780, 'fabul': 2740, 'nicer': 5738, 'rail': 6738, 'puddin': 6613, 'laid': 4648, 'intens': 4198, 'addict': 93, 'brutal': 1090, 'bale': 634, 'igi': 3997, 'wonderwomandatman': 9293, 'werdy': 9140, 'sparta': 7779, 'morticia': 5516, 'gomez': 3369, 'wick': 9213, 'injuri': 4149, 'boneless': 966, 'ismil': 4285, 'common': 1642, 'shatter': 7418, 'delus': 2083, 'crazier': 1816, 'thi': 8380, 'thu': 8426, 'atom': 507, 'suppohitl': 8082, 'noon': 5800, 'nuclear': 5839, 'typicalterom': 8703, 'jong': 4429, 'un': 8733, 'circa': 1506, 'leagu': 4716, 'unimgflip': 8783, 'breakbrunch': 1034, 'sega': 7322, 'aliseca': 210, 'realdonald': 6793, 'north': 5811, 'sep': 7359, 'kimjong': 4560, 'hes': 3720, 'threaten': 8411, 'airlin': 170, 'program': 6555, 'legit': 4755, 'il': 4009, 'heir': 3689, 'oldest': 5933, 'nam': 5628, 'japan': 4347, 'disneyland': 2254, 'useless': 8855, 'scoop': 7271, 'posnanski': 6433, 'tonyposanski': 8511, 'dotard': 2352, 'deux': 2152, 'crash': 1810, 'chant': 1369, 'sassi': 7209, 'greuter': 3454, 'missil': 5423, 'squash': 7849, 'marshmallow': 5123, 'rabbit': 6715, 'escap': 2628, 'chong': 1456, 'chopstick': 1459, 'lil': 4831, 'reincarn': 6874, 'edc': 2473, 'opposit': 5984, 'badasseri': 609, 'remain': 6894, 'chines': 1442, 'microwav': 5350, 'stuffistumbl': 8014, 'jung': 4467, 'lbs': 4708, 'anex': 309, 'allamerican': 214, 'skinni': 7575, 'situat': 7562, 'intimid': 4223, 'shangai': 7409, 'island': 4284, 'joyreactor': 4445, 'twinki': 8690, 'tempt': 8255, 'wundum': 9352, 'brink': 1058, 'mixtap': 5441, 'missl': 5426, 'humorkingdom': 3904, 'buffet': 1115, 'unsuccess': 8820, 'liam': 4791, 'harryslut': 3601, 'mili': 5369, 'jessic': 4378, 'redneck': 6839, 'dlau': 2283, 'miley': 5368, 'neeson': 5678, 'disturb': 2270, 'incid': 4090, 'defi': 2064, 'council': 1772, 'declin': 2047, 'contact': 1706, 'howlett': 3875, 'duff': 2414, 'elena': 2518, 'elma': 2527, 'saber': 7146, 'cart': 1272, 'delena': 2076, 'stelena': 7934, 'vaccin': 8875, 'persu': 6251, 'biolog': 877, 'muh': 5565, 'destori': 2141, 'sober': 7679, 'reassur': 6808, 'duz': 2439, 'karat': 4495, 'muai': 5555, 'thai': 8289, 'redund': 6843, 'vicki': 8932, 'woah': 9275, 'ahren': 162, 'goodluckahren': 3381, 'limrice': 4838, 'england': 2575, 'thoma': 8400, 'artifici': 449, 'jam': 4338, 'shoutout': 7487, 'antagonist': 342, 'bug': 1117, 'andi': 299, 'niall': 5734, 'nike': 5760, 'dissapoint': 2264, 'oliv': 5938, 'huyou': 3924, 'willfind': 9232, 'starwars': 7905, 'triliam': 8593, 'qui': 6681, 'gon': 3372, 'script': 7287, 'starwar': 7904, 'onedirect': 5959, 'harrystyl': 3602, 'niallhoran': 5735, 'liampayn': 4796, 'louistomlinson': 4947, 'zaynmalik': 9452, 'larrystylinson': 4673, 'troyesivan': 8617, 'troy': 8616, 'accommod': 60, 'taken': 8163, 'zayn': 9451, 'itsyaboi': 4308, 'yer': 9401, 'jab': 4317, 'melon': 5220, 'gallagh': 3200, 'liamgallagh': 4793, 'recov': 6831, 'wknd': 9271, 'fook': 2990, 'hap': 3574, 'asf': 462, 'liaamburn': 4790, 'appar': 377, 'hasslehoff': 3617, 'hoff': 3797, 'hassl': 3616, 'liamdunn': 4792, '_liamsweeney': 7, 'pencil': 6209, 'slari': 7586, 'liammc': 4794, 'unawar': 8740, 'demon': 2094, 'chat': 1385, 'mybestiesay': 5601, 'maggi': 5018, 'grace': 3412, 'idri': 3978, 'elba': 2507, 'gri': 3459, 'monster': 5487, 'pearer': 6191, 'marthburton': 5125, 'noic': 5784, 'sooo': 7737, 'botdog': 991, 'josh': 4438, 'wemer': 9134, 'inappropri': 4084, 'hemsworth': 3700, 'goodmorn': 3382, 'beckham': 735, 'faucratch': 2809, 'mometenl': 5473, 'quicki': 6684, 'meineyenerator': 5213, 'coke': 1591, 'wood': 9298, 'sheep': 7424, 'dogandthimble': 2301, 'wrydirection': 9347, 'afungi': 141, 'brit': 1060, 'mychubbi': 5602, 'gayboy': 3243, 'puns_on': 6629, 'under': 8753, 'appteci': 397, 'grant': 3426, 'liver': 4869, 'fewer': 2872, 'precis': 6476, 'hobbit': 3792, 'isengard': 4269, 'axe': 576, 'memescrunch': 5269, 'aragorn': 409, 'elvish': 2535, 'recal': 6814, 'misti': 5432, 'moria': 5504, 'bunch': 1138, 'jewelri': 4384, 'spreadabl': 7840, 'ringsyou': 7012, 'section': 7311, 'heat': 3669, 'pose': 6430, 'bilbo': 864, 'gollum': 3368, 'claus': 1530, 'robe': 7036, 'attir': 518, 'unexpect': 8768, 'fontan': 2988, 'rewatch': 6973, 'pansi': 6099, 'denethor': 2097, 'jaim': 4335, 'kingslay': 4567, 'stewardslay': 7948, 'gondor': 3374, 'prayer': 6470, 'theoden': 8346, 'temporari': 8254, 'bother': 992, 'deathstar': 2026, 'groot': 3472, 'truli': 8623, 'grima': 3463, 'wyrmtongu': 9360, 'gentemen': 3270, 'slowli': 7608, 'seth': 7378, 'imour': 4063, 'breakfast': 1036, 'pip': 6324, 'desktop': 2128, 'bloom': 927, 'fridg': 3085, 'anal': 281, 'pregam': 6483, 'waiter': 9022, 'caution': 1303, 'trinket': 8598, 'bow': 1002, 'reap': 6802, 'wyo': 9358, 'realm': 6800, 'rout': 7099, 'lotrmem': 4937, 'baggin': 621, '_read': 10, 'term': 8267, 'itun': 4309, 'shire': 7447, 'naah': 5618, 'grandmoth': 3421, 'figurin': 2887, 'indy': 4116, 'poison': 6385, 'tale': 8165, 'wormtongu': 9315, 'drug': 2400, 'bold': 958, 'gemini': 3258, 'smeagol': 7632, 'melt': 5221, 'minionquot': 5401, 'despicablememinions': 2135, 'sabbath': 7144, 'imgfilp': 4042, 'darker': 1977, 'warmer': 9053, 'colder': 1593, 'louder': 4944, 'outstand': 6038, 'inher': 4141, 'inhuman': 4143, 'earn': 2451, 'toler': 8490, 'drama': 2373, 'olaf': 5923, 'breast': 1038, 'thigh': 8386, 'kfc': 4534, 'turkey': 8664, 'frozen': 3110, 'grandpa': 3422, 'grandson': 3424, 'tragic': 8547, 'forti': 3022, 'smartass': 7625, 'profession': 6550, 'fluent': 2970, 'dontget': 2332, 'wierd': 9215, 'yuck': 9434, 'minions': 5402, 'amina': 269, 'exercis': 2692, 'jump': 4464, 'conclus': 1671, 'marbl': 5098, 'politician': 6398, 'minimum': 5398, 'easili': 2456, 'stuf': 8012, 'cop': 1735, 'despic': 2133, 'meminions': 5286, 'symptom': 8145, 'carburet': 1252, 'mshotyour': 5554, 'geti': 3286, 'ματη': 9489, 'hме': 3936, 'bail': 626, 'seed': 7316, 'pound': 6448, 'kidnap': 4547, 'locat': 4888, 'lip': 4850, 'een': 2487, 'ie': 3980, 'sciss': 7268, 'wander': 9041, 'cherish': 1413, 'hidden': 3733, 'tuesday': 8646, 'backward': 604, 'sexi': 7388, 'cam': 1199, 'stainsult': 7879, 'basi': 687, 'inject': 4147, 'your': 9426, 'feet': 2840, 'drain': 2371, 'ginna': 3313, 'expel': 2705, 'pajama': 6084, 'preefer': 6479, 'molest': 5465, 'fart': 2794, 'patienc': 6157, 'virtu': 8964, 'suffer': 8045, 'speed': 7795, 'beacaus': 715, 'нeнeнeнанананенанене': 9492, 'bet': 815, 'sung': 8062, 'hunk': 3914, 'huaband': 3882, 'alik': 208, 'snaughflatul': 7657, 'snoand': 7665, 'snort': 7668, 'gapbagep': 3224, 'interact': 4201, 'sashim': 7207, 'freakin': 3064, 'eight': 2502, 'hay': 3641, 'justifi': 4480, 'shoi': 7468, 'intestin': 4219, 'blew': 910, 'wasnt': 9061, 'african': 137, 'te': 8210, 'punquotes': 6628, 'coolupon': 1729, 'seeley': 7319, 'oldvcut': 5934, 'keerata': 4520, 'gapbagap': 3223, 'anger': 314, 'mcweiner': 5183, 'freezer': 3077, 'wat': 9065, 'underton': 8759, 'sheer': 7426, 'lack': 4638, 'decenc': 2041, 'fyck': 3187, 'robber': 7033, 'complex': 1656, 'tijuana': 8439, 'cking': 1517, 'rope': 7081, 'surfac': 8099, 'mofo': 5462, 'kuronekofag': 4628, 'thate': 8304, 'despicablememenions': 2134, 'homework': 3822, 'quotesideas': 6710, 'ook': 5969, 'charm': 1381, 'older': 5932, 'biunc': 891, 'elementari': 2517, 'glue': 3345, 'peel': 6201, 'partyy': 6138, 'fertil': 2865, 'zam': 9447, 'research': 6931, 'chevi': 1418, 'impala': 4065, 'đuari': 9487, 'throwa': 8423, 'brick': 1048, 'misogyni': 5419, 'determin': 2150, 'iceland': 3953, 'recess': 6820, 'banksters': 655, 'th': 8288, 'sexism': 7389, 'cinderella': 1503, 'kanna': 4489, 'lotus': 4941, 'fivestar': 2931, 'dvd': 2440, 'soic': 7699, 'filan': 2889, 'hatefulc': 3621, 'viral': 8960, 'bigotri': 855, 'xenophobia': 9366, 'islamophobia': 4283, 'hatr': 3625, 'proudliber': 6589, 'nevertrump': 5718, 'feminin': 2856, 'womanhood': 9286, 'courteshillari': 1784, 'memati': 5224, 'mysogyni': 5610, 'eastcoasteden': 2458, 'prostitut': 6581, 'tnfiw': 8470, 'instacomedi': 4169, 'chun': 1486, 'stami': 7883, 'trivialoz': 8605, 'greta': 3453, 'christina': 1472, 'heathen': 3671, 'huin': 3891, 'scoopwhoop': 7272, 'karen': 4498, 'attwood': 523, 'alibi': 205, 'ghostbust': 3296, 'resist': 6936, 'recism': 6823, 'narciss': 5637, 'press': 6502, 'democraci': 2090, 'critic': 1848, 'seniti': 7351, 'reiner': 6876, 'shotgun': 7480, 'shell': 7432, 'rebelli': 6810, 'rednecked': 6840, 'faster': 2802, 'profess': 6549, 'easi': 2454, 'quota': 6706, 'scheme': 7261, 'diabet': 2167, 'wayyy': 9083, 'winston': 9247, 'churchil': 1493, 'chronicl': 1476, 'lightskin': 4824, 'guard': 3493, 'obedi': 5862, 'wive': 9268, 'icanhasacheezburger': 3945, 'pluck': 6366, 'statement': 7911, 'republican': 6925, 'dedic': 2051, 'poutica': 6450, 'internalis': 4207, 'homophobia': 3826, 'bigot': 854, 'suppotfyc': 8089, 'amk': 272, 'chaaiti': 1344, 'jamalmason': 4340, 'newsrounds': 5722, 'misandri': 5411, 'misanthropi': 5412, 'chanc': 1360, 'tricar': 8590, 'is': 4263, 'if': 3981, 'growl': 3479, 'retreat': 6956, 'lovethispic': 4956, 'passang': 6141, 'pardon': 6120, 'misgend': 5417, 'crem': 1830, 'helado': 3691, 'shoulder': 7483, 'discrimin': 2242, 'prove': 6590, 'onekoreanboi': 5961, 'muhnamegeoff': 5567, 'ava_flav': 549, 'legal_feminista': 4744, 'minor': 5405, 'diana': 2174, 'excel': 2685, 'root': 7080, 'signal': 7520, 'scotti': 7275, 'privileg': 6531, 'trade': 8542, 'disprov': 2259, 'isgay': 4271, 'skip': 7576, 'ace': 67, 'screenshot': 7285, 'scariest_bug_ev': 7253, 'imgflio': 4043, 'greg': 3451, 'curence': 1900, 'essenti': 2638, 'sensat': 7353, 'iknow': 4008, 'grown': 3480, 'arvind': 453, 'kejriw': 4521, 'trollkejri': 8608, 'hjoke': 3782, 'remot': 6902, 'vaniti': 8892, 'backbench': 598, 'row': 7101, 'assign': 482, 'asia': 467, 'nay': 5655, 'pyi': 6658, 'taw': 8199, 'cloud': 1556, 'radar': 6726, 'seller': 7339, 'uni': 8779, 'equali': 2606, 'prosperi': 6579, 'muslim': 5585, 'uttar': 8869, 'pradesh': 6463, 'acr': 76, 'isent': 4270, 'hereto': 3710, 'decreas': 2049, 'petrol': 6258, 'pais': 6083, 'photod': 6283, 'wherev': 9179, 'tamilnadu': 8171, 'english': 2576, 'supponamo': 8085, 'har': 3584, 'mitron': 5438, 'tcc': 8206, 'igiet': 3998, 'mission': 5424, 'accomplish': 61, 'career': 1256, 'hardik': 3589, 'rahul': 6735, 'karan': 4493, 'johar': 4409, 'cbscdc': 1307, 'isupp': 4294, 'narendra': 5638, 'base': 684, 'reserv': 6933, 'mensrafein': 5301, 'gandhi': 3214, 'largest': 4671, 'pak': 6085, 'sahara': 7164, 'ter': 8264, 'forefer': 3000, 'intha': 4220, 'reen': 6847, 'central': 1328, 'maltes': 5057, 'passport': 6146, 'practis': 6462, 'capitol': 1240, 'buddybit': 1111, 'prisma': 6526, 'incindia': 4091, 'chowdar': 1465, 'chori': 1460, 'chupk': 1491, 'lovenoth': 4954, 'anil': 323, 'ambani': 254, 'cos': 1759, 'chowkidar': 1466, 'crore': 1856, 'aditya': 103, 'birla': 879, 'bribe': 1047, 'grobiend': 3467, 'annexur': 330, 'novemb': 5825, 'octob': 5882, 'gujarat': 3506, 'ramak': 6750, 'saboo': 7147, 'wef': 9117, 'decor': 2048, 'mohanda': 5463, 'jawaharl': 4357, 'nehru': 5683, 'fca': 2822, 'wot': 9322, 'protector': 6584, 'moccow': 5451, 'vodka': 8990, 'sarkar': 7206, 'addtext': 95, 'pradhan': 6464, 'sevak': 7382, 'mantri': 5090, 'perfum': 6236, 'entertales': 2586, 'melenia': 5218, 'sniff': 7663, 'apolog': 373, 'tamizhisai': 8172, 'nomin': 5791, 'prestigi': 6503, 'minist': 5403, 'pinkvilla': 6321, 'samsung': 7181, 'deliv': 2080, 'obc': 5861, 'popular': 6420, 'union': 8786, 'cabinet': 1179, 'sri': 7858, 'ordin': 5995, 'court': 1783, 'rohit': 7060, 'shetti': 7438, 'thw': 8432, 'whr': 9204, 'ppl': 6459, 'deposit': 2110, 'access': 54, 'relief': 6889, 'manmohan': 5083, 'singh': 7547, 'bharat': 832, 'ratna': 6772, 'adhm': 100, 'sach': 7148, 'mitroon': 5439, 'yuvi': 9441, 'lakh': 4653, 'buckaroo': 1106, 'throat': 8418, 'deepthroat': 2058, 'swix': 8140, 'cough': 1768, 'hasnt': 3613, 'cinema': 1505, 'mortgag': 5515, 'payment': 6181, 'propbabl': 6570, 'wont': 9296, 'propan': 6569, 'mount': 5534, 'rainier': 6742, 'shadow': 7402, 'rise': 7017, 'esko': 2634, 'dew': 2159, 'givethi': 3330, 'tasti': 8191, 'vomit': 9004, 'medicin': 5199, 'pharmacist': 6269, 'associ': 484, 'uberti': 8708, 'morpheus': 5512, 'baad': 586, 'matrix': 5157, 'whati': 9163, 'iftold': 3988, 'chariti': 1376, 'ferret': 2864, 'thefreethouchtproject': 8323, 'heavili': 3676, 'foster': 3027, 'unrealist': 8809, 'manufactur': 5091, 'allegi': 217, 'entiti': 2589, 'masouerad': 5141, 'envi': 2593, 'limewir': 4835, 'kazaa': 4512, 'lantern': 4665, 'pedo': 6195, 'appealséu': 379, 'gifmak': 3303, 'sausag': 7223, 'anagram': 280, 'mosh': 5521, 'doorknob': 2341, 'disquis': 2260, 'curti': 1907, 'zulu': 9480, 'ancestor': 289, 'indigen': 4112, 'dui': 2416, 'cyberbulli': 1920, 'brian': 1044, 'desedrown': 2123, 'mememaker': 5263, 'steemit': 7932, 'treatment': 8572, 'mute': 5592, 'calcul': 1188, 'did': 2186, 'kno': 4590, 'tumbir': 8650, 'rattata': 6773, 'lookin': 4920, 'operti': 5977, 'briant': 1046, 'pin': 6316, 'surf': 8098, 'woke': 9280, 'deform': 2068, 'custodi': 1909, 'ambul': 260, 'infect': 4122, 'kyle': 4634, 'craven': 1813, 'badluckbrian': 615, 'badluck': 614, 'frack': 3044, 'hairspray': 3549, 'frackfeed': 3045, 'hypnotist': 3928, 'hypnot': 3927, 'guys': 3519, 'then': 8341, 'mic': 5341, 'foot': 2993, 'me': 5184, 'haunt': 3628, 'unlucki': 8802, 'monocl': 5484, 'detent': 2149, 'strangl': 7979, 'automat': 547, 'trajectori': 8551, 'angl': 316, 'data': 1989, 'tutori': 8673, 'bucket': 1107, 'megenerator': 5206, 'stereo': 7939, 'nintendo': 5766, 'boytm': 1013, 'integr': 4191, 'meri': 5312, 'mylittl': 5606, 'brony': 1074, 'brock': 1066, 'memelenl': 5261, 'icanhavecheezburger': 3950, 'griffin': 3461, 'conn': 1689, 'gotlucki': 3399, 'abad': 29, 'jabouki': 4318, 'whit': 9188, 'apr': 400, 'blizzard': 914, 'overwatch': 6056, 'su': 8022, 'infring': 4132, 'heaattack': 3649, 'stase': 7906, 'hottest': 3861, 'circumcis': 1508, 'witha': 9264, 'pie': 6304, 'dessert': 2139, 'emegenerator': 2541, 'waterr': 9074, 'netet': 5708, 'clownfish': 1560, 'dori': 2345, 'reced': 6816, 'hairlin': 3548, 'seawe': 7305, 'stash': 7907, 'calgatalk': 1189, 'nemo': 5693, 'memocionerator': 5289, 'fishi': 2922, 'vivaanranka': 8982, 'shoterm': 7479, '_official_gerald': 9, 'gerald': 3280, 'pixar': 6330, 'focuss': 2976, 'roi': 7061, 'jaw': 4356, 'australia': 538, 'babydori': 590, 'walickrnieme': 9030, 'pepsi': 6229, 'jelli': 4368, 'frighteous': 3099, 'righteous': 7004, 'bori': 981, 'ohh': 5910, 'nerv': 5701, 'cholu': 1453, 'overprotect': 6050, 'dropoff': 2396, 'fishnap': 2924, 'cargo': 1259, 'throwback': 8424, 'creek': 1827, 'marenwarn': 5103, 'backup': 603, 'hunki': 3915, 'emo': 2547, 'yolo': 9413, 'hilarioushumorfromouterspace': 3749, 'elder': 2508, 'decker': 2045, 'nomu': 5793, 'pelican': 6204, 'aww': 575, 'ink': 4151, 'raw': 6778, 'carlsburnbook': 1265, 'coral': 1742, 'salon': 7173, 'sequel': 7363, 'nearest': 5667, 'corsi': 1757, 'rickgrim': 6992, 'cadgrm': 1182, 'twd': 8680, 'nutshel': 5849, 'damnlol': 1950, 'dose': 2349, 'dentist': 2103, 'hasa': 3610, 'picture': 6301, 'laughoutloud': 4689, 'dab': 1925, 'tate': 8192, 'sibl': 7512, 'cef': 1314, 'postiz': 6439, 'rrvenu': 7105, 'voh': 8993, 'grind': 3465, 'gear': 3251, 'gino': 3314, 'til': 8441, 'lincoln': 4839, 'marlin': 5118, 'caaarl': 1176, 'coooraaal': 1731, 'hüenëk': 3935, 'huenek': 3885, 'intensifi': 4199, 'certif': 1336, 'biden': 843, 'hamilton': 3556, 'economi': 2471, 'uncomfort': 8749, 'gryffindor': 3486, 'maga': 5015, 'burnt': 1151, 'romney': 7070, 'funnypicsplus': 3167, 'michell': 5346, 'soo': 7734, 'guickmeme': 3497, 'uniti': 8790, 'nobel': 5777, 'b_obama': 584, 'evebrow': 2658, 'tech': 8222, 'obamamem': 5860, 'obamacar': 5859, 'whoop': 9200, 'hannah': 3572, 'montana': 5488, 'bush': 1156, 'fiscal': 2920, 'doubt': 2355, 'administr': 106, 'mistaken': 5431, 'cooli': 1727, 'riot': 7013, 'report': 6917, 'most': 5524, 'ferv': 2866, 'divis': 2277, 'patirot': 6160, 'predid': 6478, 'actti': 85, 'malia': 5052, 'brett': 1041, 'kavanaugh': 4510, 'zach': 9444, 'bomstein': 961, 'zackbornstein': 9445, 'visit': 8974, 'nop': 5802, 'meneith': 5298, 'mam': 5058, 'banner': 657, 'adamvstheman': 90, 'catcal': 1286, 'respeck': 6941, 'chillin': 1435, 'homi': 3823, 'netflix': 5709, 'brag': 1019, 'grope': 3473, 'bankruptci': 653, 'smear': 7633, 'pow': 6452, 'incom': 4094, 'fraud': 3061, 'oppon': 5981, 'portia': 6427, 'tail': 8158, 'wiretapp': 9252, 'chief': 1426, 'pablo': 6067, 'bio': 876, 'meme_liciouss': 5230, 'gona': 3373, 'otour': 6020, 'endors': 2566, 'up': 8828, 'cuban': 1879, 'intern': 4206, 'whatdoumeme': 9160, 'b_obamamem': 585, 'jägerbomb': 4483, 'capri': 1241, 'culprit': 1887, 'embarrass': 2537, 'bengazhi': 793, 'furious': 3174, 'nsa': 5833, 'mass': 5142, 'surveil': 8106, 'bowi': 1004, 'bergdahl': 801, 'doj': 2309, 'seiz': 7328, 'journalist': 4441, 'solyndra': 7712, 'uranium': 8845, 'wiretap': 9251, 'tower': 8535, 'fisag': 2919, 'barri': 678, 'spygat': 7846, 'produc': 6546, 'hailin': 3543, 'sincer': 7541, 'farewel': 2790, 'frederick': 3066, 'fredtjoseph': 3067, 'melania': 5217, 'georgehwbushfuner': 3277, 'kuwait': 4630, 'yemento': 9399, 'iraq': 4251, 'troubl': 8615, 'oman': 5942, 'channek': 1367, 'israel': 4289, 'slice': 7598, 'mileston': 5366, 'cigarett': 1500, 'gov': 3405, 'shutdown': 7504, 'youbarri': 9420, 'nald': 5626, 'erri': 2621, 'travon': 8568, 'jerrytravon': 4375, 'epli': 2604, 'rebel': 6809, 'regim': 6860, 'repres': 6920, 'hijack': 3744, 'illeg': 4012, 'immigr': 4060, 'await': 564, 'deport': 2109, 'sequest': 7364, 'wave': 9078, 'goodby': 3379, 'degre': 2070, 'harvard': 3605, 'princeton': 6520, 'drew': 2386, 'abund': 48, 'hector': 3679, 'stage': 7876, 'osama': 6009, 'bin': 872, 'toiletri': 8486, 'size': 7565, 'wing': 9242, 'sgt': 7396, 'bannedclubpenguin': 656, 'finnatlip': 2907, 'penguin': 6210, 'approach': 393, 'dos': 2348, 'influx': 4129, 'madagascar': 5005, 'infiltra': 4124, 'pole': 6391, 'pp': 6458, 'olik': 5937, 'qurmama': 6712, 'temegenerator': 8247, 'rockhopp': 7044, 'effort': 2492, 'entri': 2591, 'backpack': 601, 'multipl': 5571, 'kati': 4509, 'perri': 6244, 'nag': 5620, 'suspicion': 8113, 'process': 6541, 'simplest': 7534, 'clubpenguin': 1565, 'redirect': 6838, 'clubpenguinisland': 1566, 'stood': 7966, 'laxat': 4701, 'twister': 8694, 'resurrect': 6953, 'bikini': 861, 'boil': 955, 'streetpost': 7987, 'crossov': 1860, 'intellectu': 4193, 'chuniggus': 1488, 'fling': 2954, 'snowbal': 7670, 'trainman': 8550, 'distrocktiv': 2269, 'rathroom': 6771, 'dankmem': 1968, 'tetri': 8279, 'plagu': 6336, 'inc': 4085, 'cowbelli': 1792, 'ijmitecool': 4007, 'membership': 5227, 'furnitir': 3176, 'igloo': 3999, 'exi': 2696, 'bask': 690, 'thicc': 8381, 'niggai': 5753, 'memecenet': 5237, 'pebbl': 6193, 'waddl': 9015, 'kowalski': 4610, 'poptropica': 6418, 'poptropican': 6419, 'rancher': 6755, 'analysi': 282, 'satifi': 7214, 'karma': 4501, 'opcion': 5973, 'meiri': 5214, 'deliber': 2078, 'misspel': 5427, 'ultra': 8725, 'pepe': 6223, 'forgav': 3006, 'carack': 1250, 'notif': 5821, 'phd': 6271, 'photogid': 6285, 'moder': 5456, 'loos': 4922, 'ordinari': 5996, 'confirm': 1680, 'premis': 6490, 'faaa': 2738, 'dom': 2316, 'stolen': 7962, 'unclev': 8748, 'clever': 1535, 'bee': 747, 'rust': 7135, 'belt': 780, 'obstruct': 5871, 'penitentiari': 6212, 'creep': 1828, 'februari': 2830, 'mene': 5294, 'ifuny': 3992, 'pepemem': 6224, 'pepethefrog': 6226, 'sadfrog': 7158, 'feelsbadman': 2837, 'feelsgoodman': 2838, 'savepep': 7227, 'rippep': 7016, 'polar': 6390, 'loo': 4917, 'dumper': 2425, 'lay': 4702, 'stack': 7871, 'chimney': 1437, 'homeown': 3819, 'flue': 2969, 'horror': 3849, 'household': 3867, 'wojak': 9279, 'sundaysport': 8061, 'foul': 3032, 'bowel': 1003, 'hooligan': 3837, 'unload': 8799, 'neighbour': 5686, 'wee': 9110, 'ruffian': 7114, 'swept': 8134, 'filt': 2895, 'len': 4763, 'shite': 7453, 'temperatur': 8250, 'aberdeen': 31, 'och': 5880, 'nedhat': 5675, 'doon': 2339, 'kiek': 4549, 'oik': 5913, 'unleash': 8796, 'plop': 6362, 'rue': 7113, 'waddupwaddupan': 9016, 'hitachi': 3778, 'pepeo': 6225, 'pixel': 6331, 'bart': 682, 'tritium': 8603, 'shestil': 7437, 'shooter': 7473, 'rath': 6769, 'breh': 1040, 'rareat': 6766, 'nicki': 5743, 'repub': 6924, 'risk': 7018, 'mechan': 5195, 'thirteen': 8396, 'olcoseb': 5927, 'patiem': 6156, 'outi': 6030, 'kiddo': 4545, 'log': 4892, 'picard': 6294, 'quickmemeon': 6690, 'trek': 8575, 'kirk': 4572, 'fifti': 2882, 'shade': 7400, 'earl': 2448, 'gray': 3438, 'luc': 4967, 'dissatisfi': 2265, 'android': 307, 'turbin': 8659, 'endless': 2565, 'concept': 1669, 'funnyfrenzy': 3156, 'dafuq': 1933, 'theft': 8324, 'violat': 8955, 'anarchist': 283, 'anarcho': 284, 'communist': 1644, 'rand': 6756, 'endthef': 2567, 'ronpaul': 7074, 'knowmem': 4597, 'captainci': 1244, 'ussf': 8860, 'areal': 414, 'daphn': 1972, 'damien': 1945, 'bogg': 953, 'imglols': 4050, 'spock': 7814, 'digit': 2203, 'janeway': 4344, 'enterpris': 2584, 'palm': 6091, 'int': 4190, '_right': 11, 'sickbay': 7514, 'stroke': 7998, 'stairway': 7880, 'nacho': 5619, 'maneuv': 5075, 'fro': 3101, 'pikirk': 6311, 'ashford': 465, 'theyr': 8378, 'solid': 7707, 'violet': 8958, 'dontlik': 2334, 'occup': 5876, 'crimea': 1838, 'hawai': 3634, 'imgp': 4051, 'meme_addict': 5229, 'upgrad': 8833, 'richer': 6989, 'pmlwab': 6370, 'khodorkovski': 4540, 'clout': 1558, 'kgb': 4535, 'tanya': 8180, 'unpatriot': 8805, 'scalp': 7244, 'memess': 5277, 'patrick': 6163, 'duncan': 2427, 'mueller': 5560, 'juici': 4457, 'hike': 3745, 'jone': 4428, 'innov': 4155, 'lemon': 4761, 'sprint': 7843, 'math': 5155, 'wakanda': 9023, 'vladimir': 8985, 'orgin': 6002, 'employe': 2552, 'zabava': 9442, 'funer': 3140, 'jimmi': 4393, 'sua': 8023, 'whatch': 9157, 'snore': 7667, 'thanksgiv': 8296, 'diplomat': 2220, 'rudefunny': 7110, 'river': 7022, 'theviralexperiment': 8374, 'uk': 8719, 'punditkitchen': 6625, 'flori': 2964, 'normand': 5807, 'poutin': 6451, 'mykrain': 5604, 'memegener': 5255, 'radiat': 6728, 'chancellor': 1361, 'angela': 311, 'merkel': 5314, 'tamper': 8173, 'therundova': 8366, 'umgflip': 8729, 'puppet': 6631, 'vladmir': 8986, 'volum': 9002, 'shirtless': 7449, 'chillblinton': 1433, 'vladamir': 8984, 'justgirlyth': 4476, 'slogan': 7605, 'teanderth': 8217, 'weknow': 9128, 'putout': 6652, 'shitscrol': 7459, 'putup': 6654, 'putdown': 6650, 'inseturkey': 4161, 'ther': 8356, 'croatia': 1852, 'victor': 8934, 'kargil': 4499, 'soun': 7752, 'elemekern': 2515, 'popcorn': 6413, 'curtain': 1906, 'masipop': 5139, 'dhinchak': 2165, 'puja': 6618, 'perform': 6235, 'moscow': 5520, 'protectourelections': 6585, 'vlad': 8983, 'eatliver': 2464, 'drag': 2369, 'recreat': 6832, 'tiger': 8437, 'absorb': 46, 'among': 274, 'accus': 66, 'tribal': 8585, 'monkey': 5483, 'recist': 6824, 'cyril': 1922, 'giraud': 3320, 'provid': 6592, 'nigger': 5755, 'wenignogs': 9137, 'daniebe': 1960, 'willem': 9231, 'petzer': 6264, 'andil': 301, 'miracl': 5407, 'pau': 6168, 'condon': 1675, 'weigh': 9122, 'synthet': 8148, 'watermelon': 9073, 'ling': 4844, 'humoar': 3900, 'cruis': 1864, 'abraham': 41, 'theofficeisms': 8347, 'gameboy': 3205, 'burst': 1153, 'flame': 2938, 'cracker': 1803, 'xenophob': 9365, 'calla': 1193, 'amon': 273, 'anastronaut': 285, 'sen': 7345, 'dian': 2173, 'feinstein': 2842, 'linda': 4840, 'sorenson': 7740, 'frank': 3054, 'pellicano': 6205, 'reagan': 6790, 'babysit': 593, 'plo': 6361, 'lyin': 4991, 'panti': 6102, 'exhibit': 2695, 'elman': 2528, 'dixon': 2279, 'diaz': 2178, 'kinemast': 4564, 'gorilla': 3390, 'rhino': 6980, 'bun': 1137, 'isnt': 4286, 'kettl': 4530, 'justtonyburketh': 4482, 'jefferson': 4366, 'slave': 7589, 'sabc': 7145, 'vin': 8948, 'nig': 5751, 'unfollow': 8772, 'concentr': 1668, 'suprem': 8092, 'devast': 2153, 'celeb': 1316, 'tpusa': 8540, 'africa': 136, 'essay': 2637, 'ese': 2630, 'raci': 6721, 'ememes': 2542, 'titel': 8461, 'own': 6061, 'finest': 2903, 'basturd': 695, 'fuckuk': 3125, 'isil': 4281, 'memeshaper': 5272, 'womania': 9287, 'aisl': 173, 'chris': 1467, 'benoit': 797, 'whip': 9184, 'nea': 5665, 'suess': 8044, 'thelibtard': 8332, 'holocaust': 3810, 'grandfath': 3418, 'accisemem': 58, 'gaurd': 3239, 'fursadelosdioses': 3179, 'worthyreview': 9321, 'westpac': 9147, 'conga': 1685, 'theantibogan': 8312, 'zippoman': 9463, 'discord': 2239, 'bitter': 889, 'parliament': 6125, 'dunk': 2428, 'muhammad': 5566, 'niti': 5770, 'cedero': 1312, 'otrio': 6021, 'thepa': 8355, 'otion': 6019, 'decaffein': 2037, 'funnyshit': 3169, 'adulthumor': 116, 'realshit': 6801, 'menshumor': 5300, 'nofucksgiven': 5782, 'nailedit': 5624, 'asham': 464, 'acitroen': 71, 'lightbulb': 4820, 'greatsuccess': 3444, 'manetenl': 5073, 'seuss': 7381, 'frown': 3109, 'charl': 1377, 'darwin': 1986, 'jerri': 4373, 'crushi': 1867, 'timelin': 8445, 'yuuup': 9440, 'blockchain': 917, 'bitcoin': 886, 'hmmm': 3786, 'databas': 1990, 'colorado': 1610, 'religi': 6890, 'demonstr': 2095, 'habit': 3529, 'bsian': 1096, 'looser': 4923, 'pc': 6185, 'makin': 5047, 'kike': 4551, 'cator': 1294, 'uncensor': 8744, 'penn': 6214, 'billionair': 870, 'homeless': 3817, 'rack': 6725, 'rib': 6983, 'probat': 6536, 'prision': 6525, 'pappusoduff': 6112, 'bluetooth': 937, 'manvi': 5093, 'sarin': 7205, 'yourquote': 9429, 'empow': 2554, 'ani': 322, 'bebabaund': 732, 'bcbaba': 712, 'cryptocurr': 1871, 'blous': 928, 'veg': 8898, 'aalu': 22, 'tikki': 8440, 'rahulgandhi': 6736, 'pledg': 6358, 'jagdish': 4331, 'antakshari': 343, 'scam': 7245, 'coalgat': 1574, 'tuse': 8668, 'pepsod': 6230, 'dalit': 1940, 'cow': 1791, 'namo': 5630, 'raga': 6733, 'harish': 3591, 'goyal': 3409, 'tomar': 8495, 'supriya': 8095, 'sule': 8052, 'goverdhan': 3406, 'tiwari': 8465, 'chobeyram': 1448, 'dubey': 2405, 'chunil': 1489, 'tyagi': 8699, 'ganpat': 3221, 'dular': 2419, 'vinni': 8953, 'akhilesh': 181, 'rvci': 7138, 'modiji': 5460, 'lokpal': 4899, 'telephon': 8239, 'mobil': 5450, 'braat': 1015, 'indira': 4113, 'compass': 1649, 'sonia': 7730, 'akash': 179, 'priyadarshi': 6532, 'accolad': 59, 'carrier': 1271, 'wink': 9243, 'ipl': 4247, 'baba': 587, 'indiatoday': 4109, 'khaatestrophi': 4537, 'amul': 277, 'pappu': 6111, 'expewithout': 2712, 'worker': 9307, 'majakia': 5037, 'whatsapp': 9166, 'empower': 2555, 'rafael': 6732, 'sania': 7191, 'joint': 4416, 'honour': 3834, 'momand': 5468, 'roman': 7066, 'hindi': 3760, 'heisaresult': 3690, 'combin': 1617, 'azharuddin': 582, 'pitch': 6327, 'azhar': 581, 'guin': 3502, 'bunkistan': 1140, 'bangkok': 650, 'coogl': 1720, 'amazon': 253, 'ishant': 4273, 'sharma': 7415, 'ege': 2496, 'devic': 2155, 'ramesh': 6752, 'fudder': 3127, 'suresh': 8097, 'fonow': 2987, 'yogifanclub': 9412, 'kamal': 4486, 'ambassador': 255, 'jun': 4465, 'isro': 4290, 'satellit': 7213, 'isupportnamo': 4295, 'utensil': 8862, 'dhantera': 2163, 'dhakkan': 2162, 'chamch': 1352, 'happybirthday': 3583, 'soniagandhi': 7731, 'rosalulita': 7083, 'raul': 6774, 'fav': 2811, 'cartoon': 1273, 'doraemon': 2344, 'shin': 7445, 'navi': 5653, 'soichos': 7700, 'eskimo': 2633, 'taccident': 8155, 'aswear': 494, 'from': 3104, 'clubbin': 1563, 'rolf': 7063, 'hick': 3732, 'itchi': 4299, 'smelli': 7635, 'organ': 6000, 'fayou': 2817, 'shaaark': 7398, 'passpophoto': 6145, 'product': 6547, 'patch': 6152, 'buket': 1123, 'turnt': 8666, 'omelett': 5945, 'rake': 6746, 'bullshitegenerator': 1134, 'qaeda': 6660, 'gunmen': 3512, 'shrapnel': 7493, 'extract': 2729, 'helicopt': 3694, 'predat': 6477, 'wor': 9302, 'kilo': 4557, 'gf': 3293, 'viagag': 8927, 'seventh': 7384, 'ingmar': 4139, 'bergman': 802, 'driveway': 2393, 'bedtim': 746, 'illegali': 4013, 'chunk': 1490, 'heidi': 3686, 'bounc': 997, 'cowork': 1794, 'scarf': 7250, 'fate': 2805, 'killl': 4555, 'harp': 3596, 'remepile': 6899, 'reunny': 6960, 'summit': 8057, 'skittl': 7577, 'aaahhh': 18, 'ннананана': 9494, 'inaon': 4083, 'gayyy': 3245, 'homophob': 3825, 'antartica': 345, 'haphazard': 3575, 'advice': 123, 'satisfi': 7217, 'bedfellow': 743, 'adrado': 113, 'gagmobil': 3194, 'anna': 328, 'agostini': 152, 'elephants': 2520, 'chubbi': 1479, 'xphaze': 9372, 'seasov': 7302, 'vest': 8921, 'sleepov': 7596, 'judgment': 4452, 'pug': 6616, 'resembl': 6932, 'penns': 6216, 'milli': 5378, 'uncanni': 8743, 'iget': 3996, 'cib': 1495, 'sofa': 7693, 'denial': 2099, 'memeanimals': 5232, 'gifs': 3304, 'solbecam': 7703, 'dudelol': 2411, 'stoplight': 7968, 'krabbi': 4613, 'antarctica': 344, 'alrighta': 236, 'freez': 3076, 'brosb': 1077, 'twinsi': 8692, 'shirts': 7450, 'kennyflow': 4525, 'teammat': 8216, 'anawkward': 288, 'ruth': 7137, 'bader': 611, 'ginsburg': 3315, 'fantasylland': 2785, 'novic': 5826, 'gina': 3310, 'staus': 7917, 'rogain': 7058, 'task': 8189, 'pmislweb': 6369, 'astronaut': 490, 'spectrum': 7791, 'gettyimag': 3291, 'andersen': 296, 'spit': 7808, 'méxico': 5615, 'puu': 6655, 'buf': 1112, 'missionmemeposs': 5425, 'path': 6153, 'instructor': 4186, 'orgasm': 6001, 'wrestl': 9335, 'smartest': 7627, 'unplug': 8806, 'nderscor': 5664, 'noah': 5776, 'ark': 423, 'fuckpenc': 3123, 'impeach': 4066, 'whitehous': 9190, 'inthecloset': 4221, 'gross': 3474, 'repostit_app': 6919, 'chronic': 1475, 'valu': 8886, 'unlik': 8798, 'previleg': 6506, 'anatomi': 287, 'pour': 6449, 'joëll': 4446, 'kayemb': 4511, 'jjoell': 4397, 'obnoxi': 5866, 'imleyton': 4057, 'statu': 7915, 'sayawoman': 7234, 'worki': 9308, 'tinder': 8450, 'unfaith': 8771, 'dalway': 1942, 'hght': 3728, 'wisdom': 9253, 'pud': 6612, 'antifreez': 351, 'aru': 452, 'billa': 867, 'funnyism': 3161, 'lolsclub': 4906, 'funnymeme': 3163, 'couch': 1766, 'necklac': 5672, 'generic': 3265, 'radiohead': 6731, 'calori': 1197, 'crimson': 1840, 'pinch': 6318, 'muffin': 5561, 'andijust': 300, 'appjuic': 381, 'smaidea': 7620, 'wordssuccess': 9304, 'triumph': 8604, 'umph': 8732, 'whatwouldharveydo': 9168, 'huyour': 3925, 'und': 8751, 'specter': 7788, 'funsubstance': 3171, 'failur': 2758, 'sayzz': 7237, 'premier': 6489, 'înemegener': 9485, 'harveyspect': 3609, 'larvey': 4675, 'rewrit': 6975, 'lotto': 4940, 'empir': 2549, 'nit': 5768, 'rebuild': 6812, 'scottyblackcomb': 7278, 'upscalequot': 8838, 'classi': 1524, 'beahero': 718, 'lutus': 4983, 'splorer': 7811, 'manoi': 5084, 'fagborough': 2755, 'temptat': 8256, 'prosthet': 6580, 'menac': 5293, 'ninjago': 5765, 'terribl': 8269, 'homecom': 3816, 'tingl': 8451, 'ima': 4018, 'thread': 8409, 'shouldv': 7485, 'nextlol': 5727, 'tomfooleri': 8500, 'runt': 7123, 'the': 8310, 'web': 9100, 'should': 7482, 'nt': 5837, 'heep': 3682, 'iti': 4303, 'cave': 1304, 'applaus': 383, 'shitno': 7457, 'login': 4896, 'relev': 6887, 'goddamnit': 3354, 'barbi': 664, 'dreamhous': 2383, 'inoi': 4156, 'generous': 3266, 'alannabennett': 191, 'spoderman': 7815, 'bronco': 1070, 'quarterback': 6674, 'soccer': 7681, 'basebal': 685, 'dome': 2317, 'below': 779, 'mahom': 5030, 'raptor': 6764, 'laker': 4652, 'inal': 4082, 'when': 9173, 'nbamem': 5660, 'fantasi': 2784, 'chicago': 1421, 'fil': 2888, 'gshe': 3487, 'niether': 5750, 'sportsmemes': 7835, 'noo': 5797, 'intercept': 4202, 'sportsmem': 7833, 'sportsmeme': 7834, 'nfl': 5730, 'cougar': 1767, 'dpi': 2362, 'jaguar': 4332, 'yds': 9390, 'cheetah': 1404, 'spoquickmeme': 7830, 'whatho': 9162, 'quarter': 6673, 'roflrazzi': 7056, 'crabbi': 1801, 'pob': 6376, 'retir': 6955, 'grokkowski': 3470, 'hernandez': 3714, 'qatar': 6662, 'trwa': 8632, 'atlanta': 505, 'playoff': 6351, 'clippera': 1546, 'ugg': 8714, 'levela': 4785, 'vela': 8907, 'neighbor': 5684, 'cupcak': 1896, 'apoloz': 375, 'hypun': 3933, 'espn': 2636, 'vogo': 8991, 'officiali': 5897, 'elimin': 2524, 'lihon': 4827, 'oklahom': 5922, 'eveni': 2660, 'derrick': 2118, 'aaron': 25, 'rodger': 7047, 'memesofnfl': 5276, 'vouston': 9009, 'goddam': 3352, 'clubhous': 1564, 'fenway': 2862, 'diego': 2190, 'russel': 7131, 'westbrook': 9144, 'advisor': 125, 'meniscus': 5299, 'spori': 7831, 'milwauke': 5386, 'basketbal': 691, 'ballislif': 636, 'shart': 7416, 'packer': 6072, 'sedin': 7314, 'phenomenon': 6274, 'occur': 5878, 'geico': 3255, 'sausa': 7222, 'quaterback': 6675, 'sanchez': 7184, 'some': 7714, 'sergio': 7367, 'garcia': 3225, 'sox': 7762, 'dodger': 2295, 'hucana': 3884, 'pui': 6617, 'ottomicblue': 6022, 'vall': 8885, 'ligma': 4826, 'reboot': 6811, 'earlier': 2450, 'dent': 2102, 'linkin': 4847, 'dbz': 2009, 'clip': 1545, 'disguis': 2245, 'labour': 4637, 'zuckerberg': 9474, 'fodo': 2977, 'laughingcolour': 4687, 'bylif': 1172, 'palmer': 6092, 'palmerreport': 6093, 'albert': 194, 'einstein': 2504, 'ceo': 1331, 'ceoquot': 1332, 'riddanc': 6994, 'softwar': 7697, 'chloe': 1446, 'chaplain': 1371, 'brows': 1083, 'microsoft': 5349, 'partial': 6131, 'atari': 498, 'former': 3015, 'workplac': 9310, 'businessmindset': 1158, 'flash': 2940, 'macbook': 4998, 'unemploy': 8767, 'syrian': 8150, 'inseit': 4160, 'wool': 9301, 'stubborn': 8006, 'undertim': 8758, 'fulfil': 3131, 'june': 4466, 'jata': 4353, 'lo': 4880, 'minimart': 5397, 'coric': 1746, 'coc': 1577, 'norovirus': 5809, 'omon': 5953, 'qwertyuiop': 6713, 'asdfghjkl': 460, 'zxcvbnm': 9483, 'pog': 6382, 'zelda': 9454, 'guldment': 3508, 'peanut': 6190, 'bunn': 1141, 'ican': 3943, 'olden': 5931, 'lan': 4660, 'port': 6425, 'fujitsu': 3129, 'baka': 628, 'gaijin': 3195, 'henc': 3702, 'storag': 7969, 'instagran': 4175, 'collid': 1602, 'rosi': 7086, 'ryder': 7143, 'wecan': 9105, 'error': 2622, 'sonni': 7733, 'cdw': 1311, 'ohat': 5909, 'aaand': 19, 'hlerator': 3783, 'gerd': 3281, 'averag': 557, 'willl': 9235, 'iq': 4248, 'gelernt': 3256, 'nyt': 5854, 'project': 6558, 'boomer': 974, 'senior': 7350, 'discount': 2240, 'aarp': 26, 'pharma': 6268, 'recip': 6822, 'suppomemecenter': 8083, 'floppi': 2963, 'disk': 2250, 'shiba': 7442, 'wth': 9350, 'crypto': 1870, 'dreamer': 2382, 'humanbeinglslleg': 3898, 'goodgodabov': 3380, 'loss': 4931, 'quickieme': 6685, 'turk': 8663, 'reviv': 6969, 'homeboy': 3815, 'scan': 7246, 'gota': 3396, 'absenc': 43, 'yourc': 9427, 'someecards': 7718, 'offlin': 5903, 'luxuri': 4986, 'disconnect': 2238, 'spacecraft': 7765, 'mas': 5137, 'homer': 3820, 'neither': 5689, 'stem': 7935, 'pursu': 6642, 'profit': 6554, 'cerer': 1334, 'leee': 4733, 'hurri': 3919, 'onee': 5960, 'sama': 7179, 'yanderefam': 9383, 'sunshin': 8064, 'unresolv': 8812, 'trauma': 8566, 'mrw': 5553, 'tab': 8152, 'sinatra': 7539, 'etern': 2645, 'doughnut': 2357, 'deliveri': 2081, 'fomgta': 2986, 'nyp': 5853, 'fay': 2816, 'udwik': 8709, 'quackieme': 6667, 'firefox': 2911, 'encount': 2560, 'cifaldi': 1497, 'frankcifaldi': 3055, 'ahh': 159, 'yaer': 9379, 'conquer': 1691, 'doo': 2337, 'vir': 8959, 'cheesel': 1403, 'callcentermemes': 1194, 'jhing': 4389, 'meres': 5311, 'nowaday': 5828, 'memor': 5290, 'stronger': 8000, 'shkreli': 7462, 'suppowel': 8091, 'thingi': 8389, 'memecnter': 5243, 'wonderytho': 9294, 'meirl': 5215, 'nfigueiroa': 5729, 'lini': 4845, 'noraci': 5804, 'seatbelt': 7304, 'airbag': 169, 'van': 8889, 'mattress': 5161, 'nasa': 5643, 'rephras': 6910, 'theni': 8344, 'tellimg': 8244, 'villag': 8943, 'minesweep': 5393, 'insecur': 4159, 'aout': 365, 'dye': 2442, 'vibrant': 8929, 'lawn': 4699, 'mower': 5545, 'mame': 5060, 'allerg': 219, 'spochampionship': 7813, 'sandi': 7187, 'belief': 770, 'sunk': 8063, 'octopus': 5883, 'passeng': 6142, 'cosutum': 1764, 'sank': 7192, 'board': 943, 'srs': 7861, 'descend': 2120, 'iceberg': 3952, 'wreckag': 9334, 'errrbodi': 2623, 'hasmukh': 3612, 'draeger': 2367, 'deck': 2044, 'unsink': 8816, 'capt': 1242, 'wheeli': 9172, 'memegeneokerlund': 5254, 'approxim': 396, 'garlic': 3229, 'lifeboat': 4811, 'diver': 2274, 'her': 3706, 'quotesbook': 6709, 'evacu': 2655, 'wala': 9028, 'heartwarm': 3667, 'drown': 2398, 'damp': 1951, 'unseen': 8814, 'onboard': 5957, 'sear': 7297, 'sears': 7299, 'genrat': 3269, 'ryan': 7142, 'hos': 3851, 'brow': 1081, 'mometentera': 5474, 'tlook': 8467, 'außerhalb': 548, 'lang': 4662, 'twant': 8678, 'jonn': 4430, 'emporid': 2553, 'knightykingston': 4588, 'tauti': 8196, 'megadickspermshoot': 5205, 'koni': 4604, 'tnb': 8469, 'zadd': 9446, 'yobst': 9410, 'saladxx': 7171, 'kuznez': 4631, 'zyzz': 9484, 'payne': 6183, 'novolin': 5827, 'vanmtv': 8893, 'xxobst': 9375, 'haeufi': 3534, 'malitost': 5054, 'sparifank': 7775, 'fanboyl': 2779, 'cumfrag': 1892, 'cumsho': 1893, 'klein': 4581, 'mietz': 5357, 'punkt': 6627, 'für': 3190, 'neutralisierung': 5712, 'ein': 2503, 'feind': 2841, 'mit': 5436, 'quickl': 6686, 'jonni': 4431, 'sixth': 7564, 'fumat': 3135, 'ici': 3955, 'unknown': 8793, 'punster': 6630, 'unknown_punst': 8794, 'powerad': 6455, 'fruit': 3111, 'berri': 806, 'vintag': 8954, 'watchmen': 9069, 'shi': 7441, 'testi': 8276, 'postpon': 6441, 'morgu': 5503, 'cashier': 1277, 'dart': 1984, 'nerf': 5700, 'hollywood': 3808, 'wash': 9058, 'smack': 7618, 'speci': 7784, 'jerrycat': 4374, 'virgin': 8961, 'martinsrooom': 5130, 'realest': 6794, 'beef': 748, 'sight': 7518, 'undress': 8764, 'upstair': 8841, 'eachoth': 2444, 'irrit': 4260, 'restroom': 6949, 'controversi': 1716, 'jokefun': 4418, 'nan': 5631, 'trumo': 8626, 'ffilthybil': 2873, 'icreatorapp': 3959, 'dehydr': 2071, 'imagetweetedbi': 4023, 'desusnic': 2144, 'preident': 6487, 'establish': 2642, 'yiu': 9408, 'isi': 4280, 'hissi': 3772, 'commander': 1634, 'trumpmemes': 8628, 'covfef': 1790, 'describ': 2122, 'spew': 7800, 'vile': 8942, 'maxican': 5168, 'freejolesynopales': 3072, 'cr': 1798, 'password': 6147, 'comb': 1615, 'inherit': 4142, 'fortun': 3024, 'cyber': 1919, 'chickenshit': 1424, 'execut': 2691, 'mosaic': 5519, 'hairdress': 3547, 'tgat': 8286, 'wreck': 9333, 'prssident': 6594, 'wind': 9238, 'megyn': 5208, 'kelli': 4523, 'affair': 128, 'hoax': 3790, 'miliraru': 5370, 'obam': 5857, 'imbecil': 4032, 'depobeib': 2108, 'martian': 5127, 'foriegn': 3011, 'toupe': 8531, 'eclip': 2468, 'cooter': 1734, 'mcgrabbin': 5180, 'shitbird': 7452, 'kkk': 4580, 'suppoour': 8086, 'mytholog': 5614, 'imgilip': 4048, 'fanfict': 2783, 'author': 541, 'ingil': 4137, 'goat': 3350, 'appeal': 378, 'founder': 3035, 'xavier': 9362, 'dolphin': 2315, 'mutant': 5590, 'midnight': 5355, 'mutat': 5591, 'magneto': 5023, 'beforex': 754, 'heaimgflip': 3657, 'taco': 8156, 'faith': 2762, 'srvs': 7862, 'erik': 2614, 'lensher': 4766, 'nitant': 5769, 'chronolog': 1477, 'factsweird': 2752, 'cameo': 1203, 'coolest': 1726, 'dcfact': 2010, 'beast': 726, 'mode': 5454, 'hisenemi': 3771, 'fatal': 2804, 'swat': 8121, 'mosquito': 5522, 'armor': 429, 'weatherman': 9098, 'mgmagener': 5336, 'lt': 4965, 'eric': 2613, 'streak': 7984, 'coma': 1614, 'rusk': 7130, 'nat': 5646, 'fotur': 3030, 'oth': 6016, 'nervous': 5702, 'zuckerburg': 9477, 'testimoni': 8278, 'lizard': 4874, 'freedom': 3069, 'jullian': 4463, 'assang': 478, 'amber': 256, 'discko': 2237, 'amberdiscko': 257, 'consequ': 1695, 'forgiven': 3009, 'tas': 8188, 'juggaloci': 4453, 'uwebollock': 8871, 'bitten': 888, 'dealer': 2019, 'spi': 7801, 'kiddi': 4544, 'yuno': 9437, 'susten': 8115, 'teat': 8221, 'burger': 1145, 'glorious': 3343, 'babylon': 591, 'horrifi': 3848, 'detail': 2145, 'testifi': 8277, 'booster': 976, 'misus': 5435, 'commissari': 1638, 'photograph': 6286, 'ritual': 7020, 'ingest': 4135, 'nutrient': 5848, 'uppermost': 8837, 'alimentari': 209, 'canal': 1215, 'nighttim': 5758, 'paralyt': 6118, 'stasi': 7908, 'karanthakkar': 4494, 'temp': 8248, 'bpm': 1014, 'armourless': 430, 'eshoo': 2631, 'california': 1191, 'yrs': 9433, 'subscript': 8032, 'zark': 9449, 'fuckerberg': 3119, 'robbi': 7034, 'soav': 7676, 'robbysoav': 7035, 'stuff': 8013, 'myspac': 5611, 'façek': 2818, 'sok': 7701, 'evan': 2656, 'seanseaevan': 7296, 'carlo': 1263, 'simanca': 7530, 'snatch': 7656, 'cackl': 1181, 'consult': 1704, 'beta': 816, 'cru': 1863, 'chamish': 1354, 'thamizh': 8292, 'colorblind': 1611, 'didyouknowblog': 2188, 'behaviour': 761, 'psychologist': 6605, 'portray': 6429, 'crisi': 1843, 'wax': 9079, 'zuckerbergmem': 9475, 'beep': 750, 'flirtati': 2957, 'audio': 526, 'suprised_human_squ': 8094, 'homo': 3824, 'sapien': 7197, 'anatom': 286, 'zukerberg': 9479, 'zuck': 9473, 'tanto': 8178, 'niek': 5747, 'prece': 6474, 'bklyn': 893, 'extens': 2725, 'scientif': 7266, 'zucc': 9472, 'ifacts': 3982, 'spam': 7770, 'unpublish': 8808, 'pettypost': 6262, 'pettyastheycom': 6261, 'straightclownin': 7975, 'hegotjok': 3684, 'jokesforday': 4421, 'itsjustjokespeopl': 4307, 'itsfunnytom': 4306, 'funnyisfunni': 3160, 'randomhumor': 6758, 'markzuckerberg': 5117, 'oath': 5855, 'committe': 1641, 'pintexxz': 6323, 'zuckerphobia': 9478, 'headlight': 3652, 'petridish': 6257, 'reptil': 6922, 'shredder': 7495, 'hcrunch': 3646, 'rupt': 7126, 'easier': 2455, 'progress': 6556, 'flumind': 2972, 'quizz': 6704, 'hawaiian': 3636, 'khaan': 4536, 'kya': 4633, 'banau': 645, 'nativ': 5648, 'ancestr': 290, 'resort': 6939, 'greater': 3442, 'backfir': 599, 'accumul': 64, 'evanofth': 2657, 'yukon': 9436, 'gifford': 3302, 'tomska': 8503, 'ridgewel': 6999, 'thetomska': 8371, 'snag': 7649, 'dankmemesgang': 1969, 'darksid': 1980, 'longrun': 4916, 'boost': 975, 'astrogeekz': 489, 'angerey': 315, 'reeact': 6844, 'chemtrail': 1411, 'zuckerbergt': 9476, 'shown': 7491, 'gain': 3196, 'shrunk': 7498, 'stevegobs': 7945, 'chander': 1363, 'lbyl': 4709, 'jackass': 4320, 'idqä': 3977, 'memecutecatshu': 5247, 'desseth': 2140, 'dessedetermin': 2138, 'galaxi': 3198, 'phrase': 6290, 'gatsbi': 3237, 'pub': 6607, 'tauriel': 8195, 'scarlett': 7254, 'easter': 2459, 'outrag': 6036, 'unfair': 8770, 'subreddit': 8030, 'prequel': 6493, 'bachmann': 596, 'weheartit': 9121, 'audrey_ofa': 528, 'heaand': 3648, 'apastaci': 369, 'imperson': 4068, 'thrown': 8425, 'somenin': 7720, 'sumerian': 8054, 'beyonc': 826, 'dancer': 1955, 'arra': 435, 'tolkien': 8491, 'movie': 5542, 'calmer': 1196, 'ones': 5963, 'egenerator': 2497, 'stuffthatlookslikestuff': 8016, 'jeff': 4365, 'whine': 9183, 'insean': 4158, 'observ': 5868, 'problemat': 6539, 'kun': 4625, 'gmail': 3346, 'chucknorris': 1482, 'handout': 3564, 'prop': 6567, 'critter': 1850, 'shh': 7439, 'comdm': 1619, 'luke': 4976, 'particular': 6134, 'acquir': 75, 'overa': 6043, 'xxviii': 9376, 'increm': 4100, 'vidlo': 8939, 'cramp': 1806, 'comeup': 1625, 'unrel': 8811, 'theworks': 8376, 'prick': 6512, 'house': 3866, 'dogs': 2305, 'saltier': 7175, 'crisp': 1844, 'oldboy': 5930, 'ufford': 8712, 'oma': 5941, 'tufford': 8647, 'osteen': 6012, 'infinit': 4126, 'warfar': 9050, 'bubbles': 1103, 'and': 292, 'comfi': 1627, 'arhlistlelleense': 419, 'wooki': 9300, 'headach': 3651, 'migrain': 5361, 'hypertens': 3926, 'mansplan': 5088, 'manplain': 5085, 'region': 6861, 'anonym': 337, 'nebom': 5668, 'nojusticenoprid': 5787, 'unbeliev': 8741, 'youtube': 9432, 'thecrazi': 8322, 'inecrozygordo': 4117, 'sel': 7330, 'chota': 1463, 'bheem': 833, 'jakemakesmem': 4337, 'tit': 8457, 'tempor': 8253, 'abil': 35, 'reapairi': 6803, 'nostrial': 5816, 'merch': 5308, 'bts': 1100, 'championship': 1357, 'badasss': 610, 'lyanna': 4990, 'collud': 1603, 'ambiti': 258, 'pat': 6150, 'patron': 6166, 'belov': 778, 'crystal': 1872, 'faggot': 2756, 'hatsi': 3626, 'heel': 3681, 'outlawbbyy': 6032, 'director': 2222, 'treasur': 8570, 'possess': 6435, 'direwolf': 2224, 'whichev': 9182, 'publx': 6611, 'plal': 6339, 'ofici': 5904, 'yard': 9385, 'festas': 2867, 'stewart': 7949, 'frail': 3047, 'breakabl': 1033, 'lectur': 4728, 'topper': 8521, 'memesc': 5268, 'phaser': 6270, 'rodrigo': 7049, 'dutert': 2437, 'ined': 4118, 'quicuneme': 6695, 'arniegityergunoakley': 433, 'trongportor': 8612, 'raider': 6737, 'sca': 7241, 'tnpw': 8471, 'jasso': 4352, 'obtain': 5872, 'barbar': 661, 'cult': 1888, 'grizzli': 3466, 'asthma': 487, 'playdat': 6348, 'drake': 2372, 'sarco': 7203, 'mund': 5576, 'goofi': 3383, 'appreci': 392, 'voyag': 9010, 'intelligentand': 4195, 'sophist': 7738, 'menecerl': 5295, 'maturan': 5163, 'zut': 9481, 'castro': 1280, 'swedan': 8126, 'piggi': 6309, 'capabl': 1234, 'cesped': 1339, 'jord': 4434, 'presenc': 6497, 'lotr_hun': 4936, 'sci': 7264, 'mutual': 5595, 'benefici': 790, 'resum': 6951, 'footag': 2994, 'buzzfe': 1167, 'tomarrow': 8496, 'eleanor': 2509, 'egalitarian': 2495, 'floodwat': 2961, 'getnack': 3287, 'chod': 1450, 'bakc': 629, 'mbos': 5173, 'dhak': 2161, 'brown': 1082, 'ansen': 339, 'jonah': 4426, 'imit': 4056, 'hiroshima': 3770, 'critiquesugleks': 1849, 'frontpag': 3108, 'iizcat': 4006, 'catwoman': 1299, 'applic': 388, 'deni': 2098, 'insulated_stagola': 4187, 'fasten': 2801, 'picturesandbadpuns': 6303, 'juggernaut': 4454, 'highest': 3739, 'ufa': 8711, 'bilater': 863, 'strateg': 7981, 'partnership': 6136, 'dildo': 2207, 'cuickmeme': 1886, 'broncos': 1071, 'kat': 4505, 'angus': 321, 'katangus': 4506, 'junk': 4469, 'cardboard': 1254, 'diseas': 2244, 'tvseri': 8676, 'overnight': 6049, 'bwin': 1168, 'handbag': 3559, 'ambros': 259, 'andh': 298, 'pmslwob': 6373, 'dontgo': 2333, 'wecant': 9106, 'jordan': 4435, 'memegeneraor': 5256, 'kingdom': 4566, 'comedian': 1622, 'mainwashed': 5036, 'cabbygata': 1178, 'omega': 5943, 'ndaa': 5663, 'terror': 8272, 'guantanamo': 3491, 'goldman': 3366, 'morgan': 5502, 'sheepl': 7425, 'kamikaz': 4487, 'pilot': 6315, 'mid': 5351, 'apprais': 391, 'bjp': 892, 'aap': 24, 'bsp': 1097, 'tmc': 8468, 'cpm': 1796, 'modj': 5461, 'steel': 7931, 'david_c_steel': 2000, 'smith': 7641, 'qoc': 6665, 'baker': 631, 'flour': 2966, 'öfall': 9486, 'lemm': 4760, 'urtel': 8851, 'hiwev': 3781, 'incept': 4086, 'titant': 8460, 'gellar': 3257, 'psychic': 6604, 'blueprint': 936, 'descent': 2121, 'uso': 8859, 'spectravey': 7790, 'provok': 6593, 'makememe': 5044, 'countless': 1777, 'lact': 4640, 'explod': 2716, 'wallpap': 9036, 'injustic': 4150, 'shaven': 7420, 'adera': 98, 'des': 2119, 'seguridad': 7325, 'tese': 8274, 'dond': 2326, 'indical': 4111, 'levant': 4783, 'stater': 7912, 'elmo': 2530, 'ramsey': 6753, 'duke': 2418, 'drdavidduk': 2380, 'paycheck': 6179, 'util': 8866, 'wayn': 9082, 'toker': 8487, 'leaker': 4719, 'stinker': 7957, 'milllion': 5384, 'allen': 218, '_spideyifi': 12, 'krusti': 4617, 'krab': 4612, 'chum': 1484, 'regress': 6863, 'theism': 8330, 'stung': 8017, 'markiplier': 5115, '_kadiadraw': 6, 'meat': 5193, '_you': 16, 'washington': 9059, 'instalar': 4177, 'highlight': 3740, 'remus': 6904, 'lupin': 4979, 'kinnear': 4570, 'battelfield': 700, 'kis': 4573, 'expos': 2720, 'staexpos': 7874, 'itz': 4310, 'isaw': 4268, 'lastnight': 4680, 'hercul': 3707, 'mulligan': 5570, 'marvelo': 5132, 'rider': 6998, 'reilli': 6872, 'johnson': 4413, 'vincent': 8949, 'jule': 4459, 'weedmemes': 9112, 'danap': 1953, 'hufflepuff': 3886, 'shutup': 7509, 'startrekmo': 7901, 'depoyou': 2112, 'unabl': 8735, 'britain': 1061, 'eup': 2650, 'gure': 3513, 'cutz': 1916, 'wedlock': 9108, 'extinguish': 2727, 'grayer': 3439, 'rank': 6760, 'ahi': 161, 'mastercard': 5146, 'somethin': 7723, 'twill': 8687, 'strap': 7980, 'method': 5327, 'intervent': 4217, 'institution': 4185, 'femini': 2855, 'cena': 1322, 'craftyconsum': 1805, 'negoti': 5681, 'proedit': 6548, 'tuspir': 8669, 'aspir': 475, 'memeactive': 5231, 'unifi': 8782, 'mras': 5549, 'inhal': 4140, 'virginiaaa': 8963, 'laundri': 4693, 'cologn': 1604, 'whata': 9156, 'giovanni': 3317, 'tellimgur': 8245, 'makeamemes': 5043, 'ishar': 4274, 'bloodi': 926, 'memesnappen': 5274, 'stawith': 7918, 'lawyer': 4700, 'wheelchair': 9170, 'picnic': 6299, 'unitedstatesofmurica': 8789, 'prematur': 6488, 'seamen': 7294, 'figer': 2883, 'revers': 6966, 'unti': 8821, 'yaaa': 9378, 'tupperwar': 8658, 'lagnabad': 4647, 'delta': 2082, 'thriller': 8417, 'higory': 3742, 'barbara': 662, 'mylif': 5605, 'howard': 3871, 'bbt': 710, 'pre': 6471, 'anthem': 347, 'memesteppen': 5278, 'darksoul': 1981, 'somalia': 7713, 'kerala': 4528, 'madhya': 5009, 'denni': 2100, 'rodman': 7048, 'alrighti': 237, 'fbwallpics': 2821, 'panda': 6096, 'bamboo': 640, 'maxandharveyfangirl': 5167, 'thinkt': 8393, 'thrift': 8414, 'hatter': 3627, 'sanshodelain': 7195, 'mortmer': 5518, 'whiplash': 9185, 'exquisit': 2722, 'afford': 132, 'settl': 7380, 'peep': 6202, 'toad': 8473, 'mac': 4996, 'wishi': 9259, 'becn': 737, 'jaredleto': 4351, 'legionofdoom': 4754, 'aqualad': 402, 'aka': 178, 'overtomyspac': 6054, 'yah': 9380, 'reynold': 6978, 'ommichang': 5952, 'detect': 2147, 'pikachu': 6310, 'loving': 4957, 'barn': 669, 'barnes': 671, 'suggest': 8048, 'facial': 2745, 'quote': 6707, 'very_odd_fellow': 8918, 'wit': 9262, 'happier': 3580, 'panel': 6097, 'malik': 5053, 'bridg': 1050, 'unstauratteripouvom': 8819, 'ave': 552, 'politicalhumor': 6396, 'karnataka': 4502, 'wod': 9277, 'mather': 5156, 'domino': 2321, 'parmesan': 6126, 'jgeoff': 4388, 'crono': 1854, 'ort': 6007, 'rount': 7098, 'alagam': 186, 'idol': 3972, 'adulthood': 115, 'dishwash': 2247, 'liner': 4843, 'mms': 5446, 'asa': 455, 'plain': 6338, 'steph': 7937, 'curri': 1904, 'gam': 3203, 'wyou': 9359, 'complic': 1657, 'butterstock': 1163, 'est': 2641, 'imagem': 4022, 'ishal': 4272, 'rubbish': 7107, 'sels': 7340, 'arc': 411, 'coven': 1787, 'graphen': 3429, 'materi': 5153, 'chemistri': 1409, 'bitti': 890, 'shojok': 7469, 'arab': 406, 'telegram': 8238, 'coin': 1589, 'iop': 4243, 'dislik': 2251, 'ishould': 4278, 'transgend': 8557, 'roundhous': 7097, 'worldi': 9312, 'aon': 363, 'bukowski': 1124, 'cosbi': 1760, 'evict': 2673, 'checkpoint': 1394, 'ethic': 2647, 'bea': 714, 'sugandes': 8046, 'wazzzuuuppp': 9085, 'waazuuup': 9012, 'nalo': 5627, 'waazzzuuuppo': 9013, 'payback': 6178, 'fave': 2812, 'mustach': 5589, 'nojoto': 5786, 'jockey': 4402, 'xerox': 9367, 'morning': 5509, 'lill': 4833, 'michal': 5344, 'squawk': 7851, 'nemegenerator': 5692, 'judgemnt': 4451, 'intth': 4229, 'eleven': 2522, 'neurosci': 5711, 'hent': 3704, 'chart': 1383, 'fgs': 2875, 'soda': 7689, 'wallet': 9034, 'yoga': 9411, 'haz': 3643, 'inner': 4153, 'camouflag': 1208, 'truman': 8624, 'institut': 4184, 'smayou': 7631, 'stierne': 7952, 'poceha': 6377, 'psmd': 6601, 'россия': 9495, 'demo': 2089, 'reach': 6784, 'stretch': 7991, 'cattime': 1297, 'ata': 496, 'forno': 3019, 'hammer': 3557, 'bigg': 849, 'bossi': 989, 'kbc': 4513, 'lirri': 4854, 'techmolog': 8223, 'frèiend': 3114, 'soulmat': 7751, 'arwen': 454, 'neighborhood': 5685, 'fotgot': 3028, 'mjolnir': 5442, 'wikihow': 9220, 'quinnandnoah': 6700, 'spous': 7838, 'imgi': 4046, 'professork': 6552, 'vine': 8952, 'comp': 1646, 'outer': 6028, 'exsist': 2723, 'incomplet': 4095, 'lavar': 4696, 'herecom': 3709, 'lynch': 4992, 'brianlynch': 1045, 'legenerator': 4752, 'foghat': 2979, 'micheal': 5345, 'sofar': 7694, 'blurri': 940, 'iftar': 3986, 'puçk': 6657, 'tooth_ba': 8515, 'cheryl': 1415, 'bump': 1136, 'tsouk': 8635, 'orc': 5992, 'ae_david': 126, 'recogn': 6826, 'darkknight': 1979, 'whiten': 9191, 'drawang': 2377, 'nem': 5691, 'conard': 1665, 'adid': 101, 'blurt': 941, 'fgl': 2874, 'foolish': 2992, 'fork': 3012, 'deepfak': 2056, 'canuck': 1230, 'knowi': 4595, 'bay': 704, 'pillow': 6314, 'starbuck': 7891, 'enlighten': 2578, 'eureka': 2652, 'stern': 7942, 'eulog': 2649, 'supersuit': 8077, 'or': 5989, 'sudoku': 8043, 'fetish': 2869, 'motherhood': 5529, 'deepli': 2057, 'classism': 1528, 'afro': 139, 'boricua': 983, 'princessnokia': 6519, 'reina': 6873, 'tonina': 8508, 'biggovsuck': 852, 'smaman': 7622, 'asmaman': 473, 'memegen': 5253, 'main': 5033, 'fam': 2771, 'thanksgivingwithblackfamili': 8298, 'bigbangtheory': 848, 'upd': 8830, 'russo': 7134, 'ironi': 4256, 'seldom': 7331, 'absent': 44, 'lovecraft': 4952, 'nursingc': 5844, 'goldilock': 3365, 'crapper': 1809, 'histor': 3773, 'handshak': 3565, 'nord': 5805, 'debel': 2031, 'teedi': 8232, 'ite': 4300, 'mutha': 5593, 'señor': 7393, 'shutupimtalking': 7510, 'furri': 3178, 'oranforest': 5990, 'weve': 9149, 'bbtmemesbtsteven': 711, 'shaver': 7421, 'gie': 3299, 'mememakernet': 5264, 'cristina': 1847, 'silva': 7527, 'gazebo': 3248, 'euroviul': 2654, 'tuj': 8648, 'tomahawk': 8494, 'tswift': 8640, 'vacin': 8876, 'wil': 9223, 'crowd': 1861, 'sipi': 7551, 'immort': 4062, 'piti': 6328, 'theolog': 8348, 'amith': 271, 'humorist': 3903, 'knightchang': 4586, 'cocoa': 1580, 'puff': 6614, 'obscur': 5867, 'segment': 7323, 'ingflip': 4136, 'olandcunch': 5925, 'cloudxstrif': 1557, 'aquarium': 404, 'horribl': 3846, 'speaker': 7781, 'sumitra': 8055, 'mahajan': 5028, 'unus': 8825, 'heaquickmeme': 3662, 'rlli': 7024, 'matern': 5154, 'thanksgivin': 8297, 'abolish': 38, 'stros': 8002, 'ouston': 6025, 'dustor': 2435, 'strd': 7983, 'whyo': 9209, 'ganhascreezburger': 3219, 'ainhoa': 166, 'pcb': 6186, 'intim': 4222, 'bronson': 1073, 'thatjacket': 8305, 'girlunderstand': 3324, 'ator': 508, 'being': 765, 'tfreethoughtproject': 8285, 'julian': 4461, 'mgp': 5339, 'millionair': 5381, 'mantra': 5089, 'juan': 4447, 'bahama': 624, 'bid': 842, 'anja': 326, 'ringgren': 7011, 'loven': 4953, 'leia': 4758, 'larunezoriginal': 4674, 'killallmen': 4553, 'donahu': 2323, 'annetdonahu': 329, 'bawl': 703, 'roug': 7093, 'grandpar': 3423, 'select': 7332, 'wi': 9210, 'grrr': 3481, 'fwd': 3184, 'gramma': 3415, 'coconut': 1581, 'rhett': 6979, 'omgface': 5949, 'susan': 8111, 'attorney': 521, 'rill': 7009, 'cent': 1325, 'doi': 2306, 'emir': 2544, 'res': 6930, 'carlsberg': 1264, 'spobb': 7812, 'sspos': 7863, 'besticando': 812, 'hsberg': 3878, 'huh': 3890, 'macarena': 4997, 'bloggend': 920, 'bewegen': 824, 'bloggendbewegen': 921, 'pedophil': 6197, 'rapist': 6763, 'misconduct': 5413, 'thenerdyunivers': 8342, 'enfant': 2572, 'ascend': 457, 'zillow': 9459, 'mormoncom': 5505, 'byron': 1173, 'suppofor': 8081, 'family': 2775, 'expeacvw': 2702, 'mandatori': 5071, 'obsolet': 5870, 'hind': 3759, 'hake': 3550, 'clarif': 1520, 'blaster': 901, 'ajerk': 177, 'puresweat': 6635, 'smawork': 7630, 'flatter': 2943, 'cara': 1249, 'wism': 9260, 'camp': 1209, 'doge': 2302, 'punchlin': 6623, 'walli': 9035, 'facebok': 2742, 'hawaii': 3635, 'naw': 5654, 'saviour': 7229, 'dietician': 2194, 'cathedr': 1290, 'misogin': 5418, 'ogl': 5907, 'rougha': 7095, 'tuos': 8657, 'postmortem': 6440, 'gentle': 3272, 'perman': 6240, 'funnycatmem': 3154, 'hayrrid': 3642, 'tavoid': 8198, 'spoiltmodernwoman': 7819, 'propaganda': 6568, 'custodian': 1910, 'exterro': 2726, 'liz': 4872, 'buckley': 1108, 'liz_buckley': 4873, 'funnymemes': 3164, 'xplain': 9373, 'cumcel': 1891, 'authoritarian': 543, 'hodor': 3794, 'albus': 196, 'kit': 4575, 'tycal': 8700, 'classicalfuck': 1526, 'memeenerator': 5249, 'millionairesthings': 5382, 'border': 978, 'stimul': 7956, 'halo': 3555, 'peny': 6219, 'hsheldon': 3879, 'rajh': 6744, 'lolo': 4905, 'bazooka': 707, 'squealer': 7852, 'ey': 2734, 'fourteen': 3038, 'plastic': 6344, 'hoop': 3838, 'earring': 2452, 'everyway': 2670, 'thatveganaussieblok': 8307, 'leik': 4759, 'saiv': 7167, 'gormeni': 3391, 'adelf': 97, 'mitler': 5437, 'mckayla': 5181, 'macintosh': 5002, 'desk': 2127, 'ho': 3789, 'persecut': 6245, 'andrad': 305, 'sterl': 7941, 'fearthed': 2826, 'cameraman': 1205, 'lolé': 4909, 'hooker': 3836, 'pho': 6278, 'noodl': 5799, 'ickmeme': 3957, 'dip': 2218, 'overbook': 6045, 'gettin': 3290, 'loraxreact': 4924, 'gohen': 3360, 'nana': 5632, 'liven': 4868, 'hen': 3701, 'roalbot': 7028, 'tww': 8697, 'veri': 8914, 'unnypics': 8803, 'adolph': 110, 'climax': 1540, 'finalist': 2899, 'stee': 7930, 'ihes': 4003, 'croc': 1853, 'saudi': 7220, 'arabia': 407, 'outcom': 6027, 'cameron': 1206, 'militarybas': 5373, 'allov': 224, 'andit': 303, 'whoi': 9196, 'aggressor': 149, 'tina': 8449, 'toa': 8472, 'gorgeous': 3388, '_happi': 5, 'qiana': 6663, 'escort': 2629, 'technician': 8225, 'fliand': 2952, 'preach': 6472, 'submiss': 8028, 'fakefeminist': 2764, 'fakeleft': 2765, 'bondag': 964, 'sadomasoch': 7159, 'kinksham': 4569, 'daddydom': 1928, 'agenc': 144, 'procrastin': 6544, 'lov': 4949, 'hofstadt': 3798, 'pusysalad': 6647, 'bon': 962, 'eddi': 2475, 'grew': 3455, 'mex': 5329, 'kitti': 4579, 'zuul': 9482, 'deaneggsandsam': 2021, 'setheverman': 7379, 'runtim': 7124, 'fakenew': 2766, 'lessgovmorefun': 4776, 'waterg': 9071, 'tpot': 8539, 'savageebruh': 7225, 'cfc': 1342, 'goal': 3349, 'happenacaa': 3577, 'frequent': 3079, 'shuffl': 7501, 'badg': 612, 'ezer': 2737, 'alt': 239, 'depoth': 2111, 'fourth': 3039, 'bern': 804, 'carl': 1262, 'lifequickmeme': 4815, 'misspok': 5428, 'blown': 930, 'funnier': 3145, 'smarter': 7626, 'pumping': 6620, 'elli': 2526, 'hairdo': 3546, 'yugioh': 9435, 'friendsrebound': 3094, 'beingchandlerb': 766, 'spare': 7774, 'kendrick': 4524, 'tanyathetanya': 8181, 'cornrow': 1753, 'bish': 882, 'topnews': 8520, 'headshot': 3656, 'iaoh': 3939, 'majest': 5038, 'reven': 6964, 'moviepoet': 5543, 'passiv': 6144, 'agress': 155, 'unfriend': 8774, 'allan': 215, 'alando': 190, 'benuwinja': 798, 'otuch': 6023, 'owadwa': 6057, 'omera': 5946, 'eddie_adrian': 2476, 'equivel': 2608, 'bromanc': 1069, 'hoemanc': 3796, 'evolut': 2677, 'depressao': 2115, 'urc': 8847, 'webcam': 9102, 'err': 2619, 'nstructc': 5835, 'dorito': 2347, 'lefunny': 4740, 'trophi': 8614, 'spaghetti': 7768, 'alltheminion': 226, 'cthey': 1876, 'irrate': 4258, 'subaru': 8025, 'devoid': 2157, 'trudeau': 8620, 'nesnaylon': 5704, 'internat': 4208, 'sanoico': 7193, 'sation': 7215, 'dino': 2215, 'internatt': 4210, 'internatio': 4209, 'mcavoy': 5175, 'happend': 3578, 'squirrel': 7855, 'gather': 3236, 'nut': 5846, 'curb': 1898, 'offhand': 5891, 'crippl': 1842, 'facepalm': 2744, 'licens': 4802, 'momebucket': 5469, 'alana': 189, 'mastrangelo': 5147, 'armastrangelo': 427, 'behavior': 760, 'singapor': 7545, 'pres': 6494, 'vfox': 8925, 'ale': 198, 'hulton': 3896, 'menstruat': 5302, 'joy': 4444, 'sass': 7208, 'despair': 2131, 'gbbo': 3249, 'hotlin': 3859, 'adveof': 119, 'thewallofcomedi': 8375, 'ksi': 4618, 'advert': 120, 'ksiolajidebt': 4619, 'wozniak': 9329, 'killsol': 4556, 'ididntgradu': 3966, 'orphan': 6006, 'andask': 294, 'tcl': 8207, 'recognit': 6828, 'algorithm': 203, 'holycapb': 3811, 'aaa': 17, 'sesam': 7375, 'erni': 2616, 'healthcare': 3660, 'kentucki': 4526, 'comtotoy': 1663, 'anderson': 297, 'counti': 1776, 'interpurret': 4213, 'shes': 7436, 'the_right': 8311, 'always_right': 246, 'elector': 2511, 'rump': 7120, 'tart': 8187, 'savvi': 7230, 'lovecasm': 4951, 'bst': 1098, 'shobest': 7463, 'intrins': 4226, 'repoi': 6915, 'img': 4038, 'ilip': 4010, 'farm': 2791, 'suicidex': 8050, 'fruitofthepoisonousmem': 3112, 'tryin': 8633, 'hatd': 3619, 'suppomi': 8084, 'canic': 1223, 'abo': 37, 'paynesenterpris': 6184, 'ameica': 261, 'refriger': 6853, 'toshiadventur': 8526, 'aladdin': 184, 'allahdin': 213, 'crapcom': 1808, 'ducki': 2408, 'wilcox': 9224, 'queue': 6680, 'sbi': 7240, 'fy': 3186, 'ait': 174, 'brew': 1042, 'coffee_mem': 1585, 'granger': 3425, 'wasley': 9060, 'began': 755, 'chili': 1431, 'unimport': 8784, 'disregard': 2261, 'by': 1169, 'swell': 8133, 'hentai': 3705, 'idis': 3968, 'mea': 5186, 'giroca': 3325, 'infidel': 4123, 'coffeelov': 1586, 'deathbeforedecaf': 2025, 'snail': 7650, 'xmas': 9369, 'barricad': 679, 'farther': 2795, 'idestroy': 3964, 'memesfor': 5271, 'memer': 5266, 'tiddi': 8434, 'hypocrisi': 3930, 'disineform': 2248, 'apologist': 374, 'memegenetor': 5259, 'lotw_wingk': 4942, 'moab': 5447, 'moth': 5525, 'joelljerrett': 4405, 'dath': 1992, 'chull': 1483, 'despocablemiminions': 2137, 'hillarymememaker': 3752, 'americarepubl': 267, 'zon': 9468, 'memec': 5235, 'mamelenler': 5065, 'otaku': 6015, 'aplus': 371, 'rick': 6991, 'wilson': 9236, 'therick': 8362, 'ig': 3994, 'jell': 4367, 'differenti': 2196, 'equat': 2607, 'ааан': 9490, 'memecentet': 5241, 'cookout': 1724, 'quickmene': 6692, 'grave': 3437, 'нанана': 9493, 'flee': 2946, 'elv': 2533, 'dwarv': 2441, 'memecen': 5236, 'sneaki': 7660, 'nonaggress': 5795, 'pact': 6073, 'slam': 7583, 'revolv': 6971, 'funnyb': 3151, 'mat': 5150, 'luther': 4982, 'malcom': 5049, 'marcus': 5101, 'garvey': 3230, 'livemamanecom': 4866, 'una': 8734, 'coatt': 1576, 'timer': 8446, 'hobb': 3791, 'lck': 4710, 'ggg': 3294, 'default': 2060, 'textur': 8284, 'hnv': 3788, 'vod': 8988, 'bagu': 622, 'dublin': 2406, 'gig': 3307, 'charlielighten': 1379, 'quickm': 6687, 'epal': 2597, 'dilip': 2209, 'rayamajhi': 6780, 'ofoscar': 5905, 'themegenerator': 8337, 'qre': 6666, 'bibi': 837, '_dekhbha': 3, 'wrestlememia': 9336, 'simul': 7538, 'tlale': 8466, 'doesntbulli': 2297, 'display': 2256, 'bassnecto': 693, 'firstcovers': 2916, 'roflb': 7051, 'moonyo': 5497, 'moron': 5511, 'kidh': 4546, 'advis': 124, 'rupe': 7125, 'het': 3723, 'prode': 6545, 'rivind': 7023, 'bokil': 956, 'olarsaurusrex': 5926, 'armsss': 431, 'thheee': 8379, 'angelsss': 313, 'erin': 2615, 'srihow': 7859, 'exit': 2698, 'ithaca': 4302, 'hierarch': 3736, 'triniti': 8597, 'insist': 4164, 'redesign': 6837, 'lollypop': 4903, 'transwomen': 8563, 'female': 2852, 'repoback': 6914, 'guam': 3490, 'hershey': 3719, 'dilol': 2210, 'ture': 8661, 'divid': 2276, 'fullfil': 3133, 'unelect': 8766, 'demotiv': 2096, 'iig': 4005, 'stil': 7953, 'tribbiani': 8586, 'knockout': 4593, 'ginjoint': 3312, 'riker': 7007, 'superlik': 8071, 'hardwork': 3590, 'spectr': 7789, 'uput': 8842, 'hawkev': 3638, 'dicapriooscar': 2180, 'thebestmovi': 8315, 'nesoffici': 5705, 'walsh': 9038, 'watchin': 9068, 'grass': 3433, 'buri': 1146, 'icanhascheepburger': 3946, 'idolatri': 3973, 'gossip': 3393, 'ibirthday': 3940, 'clumsi': 1568, 'claw': 1531, 'session': 7376, 'podcast': 6380, 'humorpix': 3905, 'rulin': 7118, 'maximum': 5169, 'effomemegenerator': 2491, 'politics': 6399, 'comey': 1626, 'catti': 1296, 'jersey': 4376, 'cuckoldri': 1883, 'dathi': 1994, 'arhtisticlicense': 421, 'titanici': 8459, 'eth': 2646, 'intellect': 4192, 'mamegenerator': 5063, 'beiber': 764, 'hliam': 3784, 'dather': 1993, 'thirti': 8397, 'why_so_seri': 9206, 'trampolin': 8552, 'dutch': 2436, 'motherf': 5527, 'er': 2609, 'detamerica': 2146, 'bodyguard': 950, 'hypocrit': 3931, 'relax': 6885, 'liquefi': 4852, 'mõmus': 5616, 'theif': 8328, 'essentialoilsstyle': 2639, 'strobelit': 7997, 'lobster': 4886, 'madican': 5010, 'sustain': 8114, 'slipperi': 7601, 'hurl': 3918, 'snowi': 7673, 'dayton': 2008, 'lts': 4966, 'jackdayton': 4323, 'underwear': 8761, 'reil': 6871, 'inernet': 4120, 'whatsapptext': 9167, 'appolog': 390, 'bari': 667, 'cantfind': 1229, 'beb': 730, 'himyet': 3756, 'reindeer': 6875, 'saint': 7166, 'onbamem': 5956, 'whartomerne': 9154, 'sinegenerator': 7542, 'lucif': 4969, 'luciferforpresid': 4970, 'sat': 7211, 'piece': 6306, 'doggi': 2303, 'lolzombie': 4908, 'staa': 7866, 'violenc': 8956, 'disproportion': 2258, 'schutz': 7263, 'gymnast': 3525, 'vegtabl': 8905, 'affection': 130, 'niemeyerrerator': 5749, 'eras': 2611, 'electori': 2512, 'heright': 3711, 'gospel': 3392, 'necessari': 5669, 'kobe': 4600, 'bryant': 1093, 'factual': 2753, 'pheelyk': 6272, 'mileven': 5367, 'mikesmem': 5364, 'le_humor': 4711, 'peed': 6199, 'written': 9342, 'margarita': 5105, 'wouldnt': 9325, 'memecept': 5242, 'awhil': 572, 'imgfilip': 4041, 'tsweezi': 8639, 'sha': 7397, 'medal': 5196, 'jess': 4377, 'owen': 6059, 'presind': 6501, 'franklin': 3058, 'roosevelt': 7079, 'commemor': 1635, 'meer': 5203, 'actspiss': 84, 'cheeredupbut': 1398, 'satisfact': 7216, 'convent': 1717, 'purif': 6637, 'immin': 4061, 'float': 2958, 'martha': 5124, 'narki': 5640, 'jayzco': 4358, 'shs': 7499, 'looper': 4921, 'miser': 5414, 'hacker': 3532, 'knoc': 4591, 'emiss': 2545, 'das': 1987, 'combov': 1618, 'pokeme': 6386, 'instanc': 4181, 'appleev': 385, 'id': 3960, 'omegl': 5944, 'peni': 6211, 'colon': 1606, 'priest': 6513, 'consent': 1694, 'dicki': 2182, 'dave': 1997, 'plbiden': 6354, 'milkshak': 5375, 'legaci': 4742, 'ur': 8844, 'frankincens': 3057, 'revolut': 6970, 'socialist': 7684, 'regul': 6866, 'slit': 7603, 'officialdfact': 5896, 'npc': 5830, 'always': 245, 'reward': 6972, 'burnout': 1150, 'briefli': 1052, 'dumpster': 2426, 'silver': 7528, 'sore': 7739, 'ouch': 6024, 'mymuscl': 5607, 'knighthood': 4587, 'hangin': 3568, 'vagu': 8881, 'seeker': 7318, 'milder': 5365, 'marveltruefact': 5135, 'legion': 4753, 'init': 4146, 'xmen': 9370, 'soest': 7692, 'belikebillfootbal': 773, 'shitheadstev': 7455, 'marx': 5136, 'mansion': 5086, 'starvat': 7903, 'woahitsjuanito': 9276, '_trash_mamm': 14, 'aliahgey': 204, 'oldascreatur': 5929, 'plz': 6368, 'shortcircuit': 7477, 'edison': 2478, 'cettechnology': 1341, 'techsolmarketing': 8228, 'modif': 5459, 'štark': 9488, 'hiro': 3769, 'ichigo': 3954, 'becomea': 739, 'clinic': 1542, 'airport': 172, 'perp': 6242, 'wakatopopcountry': 9024, 'fiddl': 2878, 'tonsofthanks': 8510, 'learningtor': 4722, 'stahi': 7877, 'updot': 8832, 'farblo': 2787, 'sayinglmages': 7236, 'anda': 293, 'particip': 6132, 'yearschalleng': 9396, 'expir': 2713, 'todo': 8480, 'amanda': 249, 'blain': 896, 'lain': 4649, 'lieberstein': 4807, 'paullieberstein': 6170, 'carel': 1257, 'stevecarel': 7944, 'macklemor': 5003, 'avengers_super_fan': 555, 'kaatupoochi': 4484, 'din': 2212, 'everything_but_dc': 2668, 'bride': 1049, 'aanmபம': 23, 'fort': 3021, 'duquesn': 2432, 'blanki': 899, 'naptim': 5636, 'brass': 1025, 'siphon': 7550, 'gasolin': 3232, 'thiev': 8385, 'tereyenerator': 8266, 'cheerlead': 1400, 'sled': 7593, 'firewalk': 2912, 'alam': 187, 'unprepar': 8807, 'frustrat': 3113, 'absurd': 47, 'boast': 944, 'kicker': 4542, 'gronk': 3471, 'myth': 5613, 'forum': 3025, 'wwwrvci': 9356, 'intend': 4197, 'sprinkl': 7842, 'grapefruit': 3428, 'errand': 2620, 'oilstyle': 5916, 'frame': 3049, 'patrol': 6165, 'writer': 9341, 'shepherd': 7435, 'unarm': 8737, 'lab': 4635, 'augest': 530, 'scottpilgrimm': 7277, 'indi': 4105, 'wlwa': 9272, 'mlm': 5444, 'aladi': 185, 'aug': 529, 'angel': 310, 'purg': 6636, 'xeno': 9364, 'aquamartha': 403, 'bil': 862, 'pathankot': 6154, 'malda': 5050, 'remix': 6901, 'peoplescube': 6221, 'snapback': 7653, 'trippin': 8602, 'iho': 4004, 'loudest': 4945, 'daylight': 2006, 'trendsett': 8580, 'bìil': 1175, 'bili': 865, 'smacand': 7617, 'gip': 3318, 'menegerleratur': 5297, 'nitrogen': 5773, 'carbon': 1251, 'dioxid': 2217, 'succeed': 8039, 'gifsec': 3305, 'thebigbang': 8317, 'tbbt': 8204, 'thebigbangtheori': 8318, 'hungari': 3911, 'czech': 1924, 'layer': 4703, 'greec': 3445, 'eww': 2679, 'norway': 5813, 'smjbuzz': 7642, 'bike': 859, 'keyboard': 4533, 'thumbpress': 8428, 'aypo': 580, 'gulp': 3509, 'nilanjana_ghosh': 5761, 'exhaustina': 2694, 'loath': 4883, 'friends': 3090, 'perk': 6239, 'arb': 410, 'rubix': 7108, 'empirek': 2550, 'vader': 8878, 'crav': 1811, 'cattl': 1298, 'liberti': 4799, 'funky': 3143, 'dha': 2160, 'shook': 7470, 'shithat': 7454, 'marg': 5104, 'dolli': 2314, 'parton': 6137, 'jolen': 4423, 'acowboy': 74, 'pickup': 6298, 'sta': 7865, 'sweetheawil': 8131, 'ukrainian': 8721, 'beerem': 752, 'beei': 749, 'cosplay': 1761, 'quirki': 6701, 'idontget': 3976, 'almand': 227, 'tak': 8161, 'pooli': 6407, 'mortician': 5517, 'shoelac': 7466, 'marvelousfact': 5133, 'apitnobaka': 370, 'outlift': 6033, 'alan': 188, 'wng': 9274, 'holm': 3809, 'serial': 7369, 'separ': 7360, 'audit': 527, 'yourcelebrityfacts': 9428, 'freeman': 3074, 'fountain': 3036, 'bald': 633, 'nicholson': 5739, 'shotongo': 7481, 'psgliv': 6599, 'stadium': 7873, 'struga': 8004, 'django': 2281, 'unchain': 8745, 'reciev': 6821, 'psi': 6600, 'familiar': 2774, 'wht': 9205, 'nutterstock': 5850, 'shuesick': 7500, 'nelson': 5690, 'krang': 4616, 'gainz': 3197, 'bodybuilding_humour': 949, 'paoftwant': 6106, 'misfit': 5416, 'horni': 3844, 'oh': 5908, 'behav': 759, 'denton': 2104, 'hilariousdepot': 3748, 'uninterrupt': 8785, 'restor': 6948, 'impolit': 4070, 'purpl': 6638, 'cycl': 1921, 'unsaf': 8813, 'fuzia': 3183, 'contribut': 1713, 'cis': 1509, 'bunnymem': 1143, 'britney': 1064, 'spear': 7783, 'pus': 6643, 'delusion': 2084, 'ministri': 5404, 'epistemolog': 2603, 'skyler': 7581, 'asim': 470, 'busara': 1155, 'asım': 495, 'magnabad': 5021, 'thrillar': 8416, 'curat': 1897, 'contriv': 1714, 'persona': 6249, 'ensur': 2581, 'veganoverlord': 8901, 'webcast': 9103, 'wenn': 9138, 'sammich': 7180, 'stomach': 7963, 'gariksuharik': 3228, 'atmom': 506, 'whyar': 9207, 'awesome': 571, 'wel': 9130, 'blocklist': 918, 'friendlist': 3088, 'rach': 6719, 'ooh': 5968, 'slight': 7599, 'funki': 3142, 'herobrin': 3716, 'icanarscheezburger': 3944, 'thetoddwilliam': 8370, 'officalgen': 5893, 'magdon': 5017, 'uhhhbten': 8718, 'percent': 6232, 'twenti': 8683, 'fifteen': 2880, 'smokin': 7645, 'abouta': 40, 'effoto': 2493, 'fumybeing': 3136, 'op': 5972, 'mamecenter': 5062, 'genuin': 3275, 'luckili': 4973, 'corvus': 1758, 'drawer': 2378, 'pervert': 6252, 'rofleo': 7053, 'latino': 4685, 'eorgiso': 2596, 'jeep': 4364, 'squeez': 7853, 'spank': 7773, 'usmal': 8858, 'mulder': 5569, 'fuckup': 3126, 'sensei': 7354, 'cheeto': 1405, 'overus': 6055, 'unexplor': 8769, 'bronn': 1072, 'ramadan': 6749, 'ra': 6714, 'al': 182, 'overhear': 6047, 'rumor': 7119, 'delay': 2074, 'brothel': 1078, 'camelia': 1202, 'pen': 6206, 'ati': 502, 'quich': 6682, 'lorrain': 4926, 'lorrainet': 4927, 'memetuc': 5284, 'so': 7674, 'franci': 3053, 'sparrow': 7778, 'stayour': 7922, 'trialbi': 8583, 'mgflip': 5335, 'memesofgameofthron': 5275, 'yay': 9388, 'gbm': 3250, 'arri': 438, 'hpotter': 3876, 'episkeyfirewhiskey': 2601, 'dracosredempt': 2366, 'crabb': 1800, 'fenc': 2860, 'expelliarmus': 2706, 'expecto': 2704, 'patronum': 6167, 'cedric': 1313, 'diggori': 2202, 'yup': 9438, 'basilisk': 689, 'underground': 8754, 'roonil': 7078, 'wazlib': 9084, 'limp': 4837, 'roflraz': 7054, 'staff': 7875, 'nevill': 5719, 'longbottom': 4913, 'countercurs': 1775, 'feud': 2871, 'speechless': 7794, 'psych': 6603, 'yhe': 9406, 'mauri': 5164, 'sobasicicanteven': 7678, 'mr_mun': 5548, 'kieran': 4550, 'drgraylang': 2388, 'cuba': 1878, 'chewbacca': 1420, 'tavi': 8197, 'smiley': 7640, 'cornel': 1749, 'coon': 1730, 'domi': 2319, 'incorrect': 4097, 'nickelodeon': 5742, 'needi': 5677, 'receiv': 6818, 'elminin': 2529, 'pinal': 6317, 'runner': 7122, 'philippin': 6276, 'demode_iowa': 2092, 'vagas': 8879, 'mehe': 5210, 'coh': 1588, 'appvn': 399, 'yetb': 9405, 'huko': 3894, 'huk': 3892, 'osh': 6011, 'fanfic': 2782, 'journelofamadman': 4442, 'shre': 7494, 'caterpillar': 1289, 'tenacho': 8258, 'pragmaticpolit': 6465, 'soundscienc': 7754, 'collabor': 1596, 'tru': 8618, 'tdnewswire': 8208, 'newswir': 5723, 'lieabet': 4806, 'broomstick': 1075, 'rode': 7046, 'handd': 3561, 'alei': 199, 'sweep': 8128, 'theshin': 8367, 'xrate': 9374, 'ski': 7571, 'prosecut': 6576, 'regener': 6858, 'newyork': 5725, 'doing': 2308, 'volkswagen': 9001, 'gaz': 3246, 'ach': 69, 'belgium': 768, 'wikileak': 9221, 'wwii': 9353, 'deleg': 2075, 'tripartit': 8600, 'blunt': 939, 'scrap': 7280, 'führer': 3188, 'walmadur': 9037, 'gomiss': 3371, 'crown': 1862, 'psu': 6602, 'edu': 2482, 'soemth': 7691, 'wheni': 9175, 'gta': 3488, 'dlc': 2284, 'entitl': 2590, 'tunderstand': 8656, 'stds': 7923, 'oop': 5971, 'lebron': 4727, 'hiphopmeasure': 3764, 'schedul': 7260, 'starfir': 7894, 'icanhascherzburgerloh': 3949, 'panic': 6098, 'giertz': 3300, 'smileus': 7639, 'phra': 6289, 'puta': 6649, 'justicc': 4478, 'icague': 3942, 'grin': 3464, 'officialmvdc': 5899, 'slather': 7587, 'bbq': 709, 'flavortown': 2944, 'hilton': 3753, 'authoritahi': 542, 'pan': 6094, 'crust': 1868, 'facil': 2746, 'los': 4928, 'guitar': 3505, 'thehardtimes': 8326, 'dprk': 2363, 'hesit': 3721, 'monitor': 5482, 'harmon': 3595, 'techniqu': 8226, 'logang': 4894, 'suscrav': 8112, 'tremend': 8576, 'kook': 4605, 'legendaryfact': 4751, 'vogu': 8992, 'chilli': 1434, 'fleet': 2947, 'zarri': 9450, 'jedi': 4363, 'zeus': 9457, 'isa': 4264, 'sang': 7190, 'larry': 4672, 'cal': 1187, 'transphob': 8560, 'tran': 8553, 'gamestop': 3212, 'darb': 1973, 'wag': 9017, 'wmyb': 9273, 'gurrrl': 3515, 'dem': 2085, 'mus': 5579, 'voiceover_frank': 8995, 'madlipz': 5012, 'iwillfindyou': 4315, 'liamneeson': 4795, 'pizzahut': 6334, 'papajohn': 6108, 'pizzaexpress': 6333, 'dailymem': 1937, 'instamem': 4179, 'poslo': 6432, 'ngflip': 5732, 'intemet': 4196, 'fuchsia': 3116, 'cheep': 1396, 'prefegt': 6481, 'imeur': 4034, 'swig': 8136, 'alat': 193, 'ccc': 1308, 'rusti': 7136, 'trombon': 8611, 'coveral': 1789, 'taj': 8160, 'mahal': 5029, 'until': 8822, 'abhishek': 34, 'chack': 1345, 'nbc': 5661, 'sasuk': 7210, 'davidicke': 2001, 'interrog': 4214, 'won': 9289, 'glitter': 3337, 'halfl': 3552, 'leaf': 4715, 'aragon': 408, 'visitor': 8975, 'distant': 2267, 'sauron': 7221, 'industri': 4115, 'undon': 8763, 'catikay': 1291, 'beacon': 717, 'implement': 4069, 'asaway': 456, 'subsidi': 8034, 'flu': 2968, 'pneumonia': 6375, 'bananá': 644, 'them': 8334, 'ungrat': 8775, 'fog': 2978, 'lour': 4948, 'voodoo': 9005, 'doll': 2312, 'substanti': 8035, 'minionminion': 5400, 'diarrhea': 2177, 'salad': 7170, 'sweatpant': 8125, 'sneaker': 7659, 'kniw': 4589, 'cope': 1737, 'editori': 2480, 'tantrum': 8179, 'ripof': 7015, 'howbow': 3872, 'dah': 1934, 'bankster': 654, 'caucasian': 1300, 'rosé': 7088, 'inflat': 4127, 'diam': 2171, 'genderqu': 3260, 'francesca': 3051, 'visser': 8976, 'corad': 1741, 'fitspoholic': 2929, 'thelikeguy': 8333, 'myex': 5603, 'andipref': 302, 'hotguy': 3857, 'fatheiss': 2806, 'apartheid': 368, 'burqua': 1152, 'scrabbl': 7279, 'corgi': 1745, 'iclear': 3958, 'examin': 2683, 'joinedirsa': 4415, 'commission': 1639, 'malnutrit': 5056, 'conscious': 1692, 'hukkad': 3893, 'bhukkad': 834, 'yale': 9381, 'nitish': 5772, 'lalu': 4655, 'appu': 398, 'officeof': 5894, 'sari': 7204, 'diamond': 2172, 'jewelleri': 4383, 'heato': 3672, 'difficulti': 2198, 'ravindra': 6777, 'jadeja': 4330, 'hawkman': 3640, 'antenna': 346, 'intric': 4225, 'aasldfliksdfjalsdfki': 27, 'spark': 7776, 'biggus': 853, 'dickus': 2183, 'memo': 5288, 'stawork': 7919, 'nutella': 5847, 'angler': 317, 'typic': 8702, 'specimen': 7787, 'eel': 2486, 'dunno': 2430, 'memetenleri': 5281, 'barrack': 676, 'olama': 5924, 'pedobama': 6196, 'iganhascheepburger': 3995, 'fwek': 3185, 'cliqu': 1547, 'presdent': 6495, 'voter': 9007, 'politicalmemes': 6397, 'agianst': 150, 'bias': 836, 'hil': 3746, 'oema': 5885, 'baracka': 660, 'flocka': 2959, 'timmi': 8448, 'anguin': 320, 'penjiševodáck': 6213, 'licenc': 4801, 'publish': 6610, 'terrifi': 8271, 'gangster': 3218, 'clarketwin': 1522, 'unknow': 8792, 'outliv': 6034, 'someday': 7716, 'bounti': 999, 'harvest': 3606, 'slayer': 7592, 'midays': 5352, 'keayallvil': 4514, 'zee': 9453, 'weir': 9126, 'beaten': 728, 'rabid': 6717, 'function': 3138, 'cannon': 1224, 'ver': 8911, 'liv': 4864, 'reunion': 6959, 'wesley': 9141, 'heas': 3668, 'orchard': 5993, 'se': 7291, 'andr': 304, 'commerci': 1637, 'bravo': 1028, 'citrus': 1513, 'creami': 1821, 'vanilla': 8891, 'pensiv': 6217, 'cnn': 1570, 'cet': 1340, 'ccnoe': 1309, 'peoppar': 6222, 'bacaus': 594, 'purchas': 6633, 'resurg': 6952, 'dank_mem': 1964, 'pec': 6194, 'mamelenteri': 5066, 'barnard': 670, 'boer': 951, 'recon': 6829, 'ernst': 2617, 'roet': 7050, 'station': 7913, 'rabe': 6716, 'patio': 6159, 'riley': 7008, 'blindfold': 912, 'realist': 6796, 'vega': 8899, 'rahui': 6734, 'officialtrol': 5901, 'dravid': 2375, 'bhai': 830, 'thr': 8407, 'cong': 1684, 'mal': 5048, 'hypothesi': 3932, 'nus': 5845, 'bebaba': 731, 'jai': 4333, 'sweethea': 8130, 'marco': 5100, 'detroy': 2151, 'trummemes': 8625, 'dimens': 2211, 'sotruefact': 7748, 'transplant': 8561, 'sotruefacts': 7749, 'cig': 1498, 'tsunami': 8638, 'ueue': 8710, 'uncov': 8750, 'flight': 2953, 'ghz': 3297, 'quadcor': 6668, 'hellaninja': 3696, 'magnis': 5024, 'cvv': 1918, 'signatur': 7521, 'marisa': 5112, 'robertson': 7037, 'tdon': 8209, 'rival': 7021, 'larg': 4669, 'unregul': 8810, 'ificantfinish': 3984, 'me_irl': 5185, 'jackp': 4327, 'boyanc': 1010, 'droid': 2394, 'yardstick': 9386, 'aformula': 133, 'bi': 835, 'digital': 2204, 'formulacoach': 3017, 'visionari': 8973, 'tumbuto': 8652, 'ilovelif': 4017, 'wakel': 9026, 'lifei': 4813, 'crave': 1812, 'sole': 7706, 'cuta': 1913, 'beret': 800, 'puffin': 6615, 'stato': 7914, 'glide': 3336, 'ludicrus': 4974, 'frogman': 3103, 'funnyi': 3157, 'mgom': 5338, 'gaaayyy': 3191, 'imgurl': 4054, 'pickachu': 6296, 'bugga': 1118, 'victoria': 8936, 'prusunod': 6595, 'lolsnaps': 4907, 'charlwood': 1380, 'croak': 1851, 'glexiprez': 3335, 'fuckong': 3122, 'seashel': 7300, 'daddyissu': 1929, 'entub': 2592, 'metro': 5328, 'freeli': 3073, 'fricat': 3082, 'boobi': 971, 'unshak': 8815, 'wouluarvey': 9326, 'valuabl': 8887, 'firm': 2914, 'collag': 1597, 'harveyllb': 3608, 'splitsvilla': 7810, 'gurl': 3514, 'vindaloo': 8951, 'autograph': 546, 'salvador': 7177, 'dali': 1939, 'thatll': 8306, 'detector': 2148, 'vapey': 8895, 'mcdouchefac': 5178, 'deduct': 2052, 'unibrow': 8780, 'veryfunnypics': 8919, 'csn': 1873, 'muut': 5596, 'themlbnem': 8340, 'astro': 488, 'okayyy': 5919, 'nbamcamin': 5659, 'golf': 3367, 'optimis': 5986, 'manin': 5081, 'bulla': 1128, 'orealdonald': 5997, 'isaac': 4265, 'newton': 5724, 'oct': 5881, 'pewdiepi': 6266, 'cring': 1841, 'conspiraci': 1700, 'theorist': 8353, 'quantum': 6672, 'unzip': 8827, 'wonti': 9297, 'morbid': 5500, 'weav': 9099, 'ayoola': 579, 'pavement': 6173, 'gimm': 3309, 'ob': 5856, 'sack': 7149, 'preseason': 6496, 'davi': 1998, 'sb': 7238, 'madd': 5006, 'maxx': 5170, 'graphix': 3430, 'onen': 5962, 'sbal': 7239, 'crazyhyence': 1819, 'legen': 4748, 'dari': 1975, 'ledge': 4730, '_wait': 15, 'scenesofhimym': 7258, 'thick': 8382, 'rcede': 6781, 'ishio': 4276, 'ido': 3970, 'aker': 180, 'lakception': 4651, 'spikepheonix': 7805, 'substitut': 8036, 'wendel': 9135, 'alfr': 202, 'montoya': 5490, 'amycalvin': 279, 'trolleri': 8607, '_dekh': 1, 'amazingcomedian': 252, 'sotal': 7747, 'ommi': 5951, 'idontalway': 3975, 'playth': 6353, 'piano': 6292, 'idoi': 3971, 'irst': 4262, 'dcmarvel_mem': 2011, 'helichrysum': 3693, 'macchio': 4999, 'poul': 6447, 'buribd': 1147, 'nod': 5781, 'mardi': 5102, 'gras': 3431, 'digest': 2201, 'maanagaram': 4995, 'divers': 2275, 'extraordinari': 2730, 'interlink': 4205, 'laze': 4705, 'encourag': 2561, 'gratitud': 3436}\n"
          ],
          "name": "stdout"
        }
      ]
    },
    {
      "cell_type": "code",
      "metadata": {
        "id": "At_XLtxsitYV",
        "colab_type": "code",
        "outputId": "a2bd4f5b-a1db-471c-f872-444e9742fdce",
        "colab": {
          "base_uri": "https://localhost:8080/",
          "height": 50
        }
      },
      "source": [
        ""
      ],
      "execution_count": 0,
      "outputs": [
        {
          "output_type": "stream",
          "text": [
            "(4448, 7590)\n",
            "(4448,)\n"
          ],
          "name": "stdout"
        }
      ]
    },
    {
      "cell_type": "code",
      "metadata": {
        "id": "ewd16lwlY4A6",
        "colab_type": "code",
        "colab": {}
      },
      "source": [
        "xgb = XGBClassifier()"
      ],
      "execution_count": 0,
      "outputs": []
    },
    {
      "cell_type": "code",
      "metadata": {
        "id": "WVjf2NYqZEg7",
        "colab_type": "code",
        "outputId": "3ff6f24f-dde1-4b17-f2ff-81b32b461b0b",
        "colab": {
          "base_uri": "https://localhost:8080/",
          "height": 134
        }
      },
      "source": [
        "xgb.fit(x_train,s_train)"
      ],
      "execution_count": 0,
      "outputs": [
        {
          "output_type": "execute_result",
          "data": {
            "text/plain": [
              "XGBClassifier(base_score=0.5, booster='gbtree', colsample_bylevel=1,\n",
              "              colsample_bynode=1, colsample_bytree=1, gamma=0,\n",
              "              learning_rate=0.1, max_delta_step=0, max_depth=3,\n",
              "              min_child_weight=1, missing=None, n_estimators=100, n_jobs=1,\n",
              "              nthread=None, objective='multi:softprob', random_state=0,\n",
              "              reg_alpha=0, reg_lambda=1, scale_pos_weight=1, seed=None,\n",
              "              silent=None, subsample=1, verbosity=1)"
            ]
          },
          "metadata": {
            "tags": []
          },
          "execution_count": 108
        }
      ]
    },
    {
      "cell_type": "code",
      "metadata": {
        "id": "oSRvpNb6aXuZ",
        "colab_type": "code",
        "outputId": "bfe03de2-0798-4300-b3c7-b85c4fe0a888",
        "colab": {
          "base_uri": "https://localhost:8080/",
          "height": 34
        }
      },
      "source": [
        "xgb.score(x_train,s_train)"
      ],
      "execution_count": 0,
      "outputs": [
        {
          "output_type": "execute_result",
          "data": {
            "text/plain": [
              "0.4656441717791411"
            ]
          },
          "metadata": {
            "tags": []
          },
          "execution_count": 109
        }
      ]
    },
    {
      "cell_type": "code",
      "metadata": {
        "id": "Yf1fTMmiZH7e",
        "colab_type": "code",
        "colab": {}
      },
      "source": [
        "y_pred = xgb.predict(x_test)"
      ],
      "execution_count": 0,
      "outputs": []
    },
    {
      "cell_type": "code",
      "metadata": {
        "id": "sRNGrakuZLqe",
        "colab_type": "code",
        "outputId": "e4c2faa6-00bf-4381-94a2-0d9de7b70312",
        "colab": {
          "base_uri": "https://localhost:8080/",
          "height": 84
        }
      },
      "source": [
        "print(\"F1.........: %f\" %(f1_score(s_trial, y_pred, average=\"macro\")))\n",
        "print(\"Precision..: %f\" %(precision_score(s_trial, y_pred, average=\"macro\")))\n",
        "print(\"Recall.....: %f\" %(recall_score(s_trial, y_pred, average=\"macro\")))\n",
        "print(\"Accuracy...: %f\" %(accuracy_score(s_trial, y_pred)))"
      ],
      "execution_count": 0,
      "outputs": [
        {
          "output_type": "stream",
          "text": [
            "F1.........: 0.081793\n",
            "Precision..: 0.160196\n",
            "Recall.....: 0.127256\n",
            "Accuracy...: 0.450766\n"
          ],
          "name": "stdout"
        }
      ]
    },
    {
      "cell_type": "code",
      "metadata": {
        "id": "mpRkn5L0YlSs",
        "colab_type": "code",
        "outputId": "a80a8177-287a-4453-a3bf-3c830a360a63",
        "colab": {
          "base_uri": "https://localhost:8080/",
          "height": 101
        }
      },
      "source": [
        "confusion_matrix(s_trial, y_pred, labels=[\"positive\", \"very_positive\", \"neutral\", \"negative\", \"very_negative\"])"
      ],
      "execution_count": 0,
      "outputs": [
        {
          "output_type": "execute_result",
          "data": {
            "text/plain": [
              "array([[407,   0,   0,   0,   0],\n",
              "       [148,   0,   1,   0,   0],\n",
              "       [272,   0,   5,   0,   0],\n",
              "       [ 50,   0,   0,   0,   0],\n",
              "       [ 20,   0,   0,   0,   0]])"
            ]
          },
          "metadata": {
            "tags": []
          },
          "execution_count": 112
        }
      ]
    },
    {
      "cell_type": "code",
      "metadata": {
        "id": "zW6rhlicZOzo",
        "colab_type": "code",
        "outputId": "a6d97c7c-d4db-4956-9aae-b328c6b98927",
        "colab": {
          "base_uri": "https://localhost:8080/",
          "height": 1000
        }
      },
      "source": [
        "print(y_pred)"
      ],
      "execution_count": 0,
      "outputs": [
        {
          "output_type": "stream",
          "text": [
            "['positive' 'positive' 'positive' 'positive' 'positive' 'positive'\n",
            " 'positive' 'positive' 'positive' 'positive' 'positive' 'positive'\n",
            " 'positive' 'positive' 'positive' 'positive' 'positive' 'positive'\n",
            " 'positive' 'positive' 'positive' 'positive' 'positive' 'positive'\n",
            " 'positive' 'positive' 'positive' 'positive' 'positive' 'positive'\n",
            " 'positive' 'positive' 'positive' 'positive' 'positive' 'positive'\n",
            " 'positive' 'positive' 'positive' 'positive' 'positive' 'positive'\n",
            " 'positive' 'positive' 'positive' 'positive' 'positive' 'positive'\n",
            " 'positive' 'positive' 'positive' 'positive' 'positive' 'positive'\n",
            " 'positive' 'positive' 'positive' 'positive' 'positive' 'positive'\n",
            " 'positive' 'positive' 'positive' 'positive' 'positive' 'positive'\n",
            " 'positive' 'positive' 'positive' 'positive' 'positive' 'positive'\n",
            " 'positive' 'positive' 'positive' 'positive' 'positive' 'positive'\n",
            " 'positive' 'positive' 'positive' 'positive' 'positive' 'positive'\n",
            " 'positive' 'positive' 'positive' 'positive' 'positive' 'positive'\n",
            " 'positive' 'positive' 'positive' 'positive' 'positive' 'positive'\n",
            " 'positive' 'positive' 'positive' 'positive' 'positive' 'positive'\n",
            " 'positive' 'positive' 'positive' 'positive' 'positive' 'positive'\n",
            " 'positive' 'positive' 'positive' 'positive' 'positive' 'positive'\n",
            " 'positive' 'positive' 'positive' 'positive' 'positive' 'positive'\n",
            " 'positive' 'positive' 'positive' 'positive' 'positive' 'positive'\n",
            " 'positive' 'positive' 'positive' 'positive' 'positive' 'positive'\n",
            " 'positive' 'positive' 'positive' 'positive' 'positive' 'positive'\n",
            " 'positive' 'positive' 'positive' 'positive' 'positive' 'positive'\n",
            " 'positive' 'positive' 'positive' 'positive' 'positive' 'positive'\n",
            " 'positive' 'positive' 'positive' 'positive' 'positive' 'positive'\n",
            " 'positive' 'positive' 'positive' 'positive' 'positive' 'positive'\n",
            " 'positive' 'positive' 'positive' 'positive' 'positive' 'positive'\n",
            " 'positive' 'positive' 'positive' 'positive' 'positive' 'positive'\n",
            " 'positive' 'positive' 'positive' 'positive' 'positive' 'positive'\n",
            " 'positive' 'positive' 'positive' 'positive' 'positive' 'positive'\n",
            " 'positive' 'positive' 'positive' 'positive' 'positive' 'positive'\n",
            " 'positive' 'positive' 'positive' 'positive' 'positive' 'positive'\n",
            " 'positive' 'positive' 'positive' 'positive' 'positive' 'positive'\n",
            " 'positive' 'positive' 'positive' 'positive' 'positive' 'positive'\n",
            " 'positive' 'positive' 'positive' 'positive' 'positive' 'positive'\n",
            " 'positive' 'positive' 'positive' 'positive' 'positive' 'positive'\n",
            " 'positive' 'positive' 'positive' 'positive' 'positive' 'positive'\n",
            " 'positive' 'positive' 'positive' 'positive' 'positive' 'positive'\n",
            " 'positive' 'positive' 'positive' 'positive' 'positive' 'positive'\n",
            " 'positive' 'positive' 'positive' 'positive' 'positive' 'positive'\n",
            " 'positive' 'positive' 'positive' 'positive' 'positive' 'positive'\n",
            " 'positive' 'positive' 'positive' 'positive' 'positive' 'positive'\n",
            " 'positive' 'positive' 'positive' 'positive' 'positive' 'positive'\n",
            " 'positive' 'positive' 'positive' 'positive' 'positive' 'positive'\n",
            " 'positive' 'positive' 'positive' 'positive' 'positive' 'positive'\n",
            " 'positive' 'positive' 'positive' 'positive' 'positive' 'positive'\n",
            " 'positive' 'positive' 'positive' 'positive' 'positive' 'positive'\n",
            " 'positive' 'positive' 'positive' 'positive' 'positive' 'positive'\n",
            " 'positive' 'positive' 'positive' 'positive' 'positive' 'positive'\n",
            " 'positive' 'positive' 'positive' 'positive' 'positive' 'positive'\n",
            " 'positive' 'positive' 'positive' 'positive' 'positive' 'positive'\n",
            " 'positive' 'positive' 'positive' 'positive' 'positive' 'positive'\n",
            " 'positive' 'positive' 'positive' 'positive' 'positive' 'positive'\n",
            " 'positive' 'positive' 'positive' 'positive' 'positive' 'positive'\n",
            " 'positive' 'positive' 'positive' 'positive' 'positive' 'positive'\n",
            " 'positive' 'positive' 'positive' 'positive' 'positive' 'positive'\n",
            " 'positive' 'positive' 'positive' 'positive' 'positive' 'positive'\n",
            " 'positive' 'positive' 'positive' 'positive' 'positive' 'positive'\n",
            " 'positive' 'positive' 'positive' 'positive' 'positive' 'positive'\n",
            " 'positive' 'positive' 'positive' 'positive' 'positive' 'positive'\n",
            " 'positive' 'positive' 'positive' 'positive' 'positive' 'positive'\n",
            " 'positive' 'positive' 'positive' 'positive' 'positive' 'positive'\n",
            " 'positive' 'positive' 'positive' 'positive' 'positive' 'positive'\n",
            " 'positive' 'positive' 'positive' 'positive' 'positive' 'positive'\n",
            " 'positive' 'positive' 'positive' 'positive' 'positive' 'positive'\n",
            " 'positive' 'positive' 'positive' 'positive' 'positive' 'positive'\n",
            " 'positive' 'positive' 'positive' 'positive' 'positive' 'positive'\n",
            " 'positive' 'positive' 'positive' 'positive' 'positive' 'positive'\n",
            " 'positive' 'positive' 'positive' 'positive' 'positive' 'positive'\n",
            " 'positive' 'positive' 'positive' 'positive' 'positive' 'positive'\n",
            " 'positive' 'positive' 'positive' 'positive' 'positive' 'positive'\n",
            " 'positive' 'positive' 'positive' 'positive' 'positive' 'positive'\n",
            " 'positive' 'positive' 'positive' 'positive' 'positive' 'positive'\n",
            " 'positive' 'positive' 'positive' 'positive' 'positive' 'positive'\n",
            " 'positive' 'positive' 'positive' 'positive' 'positive' 'positive'\n",
            " 'positive' 'positive' 'positive' 'positive' 'positive' 'positive'\n",
            " 'positive' 'positive' 'positive' 'positive' 'positive' 'positive'\n",
            " 'positive' 'positive' 'positive' 'positive' 'positive' 'positive'\n",
            " 'positive' 'positive' 'positive' 'positive' 'positive' 'positive'\n",
            " 'positive' 'positive' 'positive' 'positive' 'positive' 'positive'\n",
            " 'positive' 'positive' 'positive' 'positive' 'positive' 'positive'\n",
            " 'positive' 'positive' 'positive' 'positive' 'positive' 'positive'\n",
            " 'positive' 'positive' 'positive' 'positive' 'positive' 'positive'\n",
            " 'positive' 'positive' 'positive' 'positive' 'positive' 'positive'\n",
            " 'positive' 'positive' 'positive' 'positive' 'positive' 'positive'\n",
            " 'positive' 'positive' 'positive' 'positive' 'positive' 'positive'\n",
            " 'positive' 'positive' 'positive' 'positive' 'positive' 'positive'\n",
            " 'positive' 'positive' 'positive' 'positive' 'positive' 'positive'\n",
            " 'positive' 'positive' 'positive' 'positive' 'positive' 'positive'\n",
            " 'positive' 'positive' 'positive' 'positive' 'positive' 'positive'\n",
            " 'positive' 'positive' 'positive' 'positive' 'positive' 'positive'\n",
            " 'positive' 'positive' 'positive' 'positive' 'positive' 'positive'\n",
            " 'positive' 'positive' 'positive' 'positive' 'positive' 'positive'\n",
            " 'positive' 'positive' 'positive' 'positive' 'positive' 'positive'\n",
            " 'positive' 'positive' 'positive' 'positive' 'positive' 'positive'\n",
            " 'positive' 'positive' 'positive' 'positive' 'positive' 'positive'\n",
            " 'positive' 'positive' 'positive' 'positive' 'positive' 'positive'\n",
            " 'positive' 'positive' 'positive' 'positive' 'positive' 'positive'\n",
            " 'positive' 'positive' 'positive' 'positive' 'positive' 'positive'\n",
            " 'positive' 'positive' 'positive' 'positive' 'positive' 'positive'\n",
            " 'positive' 'positive' 'positive' 'positive' 'positive' 'positive'\n",
            " 'positive' 'positive' 'positive' 'positive' 'positive' 'positive'\n",
            " 'positive' 'positive' 'positive' 'positive' 'positive' 'positive'\n",
            " 'positive' 'positive' 'positive' 'positive' 'positive' 'positive'\n",
            " 'positive' 'positive' 'positive' 'positive' 'positive' 'positive'\n",
            " 'positive']\n"
          ],
          "name": "stdout"
        }
      ]
    },
    {
      "cell_type": "code",
      "metadata": {
        "id": "dwFXiNSoM9Nz",
        "colab_type": "code",
        "colab": {}
      },
      "source": [
        ""
      ],
      "execution_count": 0,
      "outputs": []
    },
    {
      "cell_type": "markdown",
      "metadata": {
        "id": "eW399PCUq1TX",
        "colab_type": "text"
      },
      "source": [
        "# XLNet"
      ]
    },
    {
      "cell_type": "code",
      "metadata": {
        "id": "EHJ4eto3q32L",
        "colab_type": "code",
        "colab": {}
      },
      "source": [
        "sentences = df.new_text.values"
      ],
      "execution_count": 0,
      "outputs": []
    },
    {
      "cell_type": "code",
      "metadata": {
        "id": "9_NxACDUq6c7",
        "colab_type": "code",
        "colab": {}
      },
      "source": [
        "sentences = [sentence + \" [SEP] [CLS]\" for sentence in sentences]\n",
        "labels = df.taskA.values"
      ],
      "execution_count": 0,
      "outputs": []
    },
    {
      "cell_type": "code",
      "metadata": {
        "id": "3KtL4TkEq-Ph",
        "colab_type": "code",
        "outputId": "7a265020-17e9-4c60-ef33-463f0741ba5c",
        "colab": {
          "base_uri": "https://localhost:8080/",
          "height": 87
        }
      },
      "source": [
        "tokenizer = XLNetTokenizer.from_pretrained('xlnet-base-cased', do_lower_case=True)\n",
        "\n",
        "tokenized_texts = [tokenizer.tokenize(sent) for sent in sentences]\n",
        "print (\"Tokenize the first sentence:\")\n",
        "print (tokenized_texts[0])"
      ],
      "execution_count": 0,
      "outputs": [
        {
          "output_type": "stream",
          "text": [
            "100%|██████████| 798011/798011 [00:00<00:00, 11638405.68B/s]\n"
          ],
          "name": "stderr"
        },
        {
          "output_type": "stream",
          "text": [
            "Tokenize the first sentence:\n",
            "['▁spend', '▁', 's', 'atur', 'day', '▁detention', '▁everyone', '▁else', '▁ends', '▁couples', '▁still', '▁alone', '▁picked', '▁[', 's', 'ep', ']', '▁[', 'cl', 's', ']']\n"
          ],
          "name": "stdout"
        }
      ]
    },
    {
      "cell_type": "code",
      "metadata": {
        "id": "dac_yNqDrAdp",
        "colab_type": "code",
        "colab": {}
      },
      "source": [
        "MAX_LEN = 128\n",
        "input_ids = [tokenizer.convert_tokens_to_ids(x) for x in tokenized_texts]\n",
        "input_ids = pad_sequences(input_ids, maxlen=MAX_LEN, dtype=\"long\", truncating=\"post\", padding=\"post\")\n",
        "attention_masks = []\n",
        "\n",
        "# Create a mask of 1s for each token followed by 0s for padding\n",
        "for seq in input_ids:\n",
        "  seq_mask = [float(i>0) for i in seq]\n",
        "  attention_masks.append(seq_mask)"
      ],
      "execution_count": 0,
      "outputs": []
    },
    {
      "cell_type": "code",
      "metadata": {
        "id": "fcgcJ4mdrTq3",
        "colab_type": "code",
        "colab": {}
      },
      "source": [
        "train_inputs, validation_inputs, train_labels, validation_labels = train_test_split(input_ids, labels, \n",
        "                                                            random_state=2018, test_size=0.1)\n",
        "train_masks, validation_masks, _, _ = train_test_split(attention_masks, input_ids,\n",
        "                                             random_state=2018, test_size=0.1)"
      ],
      "execution_count": 0,
      "outputs": []
    },
    {
      "cell_type": "code",
      "metadata": {
        "id": "CCgAPcIDrWoU",
        "colab_type": "code",
        "colab": {}
      },
      "source": [
        "train_inputs = torch.tensor(train_inputs)\n",
        "validation_inputs = torch.tensor(validation_inputs)\n",
        "train_labels = torch.tensor(train_labels)\n",
        "validation_labels = torch.tensor(validation_labels)\n",
        "train_masks = torch.tensor(train_masks)\n",
        "validation_masks = torch.tensor(validation_masks)"
      ],
      "execution_count": 0,
      "outputs": []
    },
    {
      "cell_type": "code",
      "metadata": {
        "id": "Fd2QVdxGrLBt",
        "colab_type": "code",
        "colab": {}
      },
      "source": [
        "batch_size = 32\n",
        "\n",
        "# Create an iterator of our data with torch DataLoader. This helps save on memory during training because, unlike a for loop, \n",
        "# with an iterator the entire dataset does not need to be loaded into memory\n",
        "\n",
        "train_data = TensorDataset(train_inputs, train_masks, train_labels)\n",
        "train_sampler = RandomSampler(train_data)\n",
        "train_dataloader = DataLoader(train_data, sampler=train_sampler, batch_size=batch_size)\n",
        "\n",
        "validation_data = TensorDataset(validation_inputs, validation_masks, validation_labels)\n",
        "validation_sampler = SequentialSampler(validation_data)\n",
        "validation_dataloader = DataLoader(validation_data, sampler=validation_sampler, batch_size=batch_size)"
      ],
      "execution_count": 0,
      "outputs": []
    },
    {
      "cell_type": "code",
      "metadata": {
        "id": "OiQdvJXmrj9x",
        "colab_type": "code",
        "outputId": "cc9177a9-9630-46f4-aa25-1b0e7aa0c127",
        "colab": {
          "base_uri": "https://localhost:8080/",
          "height": 1000
        }
      },
      "source": [
        "model = XLNetForSequenceClassification.from_pretrained(\"xlnet-base-cased\", num_labels=2)\n",
        "model.cuda()"
      ],
      "execution_count": 0,
      "outputs": [
        {
          "output_type": "stream",
          "text": [
            "100%|██████████| 641/641 [00:00<00:00, 260115.02B/s]\n",
            "100%|██████████| 467042463/467042463 [00:07<00:00, 58544684.17B/s]\n"
          ],
          "name": "stderr"
        },
        {
          "output_type": "execute_result",
          "data": {
            "text/plain": [
              "XLNetForSequenceClassification(\n",
              "  (transformer): XLNetModel(\n",
              "    (word_embedding): Embedding(32000, 768)\n",
              "    (layer): ModuleList(\n",
              "      (0): XLNetLayer(\n",
              "        (rel_attn): XLNetRelativeAttention(\n",
              "          (layer_norm): LayerNorm((768,), eps=1e-12, elementwise_affine=True)\n",
              "          (dropout): Dropout(p=0.1, inplace=False)\n",
              "        )\n",
              "        (ff): XLNetFeedForward(\n",
              "          (layer_norm): LayerNorm((768,), eps=1e-12, elementwise_affine=True)\n",
              "          (layer_1): Linear(in_features=768, out_features=3072, bias=True)\n",
              "          (layer_2): Linear(in_features=3072, out_features=768, bias=True)\n",
              "          (dropout): Dropout(p=0.1, inplace=False)\n",
              "        )\n",
              "        (dropout): Dropout(p=0.1, inplace=False)\n",
              "      )\n",
              "      (1): XLNetLayer(\n",
              "        (rel_attn): XLNetRelativeAttention(\n",
              "          (layer_norm): LayerNorm((768,), eps=1e-12, elementwise_affine=True)\n",
              "          (dropout): Dropout(p=0.1, inplace=False)\n",
              "        )\n",
              "        (ff): XLNetFeedForward(\n",
              "          (layer_norm): LayerNorm((768,), eps=1e-12, elementwise_affine=True)\n",
              "          (layer_1): Linear(in_features=768, out_features=3072, bias=True)\n",
              "          (layer_2): Linear(in_features=3072, out_features=768, bias=True)\n",
              "          (dropout): Dropout(p=0.1, inplace=False)\n",
              "        )\n",
              "        (dropout): Dropout(p=0.1, inplace=False)\n",
              "      )\n",
              "      (2): XLNetLayer(\n",
              "        (rel_attn): XLNetRelativeAttention(\n",
              "          (layer_norm): LayerNorm((768,), eps=1e-12, elementwise_affine=True)\n",
              "          (dropout): Dropout(p=0.1, inplace=False)\n",
              "        )\n",
              "        (ff): XLNetFeedForward(\n",
              "          (layer_norm): LayerNorm((768,), eps=1e-12, elementwise_affine=True)\n",
              "          (layer_1): Linear(in_features=768, out_features=3072, bias=True)\n",
              "          (layer_2): Linear(in_features=3072, out_features=768, bias=True)\n",
              "          (dropout): Dropout(p=0.1, inplace=False)\n",
              "        )\n",
              "        (dropout): Dropout(p=0.1, inplace=False)\n",
              "      )\n",
              "      (3): XLNetLayer(\n",
              "        (rel_attn): XLNetRelativeAttention(\n",
              "          (layer_norm): LayerNorm((768,), eps=1e-12, elementwise_affine=True)\n",
              "          (dropout): Dropout(p=0.1, inplace=False)\n",
              "        )\n",
              "        (ff): XLNetFeedForward(\n",
              "          (layer_norm): LayerNorm((768,), eps=1e-12, elementwise_affine=True)\n",
              "          (layer_1): Linear(in_features=768, out_features=3072, bias=True)\n",
              "          (layer_2): Linear(in_features=3072, out_features=768, bias=True)\n",
              "          (dropout): Dropout(p=0.1, inplace=False)\n",
              "        )\n",
              "        (dropout): Dropout(p=0.1, inplace=False)\n",
              "      )\n",
              "      (4): XLNetLayer(\n",
              "        (rel_attn): XLNetRelativeAttention(\n",
              "          (layer_norm): LayerNorm((768,), eps=1e-12, elementwise_affine=True)\n",
              "          (dropout): Dropout(p=0.1, inplace=False)\n",
              "        )\n",
              "        (ff): XLNetFeedForward(\n",
              "          (layer_norm): LayerNorm((768,), eps=1e-12, elementwise_affine=True)\n",
              "          (layer_1): Linear(in_features=768, out_features=3072, bias=True)\n",
              "          (layer_2): Linear(in_features=3072, out_features=768, bias=True)\n",
              "          (dropout): Dropout(p=0.1, inplace=False)\n",
              "        )\n",
              "        (dropout): Dropout(p=0.1, inplace=False)\n",
              "      )\n",
              "      (5): XLNetLayer(\n",
              "        (rel_attn): XLNetRelativeAttention(\n",
              "          (layer_norm): LayerNorm((768,), eps=1e-12, elementwise_affine=True)\n",
              "          (dropout): Dropout(p=0.1, inplace=False)\n",
              "        )\n",
              "        (ff): XLNetFeedForward(\n",
              "          (layer_norm): LayerNorm((768,), eps=1e-12, elementwise_affine=True)\n",
              "          (layer_1): Linear(in_features=768, out_features=3072, bias=True)\n",
              "          (layer_2): Linear(in_features=3072, out_features=768, bias=True)\n",
              "          (dropout): Dropout(p=0.1, inplace=False)\n",
              "        )\n",
              "        (dropout): Dropout(p=0.1, inplace=False)\n",
              "      )\n",
              "      (6): XLNetLayer(\n",
              "        (rel_attn): XLNetRelativeAttention(\n",
              "          (layer_norm): LayerNorm((768,), eps=1e-12, elementwise_affine=True)\n",
              "          (dropout): Dropout(p=0.1, inplace=False)\n",
              "        )\n",
              "        (ff): XLNetFeedForward(\n",
              "          (layer_norm): LayerNorm((768,), eps=1e-12, elementwise_affine=True)\n",
              "          (layer_1): Linear(in_features=768, out_features=3072, bias=True)\n",
              "          (layer_2): Linear(in_features=3072, out_features=768, bias=True)\n",
              "          (dropout): Dropout(p=0.1, inplace=False)\n",
              "        )\n",
              "        (dropout): Dropout(p=0.1, inplace=False)\n",
              "      )\n",
              "      (7): XLNetLayer(\n",
              "        (rel_attn): XLNetRelativeAttention(\n",
              "          (layer_norm): LayerNorm((768,), eps=1e-12, elementwise_affine=True)\n",
              "          (dropout): Dropout(p=0.1, inplace=False)\n",
              "        )\n",
              "        (ff): XLNetFeedForward(\n",
              "          (layer_norm): LayerNorm((768,), eps=1e-12, elementwise_affine=True)\n",
              "          (layer_1): Linear(in_features=768, out_features=3072, bias=True)\n",
              "          (layer_2): Linear(in_features=3072, out_features=768, bias=True)\n",
              "          (dropout): Dropout(p=0.1, inplace=False)\n",
              "        )\n",
              "        (dropout): Dropout(p=0.1, inplace=False)\n",
              "      )\n",
              "      (8): XLNetLayer(\n",
              "        (rel_attn): XLNetRelativeAttention(\n",
              "          (layer_norm): LayerNorm((768,), eps=1e-12, elementwise_affine=True)\n",
              "          (dropout): Dropout(p=0.1, inplace=False)\n",
              "        )\n",
              "        (ff): XLNetFeedForward(\n",
              "          (layer_norm): LayerNorm((768,), eps=1e-12, elementwise_affine=True)\n",
              "          (layer_1): Linear(in_features=768, out_features=3072, bias=True)\n",
              "          (layer_2): Linear(in_features=3072, out_features=768, bias=True)\n",
              "          (dropout): Dropout(p=0.1, inplace=False)\n",
              "        )\n",
              "        (dropout): Dropout(p=0.1, inplace=False)\n",
              "      )\n",
              "      (9): XLNetLayer(\n",
              "        (rel_attn): XLNetRelativeAttention(\n",
              "          (layer_norm): LayerNorm((768,), eps=1e-12, elementwise_affine=True)\n",
              "          (dropout): Dropout(p=0.1, inplace=False)\n",
              "        )\n",
              "        (ff): XLNetFeedForward(\n",
              "          (layer_norm): LayerNorm((768,), eps=1e-12, elementwise_affine=True)\n",
              "          (layer_1): Linear(in_features=768, out_features=3072, bias=True)\n",
              "          (layer_2): Linear(in_features=3072, out_features=768, bias=True)\n",
              "          (dropout): Dropout(p=0.1, inplace=False)\n",
              "        )\n",
              "        (dropout): Dropout(p=0.1, inplace=False)\n",
              "      )\n",
              "      (10): XLNetLayer(\n",
              "        (rel_attn): XLNetRelativeAttention(\n",
              "          (layer_norm): LayerNorm((768,), eps=1e-12, elementwise_affine=True)\n",
              "          (dropout): Dropout(p=0.1, inplace=False)\n",
              "        )\n",
              "        (ff): XLNetFeedForward(\n",
              "          (layer_norm): LayerNorm((768,), eps=1e-12, elementwise_affine=True)\n",
              "          (layer_1): Linear(in_features=768, out_features=3072, bias=True)\n",
              "          (layer_2): Linear(in_features=3072, out_features=768, bias=True)\n",
              "          (dropout): Dropout(p=0.1, inplace=False)\n",
              "        )\n",
              "        (dropout): Dropout(p=0.1, inplace=False)\n",
              "      )\n",
              "      (11): XLNetLayer(\n",
              "        (rel_attn): XLNetRelativeAttention(\n",
              "          (layer_norm): LayerNorm((768,), eps=1e-12, elementwise_affine=True)\n",
              "          (dropout): Dropout(p=0.1, inplace=False)\n",
              "        )\n",
              "        (ff): XLNetFeedForward(\n",
              "          (layer_norm): LayerNorm((768,), eps=1e-12, elementwise_affine=True)\n",
              "          (layer_1): Linear(in_features=768, out_features=3072, bias=True)\n",
              "          (layer_2): Linear(in_features=3072, out_features=768, bias=True)\n",
              "          (dropout): Dropout(p=0.1, inplace=False)\n",
              "        )\n",
              "        (dropout): Dropout(p=0.1, inplace=False)\n",
              "      )\n",
              "    )\n",
              "    (dropout): Dropout(p=0.1, inplace=False)\n",
              "  )\n",
              "  (sequence_summary): SequenceSummary(\n",
              "    (summary): Linear(in_features=768, out_features=768, bias=True)\n",
              "    (activation): Tanh()\n",
              "    (first_dropout): Identity()\n",
              "    (last_dropout): Dropout(p=0.1, inplace=False)\n",
              "  )\n",
              "  (logits_proj): Linear(in_features=768, out_features=2, bias=True)\n",
              ")"
            ]
          },
          "metadata": {
            "tags": []
          },
          "execution_count": 36
        }
      ]
    },
    {
      "cell_type": "code",
      "metadata": {
        "id": "a0vHCi7TrmC0",
        "colab_type": "code",
        "colab": {}
      },
      "source": [
        "param_optimizer = list(model.named_parameters())\n",
        "no_decay = ['bias', 'gamma', 'beta']\n",
        "optimizer_grouped_parameters = [\n",
        "    {'params': [p for n, p in param_optimizer if not any(nd in n for nd in no_decay)],\n",
        "     'weight_decay_rate': 0.01},\n",
        "    {'params': [p for n, p in param_optimizer if any(nd in n for nd in no_decay)],\n",
        "     'weight_decay_rate': 0.0}\n",
        "]\n"
      ],
      "execution_count": 0,
      "outputs": []
    },
    {
      "cell_type": "code",
      "metadata": {
        "id": "1saC2KT1roqY",
        "colab_type": "code",
        "colab": {}
      },
      "source": [
        "optimizer = AdamW(optimizer_grouped_parameters,\n",
        "                     lr=2e-5)"
      ],
      "execution_count": 0,
      "outputs": []
    },
    {
      "cell_type": "code",
      "metadata": {
        "id": "mraD47a8rqht",
        "colab_type": "code",
        "colab": {}
      },
      "source": [
        "def flat_accuracy(preds, labels):\n",
        "    pred_flat = np.argmax(preds, axis=1).flatten()\n",
        "    labels_flat = labels.flatten()\n",
        "    return np.sum(pred_flat == labels_flat) / len(labels_flat)"
      ],
      "execution_count": 0,
      "outputs": []
    },
    {
      "cell_type": "code",
      "metadata": {
        "id": "Cpx_wW50rt9c",
        "colab_type": "code",
        "outputId": "e018efd7-284a-48c7-cc0a-581e1f2e3a8d",
        "colab": {
          "base_uri": "https://localhost:8080/",
          "height": 168
        }
      },
      "source": [
        "train_loss_set = []\n",
        "\n",
        "# Number of training epochs (authors recommend between 2 and 4)\n",
        "epochs = 4\n",
        "\n",
        "# trange is a tqdm wrapper around the normal python range\n",
        "for _ in trange(epochs, desc=\"Epoch\"):\n",
        "  \n",
        "  \n",
        "  # Training\n",
        "  \n",
        "  # Set our model to training mode (as opposed to evaluation mode)\n",
        "  model.train()\n",
        "  \n",
        "  # Tracking variables\n",
        "  tr_loss = 0\n",
        "  nb_tr_examples, nb_tr_steps = 0, 0\n",
        "  \n",
        "  # Train the data for one epoch\n",
        "  for step, batch in enumerate(train_dataloader):\n",
        "    # Add batch to GPU\n",
        "    batch = tuple(t.to(device) for t in batch)\n",
        "    # Unpack the inputs from our dataloader\n",
        "    b_input_ids, b_input_mask, b_labels = batch\n",
        "    # Clear out the gradients (by default they accumulate)\n",
        "    optimizer.zero_grad()\n",
        "    # Forward pass\n",
        "    outputs = model(b_input_ids, token_type_ids=None, attention_mask=b_input_mask, labels=b_labels)\n",
        "    loss = outputs[0]\n",
        "    logits = outputs[1]\n",
        "    train_loss_set.append(loss.item())    \n",
        "    # Backward pass\n",
        "    loss.backward()\n",
        "    # Update parameters and take a step using the computed gradient\n",
        "    optimizer.step()\n",
        "    \n",
        "    \n",
        "    # Update tracking variables\n",
        "    tr_loss += loss.item()\n",
        "    nb_tr_examples += b_input_ids.size(0)\n",
        "    nb_tr_steps += 1\n",
        "\n",
        "  print(\"Train loss: {}\".format(tr_loss/nb_tr_steps))\n",
        "    \n",
        "    \n",
        "  # Validation\n",
        "\n",
        "  # Put model in evaluation mode to evaluate loss on the validation set\n",
        "  model.eval()\n",
        "\n",
        "  # Tracking variables \n",
        "  eval_loss, eval_accuracy = 0, 0\n",
        "  nb_eval_steps, nb_eval_examples = 0, 0\n",
        "\n",
        "  # Evaluate data for one epoch\n",
        "  for batch in validation_dataloader:\n",
        "    # Add batch to GPU\n",
        "    batch = tuple(t.to(device) for t in batch)\n",
        "    # Unpack the inputs from our dataloader\n",
        "    b_input_ids, b_input_mask, b_labels = batch\n",
        "    # Telling the model not to compute or store gradients, saving memory and speeding up validation\n",
        "    with torch.no_grad():\n",
        "      # Forward pass, calculate logit predictions\n",
        "      output = model(b_input_ids, token_type_ids=None, attention_mask=b_input_mask)\n",
        "      logits = output[0]\n",
        "    \n",
        "    # Move logits and labels to CPU\n",
        "    logits = logits.detach().cpu().numpy()\n",
        "    label_ids = b_labels.to('cpu').numpy()\n",
        "\n",
        "    tmp_eval_accuracy = flat_accuracy(logits, label_ids)\n",
        "    \n",
        "    eval_accuracy += tmp_eval_accuracy\n",
        "    nb_eval_steps += 1\n",
        "\n",
        "  print(\"Validation Accuracy: {}\".format(eval_accuracy/nb_eval_steps))"
      ],
      "execution_count": 0,
      "outputs": [
        {
          "output_type": "stream",
          "text": [
            "\rEpoch:   0%|          | 0/4 [00:00<?, ?it/s]"
          ],
          "name": "stderr"
        },
        {
          "output_type": "stream",
          "text": [
            "Train loss: 0.6601764056631314\n"
          ],
          "name": "stdout"
        },
        {
          "output_type": "stream",
          "text": [
            "\rEpoch:  25%|██▌       | 1/4 [01:50<05:32, 110.95s/it]"
          ],
          "name": "stderr"
        },
        {
          "output_type": "stream",
          "text": [
            "Validation Accuracy: 0.6392857142857143\n",
            "Train loss: 0.65673081849211\n"
          ],
          "name": "stdout"
        },
        {
          "output_type": "stream",
          "text": [
            "\rEpoch:  50%|█████     | 2/4 [03:41<03:41, 110.85s/it]"
          ],
          "name": "stderr"
        },
        {
          "output_type": "stream",
          "text": [
            "Validation Accuracy: 0.6392857142857143\n",
            "Train loss: 0.6544092050803605\n"
          ],
          "name": "stdout"
        },
        {
          "output_type": "stream",
          "text": [
            "\rEpoch:  75%|███████▌  | 3/4 [05:32<01:50, 110.78s/it]"
          ],
          "name": "stderr"
        },
        {
          "output_type": "stream",
          "text": [
            "Validation Accuracy: 0.6392857142857143\n",
            "Train loss: 0.6552379366851622\n"
          ],
          "name": "stdout"
        },
        {
          "output_type": "stream",
          "text": [
            "\rEpoch: 100%|██████████| 4/4 [07:22<00:00, 110.74s/it]"
          ],
          "name": "stderr"
        },
        {
          "output_type": "stream",
          "text": [
            "Validation Accuracy: 0.6392857142857143\n"
          ],
          "name": "stdout"
        },
        {
          "output_type": "stream",
          "text": [
            "\n"
          ],
          "name": "stderr"
        }
      ]
    },
    {
      "cell_type": "code",
      "metadata": {
        "id": "NVM6fErlrxQL",
        "colab_type": "code",
        "outputId": "55418da1-4a1a-4b3a-f6ae-4870a6fa3585",
        "colab": {
          "base_uri": "https://localhost:8080/",
          "height": 513
        }
      },
      "source": [
        "plt.figure(figsize=(15,8))\n",
        "plt.title(\"Training loss\")\n",
        "plt.xlabel(\"Batch\")\n",
        "plt.ylabel(\"Loss\")\n",
        "plt.plot(train_loss_set)\n",
        "plt.show()"
      ],
      "execution_count": 0,
      "outputs": [
        {
          "output_type": "display_data",
          "data": {
            "image/png": "[encoded data removed]",
            "text/plain": [
              "<Figure size 1080x576 with 1 Axes>"
            ]
          },
          "metadata": {
            "tags": []
          }
        }
      ]
    }
  ]
}